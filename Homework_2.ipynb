{
  "nbformat": 4,
  "nbformat_minor": 0,
  "metadata": {
    "colab": {
      "provenance": [],
      "mount_file_id": "1ogBXs0TxYjndyj4f6qANUjWHFG6344rP",
      "authorship_tag": "ABX9TyOzGZgQ7Q21M3qIRyoozHZc",
      "include_colab_link": true
    },
    "kernelspec": {
      "name": "python3",
      "display_name": "Python 3"
    },
    "language_info": {
      "name": "python"
    }
  },
  "cells": [
    {
      "cell_type": "markdown",
      "metadata": {
        "id": "view-in-github",
        "colab_type": "text"
      },
      "source": [
        "<a href=\"https://colab.research.google.com/github/divana1/Homeworks/blob/main/Homework_2.ipynb\" target=\"_parent\"><img src=\"https://colab.research.google.com/assets/colab-badge.svg\" alt=\"Open In Colab\"/></a>"
      ]
    },
    {
      "cell_type": "markdown",
      "source": [
        "1.\tУкажите путь к рабочей папке, где хранятся данные, с помощью функции chdir() из модуля os.\n"
      ],
      "metadata": {
        "id": "csnd0UoH0-cZ"
      }
    },
    {
      "cell_type": "code",
      "execution_count": null,
      "metadata": {
        "id": "0pxfJ8tV3Rq5"
      },
      "outputs": [],
      "source": [
        "from scipy import stats\n",
        "import os\n",
        "import pandas as pd\n",
        "import numpy as np\n",
        "import matplotlib.pyplot as plt\n",
        "\n"
      ]
    },
    {
      "cell_type": "code",
      "source": [
        "os.chdir('/content/drive/MyDrive/data ML')"
      ],
      "metadata": {
        "id": "3jkjpukjr0Bc"
      },
      "execution_count": null,
      "outputs": []
    },
    {
      "cell_type": "markdown",
      "source": [
        "2.\tЗагрузите данные из файла town_1959_2.csv с помощью функции \n",
        "read_csv() из модуля pandas. Посмотрите на первые 5 наблюдений с помощью функции head().\n",
        "Я взяла датасет с калифорнийскими городами, использовала данные за 1980 год. https://www.kaggle.com/datasets/camnugent/california-housing-feature-engineering"
      ],
      "metadata": {
        "id": "BRFGFNba3our"
      }
    },
    {
      "cell_type": "code",
      "source": [
        "ds = pd.read_csv('/content/drive/MyDrive/data ML/cal_populations_city.csv', encoding='cp1251',index_col=0)\n",
        "ds.head(5)"
      ],
      "metadata": {
        "colab": {
          "base_uri": "https://localhost:8080/",
          "height": 237
        },
        "id": "wqgieATHFr_u",
        "outputId": "ede8023b-8977-442a-aa1a-6d0d58b4066e"
      },
      "execution_count": null,
      "outputs": [
        {
          "output_type": "execute_result",
          "data": {
            "text/plain": [
              "                        City Incorportation_date  pop_april_1980  \\\n",
              "County                                                             \n",
              "San Bernardino      Adelanto                1970          2164.0   \n",
              "Los Angeles     Agoura Hills                1982             NaN   \n",
              "Alameda              Alameda                1854         63852.0   \n",
              "Alameda               Albany                1908         15130.0   \n",
              "Los Angeles         Alhambra                1903         64767.0   \n",
              "\n",
              "                pop_april_1990  pop_april_2000  pop_april_2010  \n",
              "County                                                          \n",
              "San Bernardino            8517           18130           31765  \n",
              "Los Angeles              20390           20537           20330  \n",
              "Alameda                  76459           72259           73812  \n",
              "Alameda                  16327           16444           18539  \n",
              "Los Angeles              82106           85804           83089  "
            ],
            "text/html": [
              "\n",
              "  <div id=\"df-1429d46e-446e-412d-893c-567d12ebaf18\">\n",
              "    <div class=\"colab-df-container\">\n",
              "      <div>\n",
              "<style scoped>\n",
              "    .dataframe tbody tr th:only-of-type {\n",
              "        vertical-align: middle;\n",
              "    }\n",
              "\n",
              "    .dataframe tbody tr th {\n",
              "        vertical-align: top;\n",
              "    }\n",
              "\n",
              "    .dataframe thead th {\n",
              "        text-align: right;\n",
              "    }\n",
              "</style>\n",
              "<table border=\"1\" class=\"dataframe\">\n",
              "  <thead>\n",
              "    <tr style=\"text-align: right;\">\n",
              "      <th></th>\n",
              "      <th>City</th>\n",
              "      <th>Incorportation_date</th>\n",
              "      <th>pop_april_1980</th>\n",
              "      <th>pop_april_1990</th>\n",
              "      <th>pop_april_2000</th>\n",
              "      <th>pop_april_2010</th>\n",
              "    </tr>\n",
              "    <tr>\n",
              "      <th>County</th>\n",
              "      <th></th>\n",
              "      <th></th>\n",
              "      <th></th>\n",
              "      <th></th>\n",
              "      <th></th>\n",
              "      <th></th>\n",
              "    </tr>\n",
              "  </thead>\n",
              "  <tbody>\n",
              "    <tr>\n",
              "      <th>San Bernardino</th>\n",
              "      <td>Adelanto</td>\n",
              "      <td>1970</td>\n",
              "      <td>2164.0</td>\n",
              "      <td>8517</td>\n",
              "      <td>18130</td>\n",
              "      <td>31765</td>\n",
              "    </tr>\n",
              "    <tr>\n",
              "      <th>Los Angeles</th>\n",
              "      <td>Agoura Hills</td>\n",
              "      <td>1982</td>\n",
              "      <td>NaN</td>\n",
              "      <td>20390</td>\n",
              "      <td>20537</td>\n",
              "      <td>20330</td>\n",
              "    </tr>\n",
              "    <tr>\n",
              "      <th>Alameda</th>\n",
              "      <td>Alameda</td>\n",
              "      <td>1854</td>\n",
              "      <td>63852.0</td>\n",
              "      <td>76459</td>\n",
              "      <td>72259</td>\n",
              "      <td>73812</td>\n",
              "    </tr>\n",
              "    <tr>\n",
              "      <th>Alameda</th>\n",
              "      <td>Albany</td>\n",
              "      <td>1908</td>\n",
              "      <td>15130.0</td>\n",
              "      <td>16327</td>\n",
              "      <td>16444</td>\n",
              "      <td>18539</td>\n",
              "    </tr>\n",
              "    <tr>\n",
              "      <th>Los Angeles</th>\n",
              "      <td>Alhambra</td>\n",
              "      <td>1903</td>\n",
              "      <td>64767.0</td>\n",
              "      <td>82106</td>\n",
              "      <td>85804</td>\n",
              "      <td>83089</td>\n",
              "    </tr>\n",
              "  </tbody>\n",
              "</table>\n",
              "</div>\n",
              "      <button class=\"colab-df-convert\" onclick=\"convertToInteractive('df-1429d46e-446e-412d-893c-567d12ebaf18')\"\n",
              "              title=\"Convert this dataframe to an interactive table.\"\n",
              "              style=\"display:none;\">\n",
              "        \n",
              "  <svg xmlns=\"http://www.w3.org/2000/svg\" height=\"24px\"viewBox=\"0 0 24 24\"\n",
              "       width=\"24px\">\n",
              "    <path d=\"M0 0h24v24H0V0z\" fill=\"none\"/>\n",
              "    <path d=\"M18.56 5.44l.94 2.06.94-2.06 2.06-.94-2.06-.94-.94-2.06-.94 2.06-2.06.94zm-11 1L8.5 8.5l.94-2.06 2.06-.94-2.06-.94L8.5 2.5l-.94 2.06-2.06.94zm10 10l.94 2.06.94-2.06 2.06-.94-2.06-.94-.94-2.06-.94 2.06-2.06.94z\"/><path d=\"M17.41 7.96l-1.37-1.37c-.4-.4-.92-.59-1.43-.59-.52 0-1.04.2-1.43.59L10.3 9.45l-7.72 7.72c-.78.78-.78 2.05 0 2.83L4 21.41c.39.39.9.59 1.41.59.51 0 1.02-.2 1.41-.59l7.78-7.78 2.81-2.81c.8-.78.8-2.07 0-2.86zM5.41 20L4 18.59l7.72-7.72 1.47 1.35L5.41 20z\"/>\n",
              "  </svg>\n",
              "      </button>\n",
              "      \n",
              "  <style>\n",
              "    .colab-df-container {\n",
              "      display:flex;\n",
              "      flex-wrap:wrap;\n",
              "      gap: 12px;\n",
              "    }\n",
              "\n",
              "    .colab-df-convert {\n",
              "      background-color: #E8F0FE;\n",
              "      border: none;\n",
              "      border-radius: 50%;\n",
              "      cursor: pointer;\n",
              "      display: none;\n",
              "      fill: #1967D2;\n",
              "      height: 32px;\n",
              "      padding: 0 0 0 0;\n",
              "      width: 32px;\n",
              "    }\n",
              "\n",
              "    .colab-df-convert:hover {\n",
              "      background-color: #E2EBFA;\n",
              "      box-shadow: 0px 1px 2px rgba(60, 64, 67, 0.3), 0px 1px 3px 1px rgba(60, 64, 67, 0.15);\n",
              "      fill: #174EA6;\n",
              "    }\n",
              "\n",
              "    [theme=dark] .colab-df-convert {\n",
              "      background-color: #3B4455;\n",
              "      fill: #D2E3FC;\n",
              "    }\n",
              "\n",
              "    [theme=dark] .colab-df-convert:hover {\n",
              "      background-color: #434B5C;\n",
              "      box-shadow: 0px 1px 3px 1px rgba(0, 0, 0, 0.15);\n",
              "      filter: drop-shadow(0px 1px 2px rgba(0, 0, 0, 0.3));\n",
              "      fill: #FFFFFF;\n",
              "    }\n",
              "  </style>\n",
              "\n",
              "      <script>\n",
              "        const buttonEl =\n",
              "          document.querySelector('#df-1429d46e-446e-412d-893c-567d12ebaf18 button.colab-df-convert');\n",
              "        buttonEl.style.display =\n",
              "          google.colab.kernel.accessAllowed ? 'block' : 'none';\n",
              "\n",
              "        async function convertToInteractive(key) {\n",
              "          const element = document.querySelector('#df-1429d46e-446e-412d-893c-567d12ebaf18');\n",
              "          const dataTable =\n",
              "            await google.colab.kernel.invokeFunction('convertToInteractive',\n",
              "                                                     [key], {});\n",
              "          if (!dataTable) return;\n",
              "\n",
              "          const docLinkHtml = 'Like what you see? Visit the ' +\n",
              "            '<a target=\"_blank\" href=https://colab.research.google.com/notebooks/data_table.ipynb>data table notebook</a>'\n",
              "            + ' to learn more about interactive tables.';\n",
              "          element.innerHTML = '';\n",
              "          dataTable['output_type'] = 'display_data';\n",
              "          await google.colab.output.renderOutput(dataTable, element);\n",
              "          const docLink = document.createElement('div');\n",
              "          docLink.innerHTML = docLinkHtml;\n",
              "          element.appendChild(docLink);\n",
              "        }\n",
              "      </script>\n",
              "    </div>\n",
              "  </div>\n",
              "  "
            ]
          },
          "metadata": {},
          "execution_count": 6
        }
      ]
    },
    {
      "cell_type": "code",
      "source": [
        "ds.describe"
      ],
      "metadata": {
        "colab": {
          "base_uri": "https://localhost:8080/"
        },
        "id": "jiOcpdzHHT82",
        "outputId": "2e4d531f-70ed-49ca-8b1a-607559e2a414"
      },
      "execution_count": null,
      "outputs": [
        {
          "output_type": "execute_result",
          "data": {
            "text/plain": [
              "<bound method NDFrame.describe of                         City Incorportation_date  pop_april_1980  \\\n",
              "County                                                             \n",
              "San Bernardino      Adelanto                1970          2164.0   \n",
              "Los Angeles     Agoura Hills                1982             NaN   \n",
              "Alameda              Alameda                1854         63852.0   \n",
              "Alameda               Albany                1908         15130.0   \n",
              "Los Angeles         Alhambra                1903         64767.0   \n",
              "...                      ...                 ...             ...   \n",
              "Orange           Yorba Linda                1967         28254.0   \n",
              "Napa              Yountville                1965          2893.0   \n",
              "Siskiyou               Yreka                1857          5916.0   \n",
              "Sutter             Yuba City                1908         18736.0   \n",
              "San Bernardino       Yucaipa                1989             NaN   \n",
              "\n",
              "                pop_april_1990  pop_april_2000  pop_april_2010  \n",
              "County                                                          \n",
              "San Bernardino            8517           18130           31765  \n",
              "Los Angeles              20390           20537           20330  \n",
              "Alameda                  76459           72259           73812  \n",
              "Alameda                  16327           16444           18539  \n",
              "Los Angeles              82106           85804           83089  \n",
              "...                        ...             ...             ...  \n",
              "Orange                   52422           58918           64234  \n",
              "Napa                      3259            3297            2933  \n",
              "Siskiyou                  6948            7290            7765  \n",
              "Sutter                   27437           36758           64925  \n",
              "San Bernardino           32824           41207           51367  \n",
              "\n",
              "[455 rows x 6 columns]>"
            ]
          },
          "metadata": {},
          "execution_count": 7
        }
      ]
    },
    {
      "cell_type": "code",
      "source": [
        "ds.info()"
      ],
      "metadata": {
        "colab": {
          "base_uri": "https://localhost:8080/"
        },
        "id": "IMQeNv-fHV0_",
        "outputId": "f0dc45e4-5915-4dd3-9643-0bdf50e53c10"
      },
      "execution_count": null,
      "outputs": [
        {
          "output_type": "stream",
          "name": "stdout",
          "text": [
            "<class 'pandas.core.frame.DataFrame'>\n",
            "Index: 455 entries, San Bernardino to San Bernardino\n",
            "Data columns (total 6 columns):\n",
            " #   Column               Non-Null Count  Dtype  \n",
            "---  ------               --------------  -----  \n",
            " 0   City                 455 non-null    object \n",
            " 1   Incorportation_date  455 non-null    object \n",
            " 2   pop_april_1980       425 non-null    float64\n",
            " 3   pop_april_1990       455 non-null    int64  \n",
            " 4   pop_april_2000       455 non-null    int64  \n",
            " 5   pop_april_2010       455 non-null    int64  \n",
            "dtypes: float64(1), int64(3), object(2)\n",
            "memory usage: 41.0+ KB\n"
          ]
        }
      ]
    },
    {
      "cell_type": "markdown",
      "source": [
        "Постройте гистограмму для логарифма численности населения городов, воспользовавшись функцией log10 из модуля numpy для логарифмирования и функцией hist() из модуля matplotlib.pyplot. Сделайте предположение о нормальности прологарифмированных данных"
      ],
      "metadata": {
        "id": "T8-Dm5wd3t0D"
      }
    },
    {
      "cell_type": "code",
      "source": [
        "plt.hist(np.log10(ds['pop_april_1990']))\n",
        "plt.show()\n",
        "#распределение со смещением, отличается от нормального"
      ],
      "metadata": {
        "colab": {
          "base_uri": "https://localhost:8080/",
          "height": 265
        },
        "id": "Xsx05lH702f9",
        "outputId": "31494bd8-9512-49df-a0bf-847163f595b2"
      },
      "execution_count": null,
      "outputs": [
        {
          "output_type": "display_data",
          "data": {
            "text/plain": [
              "<Figure size 432x288 with 1 Axes>"
            ],
            "image/png": "[encoded data removed]"
          },
          "metadata": {
            "needs_background": "light"
          }
        }
      ]
    },
    {
      "cell_type": "markdown",
      "source": [
        "Проведите проверку гипотезы о нормальности распределения прологарифмированных данных на основе критерия Шапиро-Уилка, воспользовавшись функцией shapiro() из модуля scipy.stats. Прокомментируйте результат"
      ],
      "metadata": {
        "id": "qigVbUJ_8Pfz"
      }
    },
    {
      "cell_type": "code",
      "source": [
        "stats.shapiro(np.log10(ds['pop_april_1990']))"
      ],
      "metadata": {
        "colab": {
          "base_uri": "https://localhost:8080/"
        },
        "id": "26Dj_O7d7Gzp",
        "outputId": "4b448d39-4e8a-46ae-eadd-c0afdb84e07a"
      },
      "execution_count": null,
      "outputs": [
        {
          "output_type": "execute_result",
          "data": {
            "text/plain": [
              "ShapiroResult(statistic=0.9852422475814819, pvalue=0.00014055344217922539)"
            ]
          },
          "metadata": {},
          "execution_count": 9
        }
      ]
    },
    {
      "cell_type": "markdown",
      "source": [
        "Вывод: распределение отличается от нормального, т.к. p-value составляет > 0.05 -  0.0001."
      ],
      "metadata": {
        "id": "zozA53zOH0z3"
      }
    },
    {
      "cell_type": "markdown",
      "source": [
        "5.\tЗагрузите данные из файла Albuquerque Home Prices_data.txt с помощью функции read_csv() из модуля pandas. Замените значение -9999, которое здесь употребляется в качестве пустого значения, на корректное пустое значение nan из модуля numpy. Воспользуйтесь при этом функцией replace(). Выведите на экран первые 5 наблюдений преобразованных данных.\n",
        "Я выгрузила датасет house prices in Perth https://www.kaggle.com/datasets/syuzai/perth-house-prices"
      ],
      "metadata": {
        "id": "HFcr6kqQJTko"
      }
    },
    {
      "cell_type": "code",
      "source": [
        "hs = pd.read_csv('/content/drive/MyDrive/data ML/all_perth_310121.csv')\n",
        "hs.head(20)"
      ],
      "metadata": {
        "colab": {
          "base_uri": "https://localhost:8080/",
          "height": 1000
        },
        "id": "lF6kX-bpJS95",
        "outputId": "a5a4c5bb-c23c-4ce9-eb96-052a4c79aa17"
      },
      "execution_count": null,
      "outputs": [
        {
          "output_type": "execute_result",
          "data": {
            "text/plain": [
              "                 ADDRESS        SUBURB   PRICE  BEDROOMS  BATHROOMS  GARAGE  \\\n",
              "0          1 Acorn Place    South Lake  565000         4          2     2.0   \n",
              "1            1 Addis Way         Wandi  365000         3          2     2.0   \n",
              "2        1 Ainsley Court       Camillo  287000         3          1     1.0   \n",
              "3        1 Albert Street      Bellevue  255000         2          1     2.0   \n",
              "4           1 Aman Place     Lockridge  325000         4          1     2.0   \n",
              "5    1 Amethyst Crescent  Mount Richon  409000         4          2     1.0   \n",
              "6          1 Ardara Lane       Hilbert  400000         3          2     2.0   \n",
              "7         1 Arnside Bend       Waikiki  370000         4          2     2.0   \n",
              "8       1 Arrochar Court     Hamersley  565000         4          2     3.0   \n",
              "9       1 Arundel Street     Bayswater  685000         3          2     8.0   \n",
              "10            1 Ash Road        Carmel  675000         4          2     6.0   \n",
              "11        1 Ashcott Gate        Butler  367500         3          2     2.0   \n",
              "12        1 Ashcroft Way         Balga  300000         3          2     2.0   \n",
              "13  1 Ashendon Boulevard  Hammond Park  535000         4          2     4.0   \n",
              "14   1 Ashtree Boulevard  Wattle Grove  540000         4          2     2.0   \n",
              "15        1 August Court    Bull Creek  685000         3          2     3.0   \n",
              "16       1 Avonlea Place    Bullsbrook  350000         4          2     2.0   \n",
              "17       1 Babbler Court    Maida Vale  570000         4          2     2.0   \n",
              "18         1 Balga Place     Koongamia  318000         2          1     3.0   \n",
              "19      1 Bamlett Street  Mount Nasura  379000         3          2     3.0   \n",
              "\n",
              "    LAND_AREA  FLOOR_AREA  BUILD_YEAR  CBD_DIST               NEAREST_STN  \\\n",
              "0         600         160      2003.0     18300  Cockburn Central Station   \n",
              "1         351         139      2013.0     26900           Kwinana Station   \n",
              "2         719          86      1979.0     22600           Challis Station   \n",
              "3         651          59      1953.0     17900           Midland Station   \n",
              "4         466         131      1998.0     11200        Bassendean Station   \n",
              "5         759         118      1991.0     27300          Armadale Station   \n",
              "6         386         132      2014.0     28200          Armadale Station   \n",
              "7         468         158      2013.0     41700           Warnbro Station   \n",
              "8         875         168      1983.0     12100           Warwick Station   \n",
              "9         552         126      1999.0      5900         Bayswater Station   \n",
              "10       2538         241      1977.0     22900                   Madding   \n",
              "11        398         158      2003.0     36300            Butler Station   \n",
              "12        243          94      2008.0     11500           Warwick Station   \n",
              "13        704         247      2002.0     23100  Cockburn Central Station   \n",
              "14        614         186      2004.0     13100                   Madding   \n",
              "15        706         196      1985.0     12500           Murdoch Station   \n",
              "16        663         154      1994.0     36700           Midland Station   \n",
              "17        568         225      2003.0     15300           Midland Station   \n",
              "18        751          90      1959.0     18100           Midland Station   \n",
              "19        785         167      1977.0     25400           Challis Station   \n",
              "\n",
              "    NEAREST_STN_DIST  DATE_SOLD  POSTCODE   LATITUDE   LONGITUDE  \\\n",
              "0               1800  09-2018\\r      6164 -32.115900  115.842450   \n",
              "1               4900  02-2019\\r      6167 -32.193470  115.859554   \n",
              "2               1900  06-2015\\r      6111 -32.120578  115.993579   \n",
              "3               3600  07-2018\\r      6056 -31.900547  116.038009   \n",
              "4               2000  11-2016\\r      6054 -31.885790  115.947780   \n",
              "5               1000  03-2013\\r      6112 -32.153801  116.023658   \n",
              "6               3700  05-2016\\r      6112 -32.179978  115.988647   \n",
              "7               1100  03-2019\\r      6169 -32.317662  115.761968   \n",
              "8               2500  06-2020\\r      6022 -31.847760  115.822700   \n",
              "9                508  10-2019\\r      6053 -31.917880  115.907050   \n",
              "10             10700  07-2014\\r      6076 -32.015740  116.088910   \n",
              "11              2100  11-2018\\r      6036 -31.654280  115.702200   \n",
              "12              4800  12-2019\\r      6061 -31.849647  115.846314   \n",
              "13              3900  07-2019\\r      6164 -32.159590  115.849480   \n",
              "14              5100  05-2018\\r      6107 -32.002948  115.983646   \n",
              "15               961  11-2017\\r      6149 -32.064580  115.860460   \n",
              "16             26000  11-2017\\r      6084 -31.660688  116.040716   \n",
              "17              7000  10-2020\\r      6057 -31.952420  116.020700   \n",
              "18              4100  05-2013\\r      6056 -31.904090  116.042130   \n",
              "19              1300  08-2017\\r      6112 -32.132470  116.024200   \n",
              "\n",
              "                     NEAREST_SCH  NEAREST_SCH_DIST  NEAREST_SCH_RANK  \n",
              "0    LAKELAND SENIOR HIGH SCHOOL          0.828339               NaN  \n",
              "1                 ATWELL COLLEGE          5.524324             129.0  \n",
              "2   KELMSCOTT SENIOR HIGH SCHOOL          1.649178             113.0  \n",
              "3   SWAN VIEW SENIOR HIGH SCHOOL          1.571401               NaN  \n",
              "4                  KIARA COLLEGE          1.514922               NaN  \n",
              "5    ARMADALE SENIOR HIGH SCHOOL          1.227219               NaN  \n",
              "6          DALE CHRISTIAN SCHOOL          2.485731               NaN  \n",
              "7    SOUTH COAST BAPTIST COLLEGE          0.491573               NaN  \n",
              "8     WARWICK SENIOR HIGH SCHOOL          1.221928               NaN  \n",
              "9      CHISHOLM CATHOLIC COLLEGE          0.936243              29.0  \n",
              "10      CARMEL ADVENTIST COLLEGE          0.496401               NaN  \n",
              "11                BUTLER COLLEGE          0.680843              39.0  \n",
              "12      BALGA SENIOR HIGH SCHOOL          0.189350               NaN  \n",
              "13                ATWELL COLLEGE          2.220643             129.0  \n",
              "14    REHOBOTH CHRISTIAN COLLEGE          3.234399               NaN  \n",
              "15    LEEMING SENIOR HIGH SCHOOL          1.183363              89.0  \n",
              "16            HOLY CROSS COLLEGE         14.013548              98.0  \n",
              "17  DARLING RANGE SPORTS COLLEGE          2.746772             137.0  \n",
              "18  SWAN VIEW SENIOR HIGH SCHOOL          1.859247               NaN  \n",
              "19  SOWILO COMMUNITY HIGH SCHOOL          1.364196               NaN  "
            ],
            "text/html": [
              "\n",
              "  <div id=\"df-7524cb91-3656-4382-85ca-f32a86043736\">\n",
              "    <div class=\"colab-df-container\">\n",
              "      <div>\n",
              "<style scoped>\n",
              "    .dataframe tbody tr th:only-of-type {\n",
              "        vertical-align: middle;\n",
              "    }\n",
              "\n",
              "    .dataframe tbody tr th {\n",
              "        vertical-align: top;\n",
              "    }\n",
              "\n",
              "    .dataframe thead th {\n",
              "        text-align: right;\n",
              "    }\n",
              "</style>\n",
              "<table border=\"1\" class=\"dataframe\">\n",
              "  <thead>\n",
              "    <tr style=\"text-align: right;\">\n",
              "      <th></th>\n",
              "      <th>ADDRESS</th>\n",
              "      <th>SUBURB</th>\n",
              "      <th>PRICE</th>\n",
              "      <th>BEDROOMS</th>\n",
              "      <th>BATHROOMS</th>\n",
              "      <th>GARAGE</th>\n",
              "      <th>LAND_AREA</th>\n",
              "      <th>FLOOR_AREA</th>\n",
              "      <th>BUILD_YEAR</th>\n",
              "      <th>CBD_DIST</th>\n",
              "      <th>NEAREST_STN</th>\n",
              "      <th>NEAREST_STN_DIST</th>\n",
              "      <th>DATE_SOLD</th>\n",
              "      <th>POSTCODE</th>\n",
              "      <th>LATITUDE</th>\n",
              "      <th>LONGITUDE</th>\n",
              "      <th>NEAREST_SCH</th>\n",
              "      <th>NEAREST_SCH_DIST</th>\n",
              "      <th>NEAREST_SCH_RANK</th>\n",
              "    </tr>\n",
              "  </thead>\n",
              "  <tbody>\n",
              "    <tr>\n",
              "      <th>0</th>\n",
              "      <td>1 Acorn Place</td>\n",
              "      <td>South Lake</td>\n",
              "      <td>565000</td>\n",
              "      <td>4</td>\n",
              "      <td>2</td>\n",
              "      <td>2.0</td>\n",
              "      <td>600</td>\n",
              "      <td>160</td>\n",
              "      <td>2003.0</td>\n",
              "      <td>18300</td>\n",
              "      <td>Cockburn Central Station</td>\n",
              "      <td>1800</td>\n",
              "      <td>09-2018\\r</td>\n",
              "      <td>6164</td>\n",
              "      <td>-32.115900</td>\n",
              "      <td>115.842450</td>\n",
              "      <td>LAKELAND SENIOR HIGH SCHOOL</td>\n",
              "      <td>0.828339</td>\n",
              "      <td>NaN</td>\n",
              "    </tr>\n",
              "    <tr>\n",
              "      <th>1</th>\n",
              "      <td>1 Addis Way</td>\n",
              "      <td>Wandi</td>\n",
              "      <td>365000</td>\n",
              "      <td>3</td>\n",
              "      <td>2</td>\n",
              "      <td>2.0</td>\n",
              "      <td>351</td>\n",
              "      <td>139</td>\n",
              "      <td>2013.0</td>\n",
              "      <td>26900</td>\n",
              "      <td>Kwinana Station</td>\n",
              "      <td>4900</td>\n",
              "      <td>02-2019\\r</td>\n",
              "      <td>6167</td>\n",
              "      <td>-32.193470</td>\n",
              "      <td>115.859554</td>\n",
              "      <td>ATWELL COLLEGE</td>\n",
              "      <td>5.524324</td>\n",
              "      <td>129.0</td>\n",
              "    </tr>\n",
              "    <tr>\n",
              "      <th>2</th>\n",
              "      <td>1 Ainsley Court</td>\n",
              "      <td>Camillo</td>\n",
              "      <td>287000</td>\n",
              "      <td>3</td>\n",
              "      <td>1</td>\n",
              "      <td>1.0</td>\n",
              "      <td>719</td>\n",
              "      <td>86</td>\n",
              "      <td>1979.0</td>\n",
              "      <td>22600</td>\n",
              "      <td>Challis Station</td>\n",
              "      <td>1900</td>\n",
              "      <td>06-2015\\r</td>\n",
              "      <td>6111</td>\n",
              "      <td>-32.120578</td>\n",
              "      <td>115.993579</td>\n",
              "      <td>KELMSCOTT SENIOR HIGH SCHOOL</td>\n",
              "      <td>1.649178</td>\n",
              "      <td>113.0</td>\n",
              "    </tr>\n",
              "    <tr>\n",
              "      <th>3</th>\n",
              "      <td>1 Albert Street</td>\n",
              "      <td>Bellevue</td>\n",
              "      <td>255000</td>\n",
              "      <td>2</td>\n",
              "      <td>1</td>\n",
              "      <td>2.0</td>\n",
              "      <td>651</td>\n",
              "      <td>59</td>\n",
              "      <td>1953.0</td>\n",
              "      <td>17900</td>\n",
              "      <td>Midland Station</td>\n",
              "      <td>3600</td>\n",
              "      <td>07-2018\\r</td>\n",
              "      <td>6056</td>\n",
              "      <td>-31.900547</td>\n",
              "      <td>116.038009</td>\n",
              "      <td>SWAN VIEW SENIOR HIGH SCHOOL</td>\n",
              "      <td>1.571401</td>\n",
              "      <td>NaN</td>\n",
              "    </tr>\n",
              "    <tr>\n",
              "      <th>4</th>\n",
              "      <td>1 Aman Place</td>\n",
              "      <td>Lockridge</td>\n",
              "      <td>325000</td>\n",
              "      <td>4</td>\n",
              "      <td>1</td>\n",
              "      <td>2.0</td>\n",
              "      <td>466</td>\n",
              "      <td>131</td>\n",
              "      <td>1998.0</td>\n",
              "      <td>11200</td>\n",
              "      <td>Bassendean Station</td>\n",
              "      <td>2000</td>\n",
              "      <td>11-2016\\r</td>\n",
              "      <td>6054</td>\n",
              "      <td>-31.885790</td>\n",
              "      <td>115.947780</td>\n",
              "      <td>KIARA COLLEGE</td>\n",
              "      <td>1.514922</td>\n",
              "      <td>NaN</td>\n",
              "    </tr>\n",
              "    <tr>\n",
              "      <th>5</th>\n",
              "      <td>1 Amethyst Crescent</td>\n",
              "      <td>Mount Richon</td>\n",
              "      <td>409000</td>\n",
              "      <td>4</td>\n",
              "      <td>2</td>\n",
              "      <td>1.0</td>\n",
              "      <td>759</td>\n",
              "      <td>118</td>\n",
              "      <td>1991.0</td>\n",
              "      <td>27300</td>\n",
              "      <td>Armadale Station</td>\n",
              "      <td>1000</td>\n",
              "      <td>03-2013\\r</td>\n",
              "      <td>6112</td>\n",
              "      <td>-32.153801</td>\n",
              "      <td>116.023658</td>\n",
              "      <td>ARMADALE SENIOR HIGH SCHOOL</td>\n",
              "      <td>1.227219</td>\n",
              "      <td>NaN</td>\n",
              "    </tr>\n",
              "    <tr>\n",
              "      <th>6</th>\n",
              "      <td>1 Ardara Lane</td>\n",
              "      <td>Hilbert</td>\n",
              "      <td>400000</td>\n",
              "      <td>3</td>\n",
              "      <td>2</td>\n",
              "      <td>2.0</td>\n",
              "      <td>386</td>\n",
              "      <td>132</td>\n",
              "      <td>2014.0</td>\n",
              "      <td>28200</td>\n",
              "      <td>Armadale Station</td>\n",
              "      <td>3700</td>\n",
              "      <td>05-2016\\r</td>\n",
              "      <td>6112</td>\n",
              "      <td>-32.179978</td>\n",
              "      <td>115.988647</td>\n",
              "      <td>DALE CHRISTIAN SCHOOL</td>\n",
              "      <td>2.485731</td>\n",
              "      <td>NaN</td>\n",
              "    </tr>\n",
              "    <tr>\n",
              "      <th>7</th>\n",
              "      <td>1 Arnside Bend</td>\n",
              "      <td>Waikiki</td>\n",
              "      <td>370000</td>\n",
              "      <td>4</td>\n",
              "      <td>2</td>\n",
              "      <td>2.0</td>\n",
              "      <td>468</td>\n",
              "      <td>158</td>\n",
              "      <td>2013.0</td>\n",
              "      <td>41700</td>\n",
              "      <td>Warnbro Station</td>\n",
              "      <td>1100</td>\n",
              "      <td>03-2019\\r</td>\n",
              "      <td>6169</td>\n",
              "      <td>-32.317662</td>\n",
              "      <td>115.761968</td>\n",
              "      <td>SOUTH COAST BAPTIST COLLEGE</td>\n",
              "      <td>0.491573</td>\n",
              "      <td>NaN</td>\n",
              "    </tr>\n",
              "    <tr>\n",
              "      <th>8</th>\n",
              "      <td>1 Arrochar Court</td>\n",
              "      <td>Hamersley</td>\n",
              "      <td>565000</td>\n",
              "      <td>4</td>\n",
              "      <td>2</td>\n",
              "      <td>3.0</td>\n",
              "      <td>875</td>\n",
              "      <td>168</td>\n",
              "      <td>1983.0</td>\n",
              "      <td>12100</td>\n",
              "      <td>Warwick Station</td>\n",
              "      <td>2500</td>\n",
              "      <td>06-2020\\r</td>\n",
              "      <td>6022</td>\n",
              "      <td>-31.847760</td>\n",
              "      <td>115.822700</td>\n",
              "      <td>WARWICK SENIOR HIGH SCHOOL</td>\n",
              "      <td>1.221928</td>\n",
              "      <td>NaN</td>\n",
              "    </tr>\n",
              "    <tr>\n",
              "      <th>9</th>\n",
              "      <td>1 Arundel Street</td>\n",
              "      <td>Bayswater</td>\n",
              "      <td>685000</td>\n",
              "      <td>3</td>\n",
              "      <td>2</td>\n",
              "      <td>8.0</td>\n",
              "      <td>552</td>\n",
              "      <td>126</td>\n",
              "      <td>1999.0</td>\n",
              "      <td>5900</td>\n",
              "      <td>Bayswater Station</td>\n",
              "      <td>508</td>\n",
              "      <td>10-2019\\r</td>\n",
              "      <td>6053</td>\n",
              "      <td>-31.917880</td>\n",
              "      <td>115.907050</td>\n",
              "      <td>CHISHOLM CATHOLIC COLLEGE</td>\n",
              "      <td>0.936243</td>\n",
              "      <td>29.0</td>\n",
              "    </tr>\n",
              "    <tr>\n",
              "      <th>10</th>\n",
              "      <td>1 Ash Road</td>\n",
              "      <td>Carmel</td>\n",
              "      <td>675000</td>\n",
              "      <td>4</td>\n",
              "      <td>2</td>\n",
              "      <td>6.0</td>\n",
              "      <td>2538</td>\n",
              "      <td>241</td>\n",
              "      <td>1977.0</td>\n",
              "      <td>22900</td>\n",
              "      <td>Madding</td>\n",
              "      <td>10700</td>\n",
              "      <td>07-2014\\r</td>\n",
              "      <td>6076</td>\n",
              "      <td>-32.015740</td>\n",
              "      <td>116.088910</td>\n",
              "      <td>CARMEL ADVENTIST COLLEGE</td>\n",
              "      <td>0.496401</td>\n",
              "      <td>NaN</td>\n",
              "    </tr>\n",
              "    <tr>\n",
              "      <th>11</th>\n",
              "      <td>1 Ashcott Gate</td>\n",
              "      <td>Butler</td>\n",
              "      <td>367500</td>\n",
              "      <td>3</td>\n",
              "      <td>2</td>\n",
              "      <td>2.0</td>\n",
              "      <td>398</td>\n",
              "      <td>158</td>\n",
              "      <td>2003.0</td>\n",
              "      <td>36300</td>\n",
              "      <td>Butler Station</td>\n",
              "      <td>2100</td>\n",
              "      <td>11-2018\\r</td>\n",
              "      <td>6036</td>\n",
              "      <td>-31.654280</td>\n",
              "      <td>115.702200</td>\n",
              "      <td>BUTLER COLLEGE</td>\n",
              "      <td>0.680843</td>\n",
              "      <td>39.0</td>\n",
              "    </tr>\n",
              "    <tr>\n",
              "      <th>12</th>\n",
              "      <td>1 Ashcroft Way</td>\n",
              "      <td>Balga</td>\n",
              "      <td>300000</td>\n",
              "      <td>3</td>\n",
              "      <td>2</td>\n",
              "      <td>2.0</td>\n",
              "      <td>243</td>\n",
              "      <td>94</td>\n",
              "      <td>2008.0</td>\n",
              "      <td>11500</td>\n",
              "      <td>Warwick Station</td>\n",
              "      <td>4800</td>\n",
              "      <td>12-2019\\r</td>\n",
              "      <td>6061</td>\n",
              "      <td>-31.849647</td>\n",
              "      <td>115.846314</td>\n",
              "      <td>BALGA SENIOR HIGH SCHOOL</td>\n",
              "      <td>0.189350</td>\n",
              "      <td>NaN</td>\n",
              "    </tr>\n",
              "    <tr>\n",
              "      <th>13</th>\n",
              "      <td>1 Ashendon Boulevard</td>\n",
              "      <td>Hammond Park</td>\n",
              "      <td>535000</td>\n",
              "      <td>4</td>\n",
              "      <td>2</td>\n",
              "      <td>4.0</td>\n",
              "      <td>704</td>\n",
              "      <td>247</td>\n",
              "      <td>2002.0</td>\n",
              "      <td>23100</td>\n",
              "      <td>Cockburn Central Station</td>\n",
              "      <td>3900</td>\n",
              "      <td>07-2019\\r</td>\n",
              "      <td>6164</td>\n",
              "      <td>-32.159590</td>\n",
              "      <td>115.849480</td>\n",
              "      <td>ATWELL COLLEGE</td>\n",
              "      <td>2.220643</td>\n",
              "      <td>129.0</td>\n",
              "    </tr>\n",
              "    <tr>\n",
              "      <th>14</th>\n",
              "      <td>1 Ashtree Boulevard</td>\n",
              "      <td>Wattle Grove</td>\n",
              "      <td>540000</td>\n",
              "      <td>4</td>\n",
              "      <td>2</td>\n",
              "      <td>2.0</td>\n",
              "      <td>614</td>\n",
              "      <td>186</td>\n",
              "      <td>2004.0</td>\n",
              "      <td>13100</td>\n",
              "      <td>Madding</td>\n",
              "      <td>5100</td>\n",
              "      <td>05-2018\\r</td>\n",
              "      <td>6107</td>\n",
              "      <td>-32.002948</td>\n",
              "      <td>115.983646</td>\n",
              "      <td>REHOBOTH CHRISTIAN COLLEGE</td>\n",
              "      <td>3.234399</td>\n",
              "      <td>NaN</td>\n",
              "    </tr>\n",
              "    <tr>\n",
              "      <th>15</th>\n",
              "      <td>1 August Court</td>\n",
              "      <td>Bull Creek</td>\n",
              "      <td>685000</td>\n",
              "      <td>3</td>\n",
              "      <td>2</td>\n",
              "      <td>3.0</td>\n",
              "      <td>706</td>\n",
              "      <td>196</td>\n",
              "      <td>1985.0</td>\n",
              "      <td>12500</td>\n",
              "      <td>Murdoch Station</td>\n",
              "      <td>961</td>\n",
              "      <td>11-2017\\r</td>\n",
              "      <td>6149</td>\n",
              "      <td>-32.064580</td>\n",
              "      <td>115.860460</td>\n",
              "      <td>LEEMING SENIOR HIGH SCHOOL</td>\n",
              "      <td>1.183363</td>\n",
              "      <td>89.0</td>\n",
              "    </tr>\n",
              "    <tr>\n",
              "      <th>16</th>\n",
              "      <td>1 Avonlea Place</td>\n",
              "      <td>Bullsbrook</td>\n",
              "      <td>350000</td>\n",
              "      <td>4</td>\n",
              "      <td>2</td>\n",
              "      <td>2.0</td>\n",
              "      <td>663</td>\n",
              "      <td>154</td>\n",
              "      <td>1994.0</td>\n",
              "      <td>36700</td>\n",
              "      <td>Midland Station</td>\n",
              "      <td>26000</td>\n",
              "      <td>11-2017\\r</td>\n",
              "      <td>6084</td>\n",
              "      <td>-31.660688</td>\n",
              "      <td>116.040716</td>\n",
              "      <td>HOLY CROSS COLLEGE</td>\n",
              "      <td>14.013548</td>\n",
              "      <td>98.0</td>\n",
              "    </tr>\n",
              "    <tr>\n",
              "      <th>17</th>\n",
              "      <td>1 Babbler Court</td>\n",
              "      <td>Maida Vale</td>\n",
              "      <td>570000</td>\n",
              "      <td>4</td>\n",
              "      <td>2</td>\n",
              "      <td>2.0</td>\n",
              "      <td>568</td>\n",
              "      <td>225</td>\n",
              "      <td>2003.0</td>\n",
              "      <td>15300</td>\n",
              "      <td>Midland Station</td>\n",
              "      <td>7000</td>\n",
              "      <td>10-2020\\r</td>\n",
              "      <td>6057</td>\n",
              "      <td>-31.952420</td>\n",
              "      <td>116.020700</td>\n",
              "      <td>DARLING RANGE SPORTS COLLEGE</td>\n",
              "      <td>2.746772</td>\n",
              "      <td>137.0</td>\n",
              "    </tr>\n",
              "    <tr>\n",
              "      <th>18</th>\n",
              "      <td>1 Balga Place</td>\n",
              "      <td>Koongamia</td>\n",
              "      <td>318000</td>\n",
              "      <td>2</td>\n",
              "      <td>1</td>\n",
              "      <td>3.0</td>\n",
              "      <td>751</td>\n",
              "      <td>90</td>\n",
              "      <td>1959.0</td>\n",
              "      <td>18100</td>\n",
              "      <td>Midland Station</td>\n",
              "      <td>4100</td>\n",
              "      <td>05-2013\\r</td>\n",
              "      <td>6056</td>\n",
              "      <td>-31.904090</td>\n",
              "      <td>116.042130</td>\n",
              "      <td>SWAN VIEW SENIOR HIGH SCHOOL</td>\n",
              "      <td>1.859247</td>\n",
              "      <td>NaN</td>\n",
              "    </tr>\n",
              "    <tr>\n",
              "      <th>19</th>\n",
              "      <td>1 Bamlett Street</td>\n",
              "      <td>Mount Nasura</td>\n",
              "      <td>379000</td>\n",
              "      <td>3</td>\n",
              "      <td>2</td>\n",
              "      <td>3.0</td>\n",
              "      <td>785</td>\n",
              "      <td>167</td>\n",
              "      <td>1977.0</td>\n",
              "      <td>25400</td>\n",
              "      <td>Challis Station</td>\n",
              "      <td>1300</td>\n",
              "      <td>08-2017\\r</td>\n",
              "      <td>6112</td>\n",
              "      <td>-32.132470</td>\n",
              "      <td>116.024200</td>\n",
              "      <td>SOWILO COMMUNITY HIGH SCHOOL</td>\n",
              "      <td>1.364196</td>\n",
              "      <td>NaN</td>\n",
              "    </tr>\n",
              "  </tbody>\n",
              "</table>\n",
              "</div>\n",
              "      <button class=\"colab-df-convert\" onclick=\"convertToInteractive('df-7524cb91-3656-4382-85ca-f32a86043736')\"\n",
              "              title=\"Convert this dataframe to an interactive table.\"\n",
              "              style=\"display:none;\">\n",
              "        \n",
              "  <svg xmlns=\"http://www.w3.org/2000/svg\" height=\"24px\"viewBox=\"0 0 24 24\"\n",
              "       width=\"24px\">\n",
              "    <path d=\"M0 0h24v24H0V0z\" fill=\"none\"/>\n",
              "    <path d=\"M18.56 5.44l.94 2.06.94-2.06 2.06-.94-2.06-.94-.94-2.06-.94 2.06-2.06.94zm-11 1L8.5 8.5l.94-2.06 2.06-.94-2.06-.94L8.5 2.5l-.94 2.06-2.06.94zm10 10l.94 2.06.94-2.06 2.06-.94-2.06-.94-.94-2.06-.94 2.06-2.06.94z\"/><path d=\"M17.41 7.96l-1.37-1.37c-.4-.4-.92-.59-1.43-.59-.52 0-1.04.2-1.43.59L10.3 9.45l-7.72 7.72c-.78.78-.78 2.05 0 2.83L4 21.41c.39.39.9.59 1.41.59.51 0 1.02-.2 1.41-.59l7.78-7.78 2.81-2.81c.8-.78.8-2.07 0-2.86zM5.41 20L4 18.59l7.72-7.72 1.47 1.35L5.41 20z\"/>\n",
              "  </svg>\n",
              "      </button>\n",
              "      \n",
              "  <style>\n",
              "    .colab-df-container {\n",
              "      display:flex;\n",
              "      flex-wrap:wrap;\n",
              "      gap: 12px;\n",
              "    }\n",
              "\n",
              "    .colab-df-convert {\n",
              "      background-color: #E8F0FE;\n",
              "      border: none;\n",
              "      border-radius: 50%;\n",
              "      cursor: pointer;\n",
              "      display: none;\n",
              "      fill: #1967D2;\n",
              "      height: 32px;\n",
              "      padding: 0 0 0 0;\n",
              "      width: 32px;\n",
              "    }\n",
              "\n",
              "    .colab-df-convert:hover {\n",
              "      background-color: #E2EBFA;\n",
              "      box-shadow: 0px 1px 2px rgba(60, 64, 67, 0.3), 0px 1px 3px 1px rgba(60, 64, 67, 0.15);\n",
              "      fill: #174EA6;\n",
              "    }\n",
              "\n",
              "    [theme=dark] .colab-df-convert {\n",
              "      background-color: #3B4455;\n",
              "      fill: #D2E3FC;\n",
              "    }\n",
              "\n",
              "    [theme=dark] .colab-df-convert:hover {\n",
              "      background-color: #434B5C;\n",
              "      box-shadow: 0px 1px 3px 1px rgba(0, 0, 0, 0.15);\n",
              "      filter: drop-shadow(0px 1px 2px rgba(0, 0, 0, 0.3));\n",
              "      fill: #FFFFFF;\n",
              "    }\n",
              "  </style>\n",
              "\n",
              "      <script>\n",
              "        const buttonEl =\n",
              "          document.querySelector('#df-7524cb91-3656-4382-85ca-f32a86043736 button.colab-df-convert');\n",
              "        buttonEl.style.display =\n",
              "          google.colab.kernel.accessAllowed ? 'block' : 'none';\n",
              "\n",
              "        async function convertToInteractive(key) {\n",
              "          const element = document.querySelector('#df-7524cb91-3656-4382-85ca-f32a86043736');\n",
              "          const dataTable =\n",
              "            await google.colab.kernel.invokeFunction('convertToInteractive',\n",
              "                                                     [key], {});\n",
              "          if (!dataTable) return;\n",
              "\n",
              "          const docLinkHtml = 'Like what you see? Visit the ' +\n",
              "            '<a target=\"_blank\" href=https://colab.research.google.com/notebooks/data_table.ipynb>data table notebook</a>'\n",
              "            + ' to learn more about interactive tables.';\n",
              "          element.innerHTML = '';\n",
              "          dataTable['output_type'] = 'display_data';\n",
              "          await google.colab.output.renderOutput(dataTable, element);\n",
              "          const docLink = document.createElement('div');\n",
              "          docLink.innerHTML = docLinkHtml;\n",
              "          element.appendChild(docLink);\n",
              "        }\n",
              "      </script>\n",
              "    </div>\n",
              "  </div>\n",
              "  "
            ]
          },
          "metadata": {},
          "execution_count": 8
        }
      ]
    },
    {
      "cell_type": "code",
      "source": [
        "hs.info()"
      ],
      "metadata": {
        "colab": {
          "base_uri": "https://localhost:8080/"
        },
        "id": "8uooLfHmKWMT",
        "outputId": "c341fbf7-ff77-416c-a3fa-a6cddc4f4a28"
      },
      "execution_count": null,
      "outputs": [
        {
          "output_type": "stream",
          "name": "stdout",
          "text": [
            "<class 'pandas.core.frame.DataFrame'>\n",
            "RangeIndex: 33656 entries, 0 to 33655\n",
            "Data columns (total 19 columns):\n",
            " #   Column            Non-Null Count  Dtype  \n",
            "---  ------            --------------  -----  \n",
            " 0   ADDRESS           33656 non-null  object \n",
            " 1   SUBURB            33656 non-null  object \n",
            " 2   PRICE             33656 non-null  int64  \n",
            " 3   BEDROOMS          33656 non-null  int64  \n",
            " 4   BATHROOMS         33656 non-null  int64  \n",
            " 5   GARAGE            31178 non-null  float64\n",
            " 6   LAND_AREA         33656 non-null  int64  \n",
            " 7   FLOOR_AREA        33656 non-null  int64  \n",
            " 8   BUILD_YEAR        30501 non-null  float64\n",
            " 9   CBD_DIST          33656 non-null  int64  \n",
            " 10  NEAREST_STN       33656 non-null  object \n",
            " 11  NEAREST_STN_DIST  33656 non-null  int64  \n",
            " 12  DATE_SOLD         33656 non-null  object \n",
            " 13  POSTCODE          33656 non-null  int64  \n",
            " 14  LATITUDE          33656 non-null  float64\n",
            " 15  LONGITUDE         33656 non-null  float64\n",
            " 16  NEAREST_SCH       33656 non-null  object \n",
            " 17  NEAREST_SCH_DIST  33656 non-null  float64\n",
            " 18  NEAREST_SCH_RANK  22704 non-null  float64\n",
            "dtypes: float64(6), int64(8), object(5)\n",
            "memory usage: 4.9+ MB\n"
          ]
        }
      ]
    },
    {
      "cell_type": "markdown",
      "source": [
        "6.\tПроверьте очевидный факт, что площадь дома коррелирует с его ценой. Постройте диаграмму рассеяния для переменных цена ('PRICE') и площадь дома ('SQFT'). Воспользуйтесь при этом функцией scatter() из модуля matplotlib.pyplot. Прокомментируйте полученный результат"
      ],
      "metadata": {
        "id": "4AEDoDCGM8TV"
      }
    },
    {
      "cell_type": "code",
      "source": [
        "plt.scatter(hs['PRICE'],hs['LAND_AREA'])\n",
        "plt.show()\n",
        "#цена и площадь взаимосвязаны, хоть и присутствуют выбросы"
      ],
      "metadata": {
        "colab": {
          "base_uri": "https://localhost:8080/",
          "height": 289
        },
        "id": "Jgzl_vv2Kcc0",
        "outputId": "a638c6f6-7aa9-428e-9de8-ac942babb801"
      },
      "execution_count": null,
      "outputs": [
        {
          "output_type": "display_data",
          "data": {
            "text/plain": [
              "<Figure size 432x288 with 1 Axes>"
            ],
            "image/png": "[encoded data removed]"
          },
          "metadata": {
            "needs_background": "light"
          }
        }
      ]
    },
    {
      "cell_type": "markdown",
      "source": [
        "7.\tПроверьте свою гипотезу аналитически с помощью коэффициента корреляции Пирсона. Воспользуйтесь при этом функцией pearsonr() из модуля scipy.stats. Прокомментируйте результат.\n",
        "Здесь площадь дома измеряется в столбце LAND_AREA"
      ],
      "metadata": {
        "id": "06RLHkdbMz6Y"
      }
    },
    {
      "cell_type": "code",
      "source": [
        "stats.pearsonr(hs['PRICE'],hs['LAND_AREA']) \n",
        "#низкая корреляция, т.к. коэф Пирсона = 0.056, pvalue < 0.05"
      ],
      "metadata": {
        "colab": {
          "base_uri": "https://localhost:8080/"
        },
        "id": "XwqUnme4MurU",
        "outputId": "5859c89e-dbbb-4cf3-f40a-3c355a27e9f1"
      },
      "execution_count": null,
      "outputs": [
        {
          "output_type": "execute_result",
          "data": {
            "text/plain": [
              "(0.056855293941938743, 1.6542976580741025e-25)"
            ]
          },
          "metadata": {},
          "execution_count": 11
        }
      ]
    },
    {
      "cell_type": "markdown",
      "source": [
        "8.\tВычислите частную корреляцию между ценой и площадью дома при фиксированных значениях суммы налога. Вам понадобится модуль pingouin, который можно установить с помощью команды !pip install pingouin. Воспользуйтесь функцией partial_corr(data=df, x='PRICE', y='SQFT', covar='TAX') из модуля pingouin. Прокомментируйте полученный результат."
      ],
      "metadata": {
        "id": "olA66x6uDFRe"
      }
    },
    {
      "cell_type": "code",
      "source": [
        "df=pd.read_csv('/content/drive/MyDrive/data ML/Albuquerque Home Prices_data.txt', sep='\\t') \n",
        "df=df.replace(-9999,np.nan)\n",
        "df.head()"
      ],
      "metadata": {
        "colab": {
          "base_uri": "https://localhost:8080/",
          "height": 206
        },
        "id": "8Q-9P_y85jaY",
        "outputId": "d7788753-f68e-4d92-c4f9-a3a469e98052"
      },
      "execution_count": null,
      "outputs": [
        {
          "output_type": "execute_result",
          "data": {
            "text/plain": [
              "   PRICE  SQFT   AGE  FEATS  NE  CUST  COR     TAX\n",
              "0   2050  2650  13.0      7   1     1    0  1639.0\n",
              "1   2080  2600   NaN      4   1     1    0  1088.0\n",
              "2   2150  2664   6.0      5   1     1    0  1193.0\n",
              "3   2150  2921   3.0      6   1     1    0  1635.0\n",
              "4   1999  2580   4.0      4   1     1    0  1732.0"
            ],
            "text/html": [
              "\n",
              "  <div id=\"df-51911dcf-a705-4aef-b02d-5a7e9289d66b\">\n",
              "    <div class=\"colab-df-container\">\n",
              "      <div>\n",
              "<style scoped>\n",
              "    .dataframe tbody tr th:only-of-type {\n",
              "        vertical-align: middle;\n",
              "    }\n",
              "\n",
              "    .dataframe tbody tr th {\n",
              "        vertical-align: top;\n",
              "    }\n",
              "\n",
              "    .dataframe thead th {\n",
              "        text-align: right;\n",
              "    }\n",
              "</style>\n",
              "<table border=\"1\" class=\"dataframe\">\n",
              "  <thead>\n",
              "    <tr style=\"text-align: right;\">\n",
              "      <th></th>\n",
              "      <th>PRICE</th>\n",
              "      <th>SQFT</th>\n",
              "      <th>AGE</th>\n",
              "      <th>FEATS</th>\n",
              "      <th>NE</th>\n",
              "      <th>CUST</th>\n",
              "      <th>COR</th>\n",
              "      <th>TAX</th>\n",
              "    </tr>\n",
              "  </thead>\n",
              "  <tbody>\n",
              "    <tr>\n",
              "      <th>0</th>\n",
              "      <td>2050</td>\n",
              "      <td>2650</td>\n",
              "      <td>13.0</td>\n",
              "      <td>7</td>\n",
              "      <td>1</td>\n",
              "      <td>1</td>\n",
              "      <td>0</td>\n",
              "      <td>1639.0</td>\n",
              "    </tr>\n",
              "    <tr>\n",
              "      <th>1</th>\n",
              "      <td>2080</td>\n",
              "      <td>2600</td>\n",
              "      <td>NaN</td>\n",
              "      <td>4</td>\n",
              "      <td>1</td>\n",
              "      <td>1</td>\n",
              "      <td>0</td>\n",
              "      <td>1088.0</td>\n",
              "    </tr>\n",
              "    <tr>\n",
              "      <th>2</th>\n",
              "      <td>2150</td>\n",
              "      <td>2664</td>\n",
              "      <td>6.0</td>\n",
              "      <td>5</td>\n",
              "      <td>1</td>\n",
              "      <td>1</td>\n",
              "      <td>0</td>\n",
              "      <td>1193.0</td>\n",
              "    </tr>\n",
              "    <tr>\n",
              "      <th>3</th>\n",
              "      <td>2150</td>\n",
              "      <td>2921</td>\n",
              "      <td>3.0</td>\n",
              "      <td>6</td>\n",
              "      <td>1</td>\n",
              "      <td>1</td>\n",
              "      <td>0</td>\n",
              "      <td>1635.0</td>\n",
              "    </tr>\n",
              "    <tr>\n",
              "      <th>4</th>\n",
              "      <td>1999</td>\n",
              "      <td>2580</td>\n",
              "      <td>4.0</td>\n",
              "      <td>4</td>\n",
              "      <td>1</td>\n",
              "      <td>1</td>\n",
              "      <td>0</td>\n",
              "      <td>1732.0</td>\n",
              "    </tr>\n",
              "  </tbody>\n",
              "</table>\n",
              "</div>\n",
              "      <button class=\"colab-df-convert\" onclick=\"convertToInteractive('df-51911dcf-a705-4aef-b02d-5a7e9289d66b')\"\n",
              "              title=\"Convert this dataframe to an interactive table.\"\n",
              "              style=\"display:none;\">\n",
              "        \n",
              "  <svg xmlns=\"http://www.w3.org/2000/svg\" height=\"24px\"viewBox=\"0 0 24 24\"\n",
              "       width=\"24px\">\n",
              "    <path d=\"M0 0h24v24H0V0z\" fill=\"none\"/>\n",
              "    <path d=\"M18.56 5.44l.94 2.06.94-2.06 2.06-.94-2.06-.94-.94-2.06-.94 2.06-2.06.94zm-11 1L8.5 8.5l.94-2.06 2.06-.94-2.06-.94L8.5 2.5l-.94 2.06-2.06.94zm10 10l.94 2.06.94-2.06 2.06-.94-2.06-.94-.94-2.06-.94 2.06-2.06.94z\"/><path d=\"M17.41 7.96l-1.37-1.37c-.4-.4-.92-.59-1.43-.59-.52 0-1.04.2-1.43.59L10.3 9.45l-7.72 7.72c-.78.78-.78 2.05 0 2.83L4 21.41c.39.39.9.59 1.41.59.51 0 1.02-.2 1.41-.59l7.78-7.78 2.81-2.81c.8-.78.8-2.07 0-2.86zM5.41 20L4 18.59l7.72-7.72 1.47 1.35L5.41 20z\"/>\n",
              "  </svg>\n",
              "      </button>\n",
              "      \n",
              "  <style>\n",
              "    .colab-df-container {\n",
              "      display:flex;\n",
              "      flex-wrap:wrap;\n",
              "      gap: 12px;\n",
              "    }\n",
              "\n",
              "    .colab-df-convert {\n",
              "      background-color: #E8F0FE;\n",
              "      border: none;\n",
              "      border-radius: 50%;\n",
              "      cursor: pointer;\n",
              "      display: none;\n",
              "      fill: #1967D2;\n",
              "      height: 32px;\n",
              "      padding: 0 0 0 0;\n",
              "      width: 32px;\n",
              "    }\n",
              "\n",
              "    .colab-df-convert:hover {\n",
              "      background-color: #E2EBFA;\n",
              "      box-shadow: 0px 1px 2px rgba(60, 64, 67, 0.3), 0px 1px 3px 1px rgba(60, 64, 67, 0.15);\n",
              "      fill: #174EA6;\n",
              "    }\n",
              "\n",
              "    [theme=dark] .colab-df-convert {\n",
              "      background-color: #3B4455;\n",
              "      fill: #D2E3FC;\n",
              "    }\n",
              "\n",
              "    [theme=dark] .colab-df-convert:hover {\n",
              "      background-color: #434B5C;\n",
              "      box-shadow: 0px 1px 3px 1px rgba(0, 0, 0, 0.15);\n",
              "      filter: drop-shadow(0px 1px 2px rgba(0, 0, 0, 0.3));\n",
              "      fill: #FFFFFF;\n",
              "    }\n",
              "  </style>\n",
              "\n",
              "      <script>\n",
              "        const buttonEl =\n",
              "          document.querySelector('#df-51911dcf-a705-4aef-b02d-5a7e9289d66b button.colab-df-convert');\n",
              "        buttonEl.style.display =\n",
              "          google.colab.kernel.accessAllowed ? 'block' : 'none';\n",
              "\n",
              "        async function convertToInteractive(key) {\n",
              "          const element = document.querySelector('#df-51911dcf-a705-4aef-b02d-5a7e9289d66b');\n",
              "          const dataTable =\n",
              "            await google.colab.kernel.invokeFunction('convertToInteractive',\n",
              "                                                     [key], {});\n",
              "          if (!dataTable) return;\n",
              "\n",
              "          const docLinkHtml = 'Like what you see? Visit the ' +\n",
              "            '<a target=\"_blank\" href=https://colab.research.google.com/notebooks/data_table.ipynb>data table notebook</a>'\n",
              "            + ' to learn more about interactive tables.';\n",
              "          element.innerHTML = '';\n",
              "          dataTable['output_type'] = 'display_data';\n",
              "          await google.colab.output.renderOutput(dataTable, element);\n",
              "          const docLink = document.createElement('div');\n",
              "          docLink.innerHTML = docLinkHtml;\n",
              "          element.appendChild(docLink);\n",
              "        }\n",
              "      </script>\n",
              "    </div>\n",
              "  </div>\n",
              "  "
            ]
          },
          "metadata": {},
          "execution_count": 12
        }
      ]
    },
    {
      "cell_type": "code",
      "source": [
        "!pip install pingouin"
      ],
      "metadata": {
        "colab": {
          "base_uri": "https://localhost:8080/"
        },
        "id": "n9Axeoa6JOdq",
        "outputId": "2e9aba9f-3454-4ddf-8067-95edb09992be"
      },
      "execution_count": null,
      "outputs": [
        {
          "output_type": "stream",
          "name": "stdout",
          "text": [
            "Looking in indexes: https://pypi.org/simple, https://us-python.pkg.dev/colab-wheels/public/simple/\n",
            "Collecting pingouin\n",
            "  Downloading pingouin-0.5.3-py3-none-any.whl (198 kB)\n",
            "\u001b[2K     \u001b[90m━━━━━━━━━━━━━━━━━━━━━━━━━━━━━━━━━━━━━━━\u001b[0m \u001b[32m198.6/198.6 KB\u001b[0m \u001b[31m5.1 MB/s\u001b[0m eta \u001b[36m0:00:00\u001b[0m\n",
            "\u001b[?25hRequirement already satisfied: matplotlib>=3.0.2 in /usr/local/lib/python3.9/dist-packages (from pingouin) (3.7.1)\n",
            "Requirement already satisfied: scikit-learn in /usr/local/lib/python3.9/dist-packages (from pingouin) (1.2.2)\n",
            "Requirement already satisfied: numpy>=1.19 in /usr/local/lib/python3.9/dist-packages (from pingouin) (1.22.4)\n",
            "Collecting pandas-flavor>=0.2.0\n",
            "  Downloading pandas_flavor-0.5.0-py3-none-any.whl (7.1 kB)\n",
            "Collecting outdated\n",
            "  Downloading outdated-0.2.2-py2.py3-none-any.whl (7.5 kB)\n",
            "Requirement already satisfied: tabulate in /usr/local/lib/python3.9/dist-packages (from pingouin) (0.8.10)\n",
            "Requirement already satisfied: pandas>=1.0 in /usr/local/lib/python3.9/dist-packages (from pingouin) (1.4.4)\n",
            "Requirement already satisfied: statsmodels>=0.13 in /usr/local/lib/python3.9/dist-packages (from pingouin) (0.13.5)\n",
            "Requirement already satisfied: scipy>=1.7 in /usr/local/lib/python3.9/dist-packages (from pingouin) (1.10.1)\n",
            "Requirement already satisfied: seaborn>=0.11 in /usr/local/lib/python3.9/dist-packages (from pingouin) (0.12.2)\n",
            "Requirement already satisfied: pyparsing>=2.3.1 in /usr/local/lib/python3.9/dist-packages (from matplotlib>=3.0.2->pingouin) (3.0.9)\n",
            "Requirement already satisfied: packaging>=20.0 in /usr/local/lib/python3.9/dist-packages (from matplotlib>=3.0.2->pingouin) (23.0)\n",
            "Requirement already satisfied: kiwisolver>=1.0.1 in /usr/local/lib/python3.9/dist-packages (from matplotlib>=3.0.2->pingouin) (1.4.4)\n",
            "Requirement already satisfied: pillow>=6.2.0 in /usr/local/lib/python3.9/dist-packages (from matplotlib>=3.0.2->pingouin) (8.4.0)\n",
            "Requirement already satisfied: cycler>=0.10 in /usr/local/lib/python3.9/dist-packages (from matplotlib>=3.0.2->pingouin) (0.11.0)\n",
            "Requirement already satisfied: python-dateutil>=2.7 in /usr/local/lib/python3.9/dist-packages (from matplotlib>=3.0.2->pingouin) (2.8.2)\n",
            "Requirement already satisfied: fonttools>=4.22.0 in /usr/local/lib/python3.9/dist-packages (from matplotlib>=3.0.2->pingouin) (4.39.3)\n",
            "Requirement already satisfied: importlib-resources>=3.2.0 in /usr/local/lib/python3.9/dist-packages (from matplotlib>=3.0.2->pingouin) (5.12.0)\n",
            "Requirement already satisfied: contourpy>=1.0.1 in /usr/local/lib/python3.9/dist-packages (from matplotlib>=3.0.2->pingouin) (1.0.7)\n",
            "Requirement already satisfied: pytz>=2020.1 in /usr/local/lib/python3.9/dist-packages (from pandas>=1.0->pingouin) (2022.7.1)\n",
            "Requirement already satisfied: xarray in /usr/local/lib/python3.9/dist-packages (from pandas-flavor>=0.2.0->pingouin) (2022.12.0)\n",
            "Requirement already satisfied: lazy-loader>=0.1 in /usr/local/lib/python3.9/dist-packages (from pandas-flavor>=0.2.0->pingouin) (0.2)\n",
            "Requirement already satisfied: patsy>=0.5.2 in /usr/local/lib/python3.9/dist-packages (from statsmodels>=0.13->pingouin) (0.5.3)\n",
            "Requirement already satisfied: setuptools>=44 in /usr/local/lib/python3.9/dist-packages (from outdated->pingouin) (67.6.1)\n",
            "Collecting littleutils\n",
            "  Downloading littleutils-0.2.2.tar.gz (6.6 kB)\n",
            "  Preparing metadata (setup.py) ... \u001b[?25l\u001b[?25hdone\n",
            "Requirement already satisfied: requests in /usr/local/lib/python3.9/dist-packages (from outdated->pingouin) (2.27.1)\n",
            "Requirement already satisfied: joblib>=1.1.1 in /usr/local/lib/python3.9/dist-packages (from scikit-learn->pingouin) (1.1.1)\n",
            "Requirement already satisfied: threadpoolctl>=2.0.0 in /usr/local/lib/python3.9/dist-packages (from scikit-learn->pingouin) (3.1.0)\n",
            "Requirement already satisfied: zipp>=3.1.0 in /usr/local/lib/python3.9/dist-packages (from importlib-resources>=3.2.0->matplotlib>=3.0.2->pingouin) (3.15.0)\n",
            "Requirement already satisfied: six in /usr/local/lib/python3.9/dist-packages (from patsy>=0.5.2->statsmodels>=0.13->pingouin) (1.16.0)\n",
            "Requirement already satisfied: urllib3<1.27,>=1.21.1 in /usr/local/lib/python3.9/dist-packages (from requests->outdated->pingouin) (1.26.15)\n",
            "Requirement already satisfied: idna<4,>=2.5 in /usr/local/lib/python3.9/dist-packages (from requests->outdated->pingouin) (3.4)\n",
            "Requirement already satisfied: certifi>=2017.4.17 in /usr/local/lib/python3.9/dist-packages (from requests->outdated->pingouin) (2022.12.7)\n",
            "Requirement already satisfied: charset-normalizer~=2.0.0 in /usr/local/lib/python3.9/dist-packages (from requests->outdated->pingouin) (2.0.12)\n",
            "Building wheels for collected packages: littleutils\n",
            "  Building wheel for littleutils (setup.py) ... \u001b[?25l\u001b[?25hdone\n",
            "  Created wheel for littleutils: filename=littleutils-0.2.2-py3-none-any.whl size=7048 sha256=fbe1588aac663cf9ce18e55bdc76b4c34e0dc6e84431d151323778a78e2d86dd\n",
            "  Stored in directory: /root/.cache/pip/wheels/04/bb/0d/2d02ec45f29c48d6192476bfb59c5a0e64b605e7212374dd15\n",
            "Successfully built littleutils\n",
            "Installing collected packages: littleutils, outdated, pandas-flavor, pingouin\n",
            "Successfully installed littleutils-0.2.2 outdated-0.2.2 pandas-flavor-0.5.0 pingouin-0.5.3\n"
          ]
        }
      ]
    },
    {
      "cell_type": "code",
      "source": [
        "import pingouin as pg"
      ],
      "metadata": {
        "id": "eT9CwIX_K73Z"
      },
      "execution_count": null,
      "outputs": []
    },
    {
      "cell_type": "code",
      "source": [
        "pg.partial_corr(data=df, x='PRICE', y='SQFT', covar='TAX')\n",
        "# p-val < 0.05 "
      ],
      "metadata": {
        "colab": {
          "base_uri": "https://localhost:8080/",
          "height": 80
        },
        "id": "Q3mrTypyKrXB",
        "outputId": "4f832b0c-b25b-4f5c-f7d1-c4b019a27b6e"
      },
      "execution_count": null,
      "outputs": [
        {
          "output_type": "execute_result",
          "data": {
            "text/plain": [
              "           n        r         CI95%     p-val\n",
              "pearson  107  0.36752  [0.19, 0.52]  0.000106"
            ],
            "text/html": [
              "\n",
              "  <div id=\"df-59986408-207a-4d76-9d2b-12cefea64ac9\">\n",
              "    <div class=\"colab-df-container\">\n",
              "      <div>\n",
              "<style scoped>\n",
              "    .dataframe tbody tr th:only-of-type {\n",
              "        vertical-align: middle;\n",
              "    }\n",
              "\n",
              "    .dataframe tbody tr th {\n",
              "        vertical-align: top;\n",
              "    }\n",
              "\n",
              "    .dataframe thead th {\n",
              "        text-align: right;\n",
              "    }\n",
              "</style>\n",
              "<table border=\"1\" class=\"dataframe\">\n",
              "  <thead>\n",
              "    <tr style=\"text-align: right;\">\n",
              "      <th></th>\n",
              "      <th>n</th>\n",
              "      <th>r</th>\n",
              "      <th>CI95%</th>\n",
              "      <th>p-val</th>\n",
              "    </tr>\n",
              "  </thead>\n",
              "  <tbody>\n",
              "    <tr>\n",
              "      <th>pearson</th>\n",
              "      <td>107</td>\n",
              "      <td>0.36752</td>\n",
              "      <td>[0.19, 0.52]</td>\n",
              "      <td>0.000106</td>\n",
              "    </tr>\n",
              "  </tbody>\n",
              "</table>\n",
              "</div>\n",
              "      <button class=\"colab-df-convert\" onclick=\"convertToInteractive('df-59986408-207a-4d76-9d2b-12cefea64ac9')\"\n",
              "              title=\"Convert this dataframe to an interactive table.\"\n",
              "              style=\"display:none;\">\n",
              "        \n",
              "  <svg xmlns=\"http://www.w3.org/2000/svg\" height=\"24px\"viewBox=\"0 0 24 24\"\n",
              "       width=\"24px\">\n",
              "    <path d=\"M0 0h24v24H0V0z\" fill=\"none\"/>\n",
              "    <path d=\"M18.56 5.44l.94 2.06.94-2.06 2.06-.94-2.06-.94-.94-2.06-.94 2.06-2.06.94zm-11 1L8.5 8.5l.94-2.06 2.06-.94-2.06-.94L8.5 2.5l-.94 2.06-2.06.94zm10 10l.94 2.06.94-2.06 2.06-.94-2.06-.94-.94-2.06-.94 2.06-2.06.94z\"/><path d=\"M17.41 7.96l-1.37-1.37c-.4-.4-.92-.59-1.43-.59-.52 0-1.04.2-1.43.59L10.3 9.45l-7.72 7.72c-.78.78-.78 2.05 0 2.83L4 21.41c.39.39.9.59 1.41.59.51 0 1.02-.2 1.41-.59l7.78-7.78 2.81-2.81c.8-.78.8-2.07 0-2.86zM5.41 20L4 18.59l7.72-7.72 1.47 1.35L5.41 20z\"/>\n",
              "  </svg>\n",
              "      </button>\n",
              "      \n",
              "  <style>\n",
              "    .colab-df-container {\n",
              "      display:flex;\n",
              "      flex-wrap:wrap;\n",
              "      gap: 12px;\n",
              "    }\n",
              "\n",
              "    .colab-df-convert {\n",
              "      background-color: #E8F0FE;\n",
              "      border: none;\n",
              "      border-radius: 50%;\n",
              "      cursor: pointer;\n",
              "      display: none;\n",
              "      fill: #1967D2;\n",
              "      height: 32px;\n",
              "      padding: 0 0 0 0;\n",
              "      width: 32px;\n",
              "    }\n",
              "\n",
              "    .colab-df-convert:hover {\n",
              "      background-color: #E2EBFA;\n",
              "      box-shadow: 0px 1px 2px rgba(60, 64, 67, 0.3), 0px 1px 3px 1px rgba(60, 64, 67, 0.15);\n",
              "      fill: #174EA6;\n",
              "    }\n",
              "\n",
              "    [theme=dark] .colab-df-convert {\n",
              "      background-color: #3B4455;\n",
              "      fill: #D2E3FC;\n",
              "    }\n",
              "\n",
              "    [theme=dark] .colab-df-convert:hover {\n",
              "      background-color: #434B5C;\n",
              "      box-shadow: 0px 1px 3px 1px rgba(0, 0, 0, 0.15);\n",
              "      filter: drop-shadow(0px 1px 2px rgba(0, 0, 0, 0.3));\n",
              "      fill: #FFFFFF;\n",
              "    }\n",
              "  </style>\n",
              "\n",
              "      <script>\n",
              "        const buttonEl =\n",
              "          document.querySelector('#df-59986408-207a-4d76-9d2b-12cefea64ac9 button.colab-df-convert');\n",
              "        buttonEl.style.display =\n",
              "          google.colab.kernel.accessAllowed ? 'block' : 'none';\n",
              "\n",
              "        async function convertToInteractive(key) {\n",
              "          const element = document.querySelector('#df-59986408-207a-4d76-9d2b-12cefea64ac9');\n",
              "          const dataTable =\n",
              "            await google.colab.kernel.invokeFunction('convertToInteractive',\n",
              "                                                     [key], {});\n",
              "          if (!dataTable) return;\n",
              "\n",
              "          const docLinkHtml = 'Like what you see? Visit the ' +\n",
              "            '<a target=\"_blank\" href=https://colab.research.google.com/notebooks/data_table.ipynb>data table notebook</a>'\n",
              "            + ' to learn more about interactive tables.';\n",
              "          element.innerHTML = '';\n",
              "          dataTable['output_type'] = 'display_data';\n",
              "          await google.colab.output.renderOutput(dataTable, element);\n",
              "          const docLink = document.createElement('div');\n",
              "          docLink.innerHTML = docLinkHtml;\n",
              "          element.appendChild(docLink);\n",
              "        }\n",
              "      </script>\n",
              "    </div>\n",
              "  </div>\n",
              "  "
            ]
          },
          "metadata": {},
          "execution_count": 15
        }
      ]
    },
    {
      "cell_type": "code",
      "source": [
        "pg.partial_corr(data=hs, x='PRICE', y='LAND_AREA', covar='POSTCODE') \n",
        "#p value < 0.05, так что есть статичстически достоверная связь между площадью и ценой при фикс значениях суммы нлога"
      ],
      "metadata": {
        "colab": {
          "base_uri": "https://localhost:8080/",
          "height": 80
        },
        "id": "pNl0AF_fKrPA",
        "outputId": "580c69ce-b26b-4758-c7f1-cae2ce289ca0"
      },
      "execution_count": null,
      "outputs": [
        {
          "output_type": "execute_result",
          "data": {
            "text/plain": [
              "             n         r         CI95%         p-val\n",
              "pearson  33656  0.065094  [0.05, 0.08]  6.189506e-33"
            ],
            "text/html": [
              "\n",
              "  <div id=\"df-2263570d-900a-4d2d-9e42-99fa151e24c7\">\n",
              "    <div class=\"colab-df-container\">\n",
              "      <div>\n",
              "<style scoped>\n",
              "    .dataframe tbody tr th:only-of-type {\n",
              "        vertical-align: middle;\n",
              "    }\n",
              "\n",
              "    .dataframe tbody tr th {\n",
              "        vertical-align: top;\n",
              "    }\n",
              "\n",
              "    .dataframe thead th {\n",
              "        text-align: right;\n",
              "    }\n",
              "</style>\n",
              "<table border=\"1\" class=\"dataframe\">\n",
              "  <thead>\n",
              "    <tr style=\"text-align: right;\">\n",
              "      <th></th>\n",
              "      <th>n</th>\n",
              "      <th>r</th>\n",
              "      <th>CI95%</th>\n",
              "      <th>p-val</th>\n",
              "    </tr>\n",
              "  </thead>\n",
              "  <tbody>\n",
              "    <tr>\n",
              "      <th>pearson</th>\n",
              "      <td>33656</td>\n",
              "      <td>0.065094</td>\n",
              "      <td>[0.05, 0.08]</td>\n",
              "      <td>6.189506e-33</td>\n",
              "    </tr>\n",
              "  </tbody>\n",
              "</table>\n",
              "</div>\n",
              "      <button class=\"colab-df-convert\" onclick=\"convertToInteractive('df-2263570d-900a-4d2d-9e42-99fa151e24c7')\"\n",
              "              title=\"Convert this dataframe to an interactive table.\"\n",
              "              style=\"display:none;\">\n",
              "        \n",
              "  <svg xmlns=\"http://www.w3.org/2000/svg\" height=\"24px\"viewBox=\"0 0 24 24\"\n",
              "       width=\"24px\">\n",
              "    <path d=\"M0 0h24v24H0V0z\" fill=\"none\"/>\n",
              "    <path d=\"M18.56 5.44l.94 2.06.94-2.06 2.06-.94-2.06-.94-.94-2.06-.94 2.06-2.06.94zm-11 1L8.5 8.5l.94-2.06 2.06-.94-2.06-.94L8.5 2.5l-.94 2.06-2.06.94zm10 10l.94 2.06.94-2.06 2.06-.94-2.06-.94-.94-2.06-.94 2.06-2.06.94z\"/><path d=\"M17.41 7.96l-1.37-1.37c-.4-.4-.92-.59-1.43-.59-.52 0-1.04.2-1.43.59L10.3 9.45l-7.72 7.72c-.78.78-.78 2.05 0 2.83L4 21.41c.39.39.9.59 1.41.59.51 0 1.02-.2 1.41-.59l7.78-7.78 2.81-2.81c.8-.78.8-2.07 0-2.86zM5.41 20L4 18.59l7.72-7.72 1.47 1.35L5.41 20z\"/>\n",
              "  </svg>\n",
              "      </button>\n",
              "      \n",
              "  <style>\n",
              "    .colab-df-container {\n",
              "      display:flex;\n",
              "      flex-wrap:wrap;\n",
              "      gap: 12px;\n",
              "    }\n",
              "\n",
              "    .colab-df-convert {\n",
              "      background-color: #E8F0FE;\n",
              "      border: none;\n",
              "      border-radius: 50%;\n",
              "      cursor: pointer;\n",
              "      display: none;\n",
              "      fill: #1967D2;\n",
              "      height: 32px;\n",
              "      padding: 0 0 0 0;\n",
              "      width: 32px;\n",
              "    }\n",
              "\n",
              "    .colab-df-convert:hover {\n",
              "      background-color: #E2EBFA;\n",
              "      box-shadow: 0px 1px 2px rgba(60, 64, 67, 0.3), 0px 1px 3px 1px rgba(60, 64, 67, 0.15);\n",
              "      fill: #174EA6;\n",
              "    }\n",
              "\n",
              "    [theme=dark] .colab-df-convert {\n",
              "      background-color: #3B4455;\n",
              "      fill: #D2E3FC;\n",
              "    }\n",
              "\n",
              "    [theme=dark] .colab-df-convert:hover {\n",
              "      background-color: #434B5C;\n",
              "      box-shadow: 0px 1px 3px 1px rgba(0, 0, 0, 0.15);\n",
              "      filter: drop-shadow(0px 1px 2px rgba(0, 0, 0, 0.3));\n",
              "      fill: #FFFFFF;\n",
              "    }\n",
              "  </style>\n",
              "\n",
              "      <script>\n",
              "        const buttonEl =\n",
              "          document.querySelector('#df-2263570d-900a-4d2d-9e42-99fa151e24c7 button.colab-df-convert');\n",
              "        buttonEl.style.display =\n",
              "          google.colab.kernel.accessAllowed ? 'block' : 'none';\n",
              "\n",
              "        async function convertToInteractive(key) {\n",
              "          const element = document.querySelector('#df-2263570d-900a-4d2d-9e42-99fa151e24c7');\n",
              "          const dataTable =\n",
              "            await google.colab.kernel.invokeFunction('convertToInteractive',\n",
              "                                                     [key], {});\n",
              "          if (!dataTable) return;\n",
              "\n",
              "          const docLinkHtml = 'Like what you see? Visit the ' +\n",
              "            '<a target=\"_blank\" href=https://colab.research.google.com/notebooks/data_table.ipynb>data table notebook</a>'\n",
              "            + ' to learn more about interactive tables.';\n",
              "          element.innerHTML = '';\n",
              "          dataTable['output_type'] = 'display_data';\n",
              "          await google.colab.output.renderOutput(dataTable, element);\n",
              "          const docLink = document.createElement('div');\n",
              "          docLink.innerHTML = docLinkHtml;\n",
              "          element.appendChild(docLink);\n",
              "        }\n",
              "      </script>\n",
              "    </div>\n",
              "  </div>\n",
              "  "
            ]
          },
          "metadata": {},
          "execution_count": 16
        }
      ]
    },
    {
      "cell_type": "markdown",
      "source": [
        "9.\tВычислите ранговый коэффициент корреляции Спирмена по данным о цене и площади дома. Воспользуйтесь при этом функцией spearmanr() из модуля scipy.stats. Прокомментируйте результат."
      ],
      "metadata": {
        "id": "fIXmnrCoewxS"
      }
    },
    {
      "cell_type": "code",
      "source": [
        "stats.spearmanr(df['PRICE'],df['SQFT'])\n",
        "#между данными столбцами (цена и площадь) есть статистическая связь (средняя): при увеличении одной переменной растет и другая, направления их изменения совпадает"
      ],
      "metadata": {
        "colab": {
          "base_uri": "https://localhost:8080/"
        },
        "id": "p1Xyp4m5exoo",
        "outputId": "36ed651c-78a3-4bb7-c239-1cd759cc4452"
      },
      "execution_count": null,
      "outputs": [
        {
          "output_type": "execute_result",
          "data": {
            "text/plain": [
              "SpearmanrResult(correlation=0.8741686749512637, pvalue=7.116503153899996e-38)"
            ]
          },
          "metadata": {},
          "execution_count": 17
        }
      ]
    },
    {
      "cell_type": "code",
      "source": [
        "stats.spearmanr(hs['PRICE'],hs['LAND_AREA']) \n",
        "#между переменными нет сильной связи, т.е. при росте одной из них необязательно растет другая, направление их изменений не совпадает"
      ],
      "metadata": {
        "colab": {
          "base_uri": "https://localhost:8080/"
        },
        "id": "8U7d7bece7a8",
        "outputId": "9b87249c-3a4e-4d09-c56a-ab75fc2c7244"
      },
      "execution_count": null,
      "outputs": [
        {
          "output_type": "execute_result",
          "data": {
            "text/plain": [
              "SpearmanrResult(correlation=0.1484730220888903, pvalue=3.6943859482491475e-165)"
            ]
          },
          "metadata": {},
          "execution_count": 18
        }
      ]
    },
    {
      "cell_type": "markdown",
      "source": [
        "10.\tВычислите ранговый коэффициент корреляции Кендалла по данным о цене и площади дома. Воспользуйтесь при этом функцией kendalltau() из модуля scipy.stats. Прокомментируйте результат."
      ],
      "metadata": {
        "id": "1chBx1Y_foP4"
      }
    },
    {
      "cell_type": "code",
      "source": [
        "stats.kendalltau(df['PRICE'],df['SQFT']) \n",
        "#между переменными довольно сильная положительная связь"
      ],
      "metadata": {
        "colab": {
          "base_uri": "https://localhost:8080/"
        },
        "id": "oLEMfSzFflYT",
        "outputId": "0430c380-c21a-418a-aae5-e9a6c966ac4f"
      },
      "execution_count": null,
      "outputs": [
        {
          "output_type": "execute_result",
          "data": {
            "text/plain": [
              "KendalltauResult(correlation=0.6954339958374737, pvalue=1.4484759425566665e-28)"
            ]
          },
          "metadata": {},
          "execution_count": 23
        }
      ]
    },
    {
      "cell_type": "code",
      "source": [
        "stats.kendalltau(hs['PRICE'],hs['LAND_AREA']) \n",
        "#между переменными нет сильной связи"
      ],
      "metadata": {
        "colab": {
          "base_uri": "https://localhost:8080/"
        },
        "id": "56umjJZivqiX",
        "outputId": "077b9e93-a28a-40fd-fdfd-a32b7e66dfec"
      },
      "execution_count": null,
      "outputs": [
        {
          "output_type": "execute_result",
          "data": {
            "text/plain": [
              "KendalltauResult(correlation=0.10212950614711326, pvalue=7.582825892850817e-173)"
            ]
          },
          "metadata": {},
          "execution_count": 20
        }
      ]
    },
    {
      "cell_type": "markdown",
      "source": [
        "Раздел 3.1. Критерий хи-квадрат для анализа классификации. Отношение к мораторию на смертную казнь"
      ],
      "metadata": {
        "id": "46XTJqiQgT0a"
      }
    },
    {
      "cell_type": "markdown",
      "source": [
        "11.\tИз 50 опрошенных по поводу отношения к введению моратория на смертную казнь 30 были \"за\", 20 - \"против\" (предполагается, что выборка репрезентативна генеральной совокупности). Можно ли утверждать на основании этого опроса, что в совокупности количество сторонников превышает количество противников введения моратория на смертную казнь?"
      ],
      "metadata": {
        "id": "r7FYfkm_gSSB"
      }
    },
    {
      "cell_type": "code",
      "source": [
        "#нет, так как слишком маленькая выборка, нет информации об опрашиваемых (политические предпочтения, например)"
      ],
      "metadata": {
        "id": "w2OFV2Pax_cY"
      },
      "execution_count": null,
      "outputs": []
    },
    {
      "cell_type": "markdown",
      "source": [
        "12.\tВычислите критерий хи-квадрат Пирсона по имеющимся данным о распределении голосов. Сравните его с равномерным распределением. Воспользуйтесь при этом функцией chisquare([30, 20]) из модуля scipy.stats. Прокомментируйте результат.\n",
        "\n",
        "\n",
        "13.\tПредположим, что опрошено не 50, а 100 человек, и соотношение высказавшихся \"за\" и \"против\" сохранилось. Тогда эмпирические частоты составили бы 60 \"за\" и 40 \"против\", а соответствующие теоретические частоты равнялись бы 50. Изменится ли статистический вывод?\n"
      ],
      "metadata": {
        "id": "APkKvTIf2z9Q"
      }
    },
    {
      "cell_type": "code",
      "source": [
        "stats.chisquare([30, 20])\n",
        "#статистически значимые различия в отношении численности сторонников и противников смертной казни не получены, т.е. отклонения статистически не значимы"
      ],
      "metadata": {
        "colab": {
          "base_uri": "https://localhost:8080/"
        },
        "id": "1zpSqp3ngTCT",
        "outputId": "d314afc0-67dd-4ca6-d045-6d1c4e7d593d"
      },
      "execution_count": null,
      "outputs": [
        {
          "output_type": "execute_result",
          "data": {
            "text/plain": [
              "Power_divergenceResult(statistic=2.0, pvalue=0.15729920705028105)"
            ]
          },
          "metadata": {},
          "execution_count": 21
        }
      ]
    },
    {
      "cell_type": "code",
      "source": [
        "stats.chisquare([60, 40])\n",
        "#в днанном случае разница между респондентами уже станет статистически значимым, и она будет означать, "
      ],
      "metadata": {
        "colab": {
          "base_uri": "https://localhost:8080/"
        },
        "id": "mPseDGBNynFr",
        "outputId": "34ee10fd-f512-46c9-df9c-d21e03c2b035"
      },
      "execution_count": null,
      "outputs": [
        {
          "output_type": "execute_result",
          "data": {
            "text/plain": [
              "Power_divergenceResult(statistic=4.0, pvalue=0.04550026389635857)"
            ]
          },
          "metadata": {},
          "execution_count": 22
        }
      ]
    },
    {
      "cell_type": "markdown",
      "source": [
        "14. В качестве ожидаемого (теоретического) распределения может выступать не обязательно равномерное распределение. Например, требуется проверить, что число сторонников введения моратория составляет не менее 80%. Воспользуйтесь функцией chisquare([60, 40], f_exp=[80, 20]) из модуля scipy.stats. Прокомментируйте результат"
      ],
      "metadata": {
        "id": "C2Enp8nh2tDZ"
      }
    },
    {
      "cell_type": "code",
      "source": [
        "stats.chisquare([60, 40], f_exp=[80, 20]) \n",
        "#p-value будет меньше 0.05, так что нулевая гипотеза - \" число сторонников введения моратория составляет не менее 80%\" - отклоняется"
      ],
      "metadata": {
        "colab": {
          "base_uri": "https://localhost:8080/"
        },
        "id": "cWPMtRJo23uP",
        "outputId": "e9ebe319-ffcb-4450-ce3f-cc386b7f5a8b"
      },
      "execution_count": null,
      "outputs": [
        {
          "output_type": "execute_result",
          "data": {
            "text/plain": [
              "Power_divergenceResult(statistic=25.0, pvalue=5.733031437583875e-07)"
            ]
          },
          "metadata": {},
          "execution_count": 25
        }
      ]
    },
    {
      "cell_type": "markdown",
      "source": [
        "15.\tБыл проведен опрос, в ходе которого для каждого респондента репрезентативной выборки определены пол и один из пяти предпочитаемых политических лидеров. Количество высказавшихся за  каждого из пяти политических лидеров среди мужского пола - [5, 25, 10, 8, 3]. Среди женского пола - [11, 12, 19, 5, 7]. Постройте на основе этих данных таблицу сопряженности, где в строках указан пол, а в столбцах один из пяти лидеров. Проверьте гипотезу о зависимости политических предпочтений от пола респондента с использованием критерия хи-квадрат.\n",
        "16.\tСначала постройте таблицу сопряжённости, в которой будет указано количество респондентов мужского пола ('male') и женского пола ('female'), высказавшихся за одного из пяти политических лидеров, указанных в столбце таблицы ('leader_1' - 'leader_5'). Воспользуйтесь при этом функцией DataFrame() из модуля pandas. Результат запишите в переменную contingency_table. Выведите ее содержимое  на экран.\n",
        "\n",
        "\n",
        "17.\tНа основе таблицы сопряженности проверьте с помощью критерия хи-квадрат гипотезу о равенстве долей респондентов, высказавшихся за и против кандидата. Воспользуйтесь при этом функцией chi2_contingency(contingency_table, correction=False) из модуля scipy.stats. Прокомментируйте результат.\n"
      ],
      "metadata": {
        "id": "R0NEFi0C6dit"
      }
    },
    {
      "cell_type": "code",
      "source": [
        "male = [5, 25, 10, 8, 3]\n",
        "female = [11, 12, 19, 5, 7]\n",
        "contingency_table=pd.DataFrame([[5, 25, 10, 8, 3],[11, 12, 19, 5, 7]],index=['male','female'],columns=['leader_1','leader_2','leader_3','leader_4','leader_5'])\n",
        "contingency_table"
      ],
      "metadata": {
        "colab": {
          "base_uri": "https://localhost:8080/",
          "height": 112
        },
        "id": "8OqfrWJ56X24",
        "outputId": "21b1755a-b17b-4210-f8b4-9c06c7e39df4"
      },
      "execution_count": null,
      "outputs": [
        {
          "output_type": "execute_result",
          "data": {
            "text/plain": [
              "        leader_1  leader_2  leader_3  leader_4  leader_5\n",
              "male           5        25        10         8         3\n",
              "female        11        12        19         5         7"
            ],
            "text/html": [
              "\n",
              "  <div id=\"df-909df489-0445-4900-a799-8d2b0da24872\">\n",
              "    <div class=\"colab-df-container\">\n",
              "      <div>\n",
              "<style scoped>\n",
              "    .dataframe tbody tr th:only-of-type {\n",
              "        vertical-align: middle;\n",
              "    }\n",
              "\n",
              "    .dataframe tbody tr th {\n",
              "        vertical-align: top;\n",
              "    }\n",
              "\n",
              "    .dataframe thead th {\n",
              "        text-align: right;\n",
              "    }\n",
              "</style>\n",
              "<table border=\"1\" class=\"dataframe\">\n",
              "  <thead>\n",
              "    <tr style=\"text-align: right;\">\n",
              "      <th></th>\n",
              "      <th>leader_1</th>\n",
              "      <th>leader_2</th>\n",
              "      <th>leader_3</th>\n",
              "      <th>leader_4</th>\n",
              "      <th>leader_5</th>\n",
              "    </tr>\n",
              "  </thead>\n",
              "  <tbody>\n",
              "    <tr>\n",
              "      <th>male</th>\n",
              "      <td>5</td>\n",
              "      <td>25</td>\n",
              "      <td>10</td>\n",
              "      <td>8</td>\n",
              "      <td>3</td>\n",
              "    </tr>\n",
              "    <tr>\n",
              "      <th>female</th>\n",
              "      <td>11</td>\n",
              "      <td>12</td>\n",
              "      <td>19</td>\n",
              "      <td>5</td>\n",
              "      <td>7</td>\n",
              "    </tr>\n",
              "  </tbody>\n",
              "</table>\n",
              "</div>\n",
              "      <button class=\"colab-df-convert\" onclick=\"convertToInteractive('df-909df489-0445-4900-a799-8d2b0da24872')\"\n",
              "              title=\"Convert this dataframe to an interactive table.\"\n",
              "              style=\"display:none;\">\n",
              "        \n",
              "  <svg xmlns=\"http://www.w3.org/2000/svg\" height=\"24px\"viewBox=\"0 0 24 24\"\n",
              "       width=\"24px\">\n",
              "    <path d=\"M0 0h24v24H0V0z\" fill=\"none\"/>\n",
              "    <path d=\"M18.56 5.44l.94 2.06.94-2.06 2.06-.94-2.06-.94-.94-2.06-.94 2.06-2.06.94zm-11 1L8.5 8.5l.94-2.06 2.06-.94-2.06-.94L8.5 2.5l-.94 2.06-2.06.94zm10 10l.94 2.06.94-2.06 2.06-.94-2.06-.94-.94-2.06-.94 2.06-2.06.94z\"/><path d=\"M17.41 7.96l-1.37-1.37c-.4-.4-.92-.59-1.43-.59-.52 0-1.04.2-1.43.59L10.3 9.45l-7.72 7.72c-.78.78-.78 2.05 0 2.83L4 21.41c.39.39.9.59 1.41.59.51 0 1.02-.2 1.41-.59l7.78-7.78 2.81-2.81c.8-.78.8-2.07 0-2.86zM5.41 20L4 18.59l7.72-7.72 1.47 1.35L5.41 20z\"/>\n",
              "  </svg>\n",
              "      </button>\n",
              "      \n",
              "  <style>\n",
              "    .colab-df-container {\n",
              "      display:flex;\n",
              "      flex-wrap:wrap;\n",
              "      gap: 12px;\n",
              "    }\n",
              "\n",
              "    .colab-df-convert {\n",
              "      background-color: #E8F0FE;\n",
              "      border: none;\n",
              "      border-radius: 50%;\n",
              "      cursor: pointer;\n",
              "      display: none;\n",
              "      fill: #1967D2;\n",
              "      height: 32px;\n",
              "      padding: 0 0 0 0;\n",
              "      width: 32px;\n",
              "    }\n",
              "\n",
              "    .colab-df-convert:hover {\n",
              "      background-color: #E2EBFA;\n",
              "      box-shadow: 0px 1px 2px rgba(60, 64, 67, 0.3), 0px 1px 3px 1px rgba(60, 64, 67, 0.15);\n",
              "      fill: #174EA6;\n",
              "    }\n",
              "\n",
              "    [theme=dark] .colab-df-convert {\n",
              "      background-color: #3B4455;\n",
              "      fill: #D2E3FC;\n",
              "    }\n",
              "\n",
              "    [theme=dark] .colab-df-convert:hover {\n",
              "      background-color: #434B5C;\n",
              "      box-shadow: 0px 1px 3px 1px rgba(0, 0, 0, 0.15);\n",
              "      filter: drop-shadow(0px 1px 2px rgba(0, 0, 0, 0.3));\n",
              "      fill: #FFFFFF;\n",
              "    }\n",
              "  </style>\n",
              "\n",
              "      <script>\n",
              "        const buttonEl =\n",
              "          document.querySelector('#df-909df489-0445-4900-a799-8d2b0da24872 button.colab-df-convert');\n",
              "        buttonEl.style.display =\n",
              "          google.colab.kernel.accessAllowed ? 'block' : 'none';\n",
              "\n",
              "        async function convertToInteractive(key) {\n",
              "          const element = document.querySelector('#df-909df489-0445-4900-a799-8d2b0da24872');\n",
              "          const dataTable =\n",
              "            await google.colab.kernel.invokeFunction('convertToInteractive',\n",
              "                                                     [key], {});\n",
              "          if (!dataTable) return;\n",
              "\n",
              "          const docLinkHtml = 'Like what you see? Visit the ' +\n",
              "            '<a target=\"_blank\" href=https://colab.research.google.com/notebooks/data_table.ipynb>data table notebook</a>'\n",
              "            + ' to learn more about interactive tables.';\n",
              "          element.innerHTML = '';\n",
              "          dataTable['output_type'] = 'display_data';\n",
              "          await google.colab.output.renderOutput(dataTable, element);\n",
              "          const docLink = document.createElement('div');\n",
              "          docLink.innerHTML = docLinkHtml;\n",
              "          element.appendChild(docLink);\n",
              "        }\n",
              "      </script>\n",
              "    </div>\n",
              "  </div>\n",
              "  "
            ]
          },
          "metadata": {},
          "execution_count": 31
        }
      ]
    },
    {
      "cell_type": "code",
      "source": [
        "stats.chi2_contingency(contingency_table, correction=False)\n",
        "#p-value < 0.05 - есть взаимосвязь между полом респондента и его политическими предпочтениями"
      ],
      "metadata": {
        "colab": {
          "base_uri": "https://localhost:8080/"
        },
        "id": "gxLNklYQ7yIB",
        "outputId": "85881427-2ba1-4a8b-c985-201a0a828aaf"
      },
      "execution_count": null,
      "outputs": [
        {
          "output_type": "execute_result",
          "data": {
            "text/plain": [
              "(11.826919050232945,\n",
              " 0.01868583819588996,\n",
              " 4,\n",
              " array([[ 7.77142857, 17.97142857, 14.08571429,  6.31428571,  4.85714286],\n",
              "        [ 8.22857143, 19.02857143, 14.91428571,  6.68571429,  5.14285714]]))"
            ]
          },
          "metadata": {},
          "execution_count": 32
        }
      ]
    },
    {
      "cell_type": "markdown",
      "source": [
        "18.\tВ регионе ожидаются выборы. Команда кандидата проводит опрос, в результате которого в поддержку кандидата выказалось 28% из 100 опрошенных в городе и 20% из 100 опрошенных на селе. Нужно выяснить, является ли эта разница статистически значимой, и нужно ли разворачивать дополнительную рекламную кампанию на селе. Проверять гипотезу о равенстве распределений будем с использованием критерия хи-квадрат.\n",
        "19.\tСначала постройте таблицу сопряжённости, в которой будут указаны доли высказавшихся за ('for') и против ('against') кандидата в разрезе города ('city') и села ('country'). Воспользуйтесь при этом функцией DataFrame() из модуля pandas. Выведите ее на экран.\n",
        "20. На основе таблицы сопряженности проверьте с помощью критерия хи-квадрат гипотезу о равенстве долей респондентов, высказавшихся за и против кандидата. Воспользуйтесь при этом функцией chi2_contingency() из модуля scipy.stats. Прокомментируйте результат."
      ],
      "metadata": {
        "id": "yTKFxR-T8ffj"
      }
    },
    {
      "cell_type": "code",
      "source": [
        "table=pd.DataFrame([[28,72],[20,80]],index=['city','country'],columns=['for','against'])\n",
        "table"
      ],
      "metadata": {
        "colab": {
          "base_uri": "https://localhost:8080/",
          "height": 112
        },
        "id": "GK1PJX8L8OP1",
        "outputId": "b1a1a32c-7883-4dc2-b05c-4f9379aaf13e"
      },
      "execution_count": null,
      "outputs": [
        {
          "output_type": "execute_result",
          "data": {
            "text/plain": [
              "         for  against\n",
              "city      28       72\n",
              "country   20       80"
            ],
            "text/html": [
              "\n",
              "  <div id=\"df-f258136b-ca4e-48c7-b183-e88ed313dde4\">\n",
              "    <div class=\"colab-df-container\">\n",
              "      <div>\n",
              "<style scoped>\n",
              "    .dataframe tbody tr th:only-of-type {\n",
              "        vertical-align: middle;\n",
              "    }\n",
              "\n",
              "    .dataframe tbody tr th {\n",
              "        vertical-align: top;\n",
              "    }\n",
              "\n",
              "    .dataframe thead th {\n",
              "        text-align: right;\n",
              "    }\n",
              "</style>\n",
              "<table border=\"1\" class=\"dataframe\">\n",
              "  <thead>\n",
              "    <tr style=\"text-align: right;\">\n",
              "      <th></th>\n",
              "      <th>for</th>\n",
              "      <th>against</th>\n",
              "    </tr>\n",
              "  </thead>\n",
              "  <tbody>\n",
              "    <tr>\n",
              "      <th>city</th>\n",
              "      <td>28</td>\n",
              "      <td>72</td>\n",
              "    </tr>\n",
              "    <tr>\n",
              "      <th>country</th>\n",
              "      <td>20</td>\n",
              "      <td>80</td>\n",
              "    </tr>\n",
              "  </tbody>\n",
              "</table>\n",
              "</div>\n",
              "      <button class=\"colab-df-convert\" onclick=\"convertToInteractive('df-f258136b-ca4e-48c7-b183-e88ed313dde4')\"\n",
              "              title=\"Convert this dataframe to an interactive table.\"\n",
              "              style=\"display:none;\">\n",
              "        \n",
              "  <svg xmlns=\"http://www.w3.org/2000/svg\" height=\"24px\"viewBox=\"0 0 24 24\"\n",
              "       width=\"24px\">\n",
              "    <path d=\"M0 0h24v24H0V0z\" fill=\"none\"/>\n",
              "    <path d=\"M18.56 5.44l.94 2.06.94-2.06 2.06-.94-2.06-.94-.94-2.06-.94 2.06-2.06.94zm-11 1L8.5 8.5l.94-2.06 2.06-.94-2.06-.94L8.5 2.5l-.94 2.06-2.06.94zm10 10l.94 2.06.94-2.06 2.06-.94-2.06-.94-.94-2.06-.94 2.06-2.06.94z\"/><path d=\"M17.41 7.96l-1.37-1.37c-.4-.4-.92-.59-1.43-.59-.52 0-1.04.2-1.43.59L10.3 9.45l-7.72 7.72c-.78.78-.78 2.05 0 2.83L4 21.41c.39.39.9.59 1.41.59.51 0 1.02-.2 1.41-.59l7.78-7.78 2.81-2.81c.8-.78.8-2.07 0-2.86zM5.41 20L4 18.59l7.72-7.72 1.47 1.35L5.41 20z\"/>\n",
              "  </svg>\n",
              "      </button>\n",
              "      \n",
              "  <style>\n",
              "    .colab-df-container {\n",
              "      display:flex;\n",
              "      flex-wrap:wrap;\n",
              "      gap: 12px;\n",
              "    }\n",
              "\n",
              "    .colab-df-convert {\n",
              "      background-color: #E8F0FE;\n",
              "      border: none;\n",
              "      border-radius: 50%;\n",
              "      cursor: pointer;\n",
              "      display: none;\n",
              "      fill: #1967D2;\n",
              "      height: 32px;\n",
              "      padding: 0 0 0 0;\n",
              "      width: 32px;\n",
              "    }\n",
              "\n",
              "    .colab-df-convert:hover {\n",
              "      background-color: #E2EBFA;\n",
              "      box-shadow: 0px 1px 2px rgba(60, 64, 67, 0.3), 0px 1px 3px 1px rgba(60, 64, 67, 0.15);\n",
              "      fill: #174EA6;\n",
              "    }\n",
              "\n",
              "    [theme=dark] .colab-df-convert {\n",
              "      background-color: #3B4455;\n",
              "      fill: #D2E3FC;\n",
              "    }\n",
              "\n",
              "    [theme=dark] .colab-df-convert:hover {\n",
              "      background-color: #434B5C;\n",
              "      box-shadow: 0px 1px 3px 1px rgba(0, 0, 0, 0.15);\n",
              "      filter: drop-shadow(0px 1px 2px rgba(0, 0, 0, 0.3));\n",
              "      fill: #FFFFFF;\n",
              "    }\n",
              "  </style>\n",
              "\n",
              "      <script>\n",
              "        const buttonEl =\n",
              "          document.querySelector('#df-f258136b-ca4e-48c7-b183-e88ed313dde4 button.colab-df-convert');\n",
              "        buttonEl.style.display =\n",
              "          google.colab.kernel.accessAllowed ? 'block' : 'none';\n",
              "\n",
              "        async function convertToInteractive(key) {\n",
              "          const element = document.querySelector('#df-f258136b-ca4e-48c7-b183-e88ed313dde4');\n",
              "          const dataTable =\n",
              "            await google.colab.kernel.invokeFunction('convertToInteractive',\n",
              "                                                     [key], {});\n",
              "          if (!dataTable) return;\n",
              "\n",
              "          const docLinkHtml = 'Like what you see? Visit the ' +\n",
              "            '<a target=\"_blank\" href=https://colab.research.google.com/notebooks/data_table.ipynb>data table notebook</a>'\n",
              "            + ' to learn more about interactive tables.';\n",
              "          element.innerHTML = '';\n",
              "          dataTable['output_type'] = 'display_data';\n",
              "          await google.colab.output.renderOutput(dataTable, element);\n",
              "          const docLink = document.createElement('div');\n",
              "          docLink.innerHTML = docLinkHtml;\n",
              "          element.appendChild(docLink);\n",
              "        }\n",
              "      </script>\n",
              "    </div>\n",
              "  </div>\n",
              "  "
            ]
          },
          "metadata": {},
          "execution_count": 33
        }
      ]
    },
    {
      "cell_type": "code",
      "source": [
        "stats.chi2_contingency(table,correction=True)\n",
        "#доля людей, высказавшихся в поддержку кандидата примерно равна в городе и в селе, т.к. p-value - 0.24, это больше порога в 0.05"
      ],
      "metadata": {
        "colab": {
          "base_uri": "https://localhost:8080/"
        },
        "id": "NNCcqhTC9Od6",
        "outputId": "ef9674d7-e90b-4a14-e8ca-d5c128a00b6b"
      },
      "execution_count": null,
      "outputs": [
        {
          "output_type": "execute_result",
          "data": {
            "text/plain": [
              "(1.3432017543859647, 0.2464701206916715, 1, array([[24., 76.],\n",
              "        [24., 76.]]))"
            ]
          },
          "metadata": {},
          "execution_count": 38
        }
      ]
    },
    {
      "cell_type": "code",
      "source": [],
      "metadata": {
        "id": "-VLMlBhw9OTn"
      },
      "execution_count": null,
      "outputs": []
    },
    {
      "cell_type": "code",
      "source": [
        "from google.colab import drive\n",
        "drive.mount('/content/drive')"
      ],
      "metadata": {
        "colab": {
          "base_uri": "https://localhost:8080/",
          "height": 352
        },
        "id": "wvXNXNoXSkiG",
        "outputId": "0fe9f527-944d-4e8e-e806-487b8b177264"
      },
      "execution_count": null,
      "outputs": [
        {
          "output_type": "error",
          "ename": "MessageError",
          "evalue": "ignored",
          "traceback": [
            "\u001b[0;31m---------------------------------------------------------------------------\u001b[0m",
            "\u001b[0;31mMessageError\u001b[0m                              Traceback (most recent call last)",
            "\u001b[0;32m<ipython-input-1-d5df0069828e>\u001b[0m in \u001b[0;36m<module>\u001b[0;34m\u001b[0m\n\u001b[1;32m      1\u001b[0m \u001b[0;32mfrom\u001b[0m \u001b[0mgoogle\u001b[0m\u001b[0;34m.\u001b[0m\u001b[0mcolab\u001b[0m \u001b[0;32mimport\u001b[0m \u001b[0mdrive\u001b[0m\u001b[0;34m\u001b[0m\u001b[0;34m\u001b[0m\u001b[0m\n\u001b[0;32m----> 2\u001b[0;31m \u001b[0mdrive\u001b[0m\u001b[0;34m.\u001b[0m\u001b[0mmount\u001b[0m\u001b[0;34m(\u001b[0m\u001b[0;34m'/content/drive'\u001b[0m\u001b[0;34m)\u001b[0m\u001b[0;34m\u001b[0m\u001b[0;34m\u001b[0m\u001b[0m\n\u001b[0m",
            "\u001b[0;32m/usr/local/lib/python3.9/dist-packages/google/colab/drive.py\u001b[0m in \u001b[0;36mmount\u001b[0;34m(mountpoint, force_remount, timeout_ms, readonly)\u001b[0m\n\u001b[1;32m    101\u001b[0m \u001b[0;32mdef\u001b[0m \u001b[0mmount\u001b[0m\u001b[0;34m(\u001b[0m\u001b[0mmountpoint\u001b[0m\u001b[0;34m,\u001b[0m \u001b[0mforce_remount\u001b[0m\u001b[0;34m=\u001b[0m\u001b[0;32mFalse\u001b[0m\u001b[0;34m,\u001b[0m \u001b[0mtimeout_ms\u001b[0m\u001b[0;34m=\u001b[0m\u001b[0;36m120000\u001b[0m\u001b[0;34m,\u001b[0m \u001b[0mreadonly\u001b[0m\u001b[0;34m=\u001b[0m\u001b[0;32mFalse\u001b[0m\u001b[0;34m)\u001b[0m\u001b[0;34m:\u001b[0m\u001b[0;34m\u001b[0m\u001b[0;34m\u001b[0m\u001b[0m\n\u001b[1;32m    102\u001b[0m   \u001b[0;34m\"\"\"Mount your Google Drive at the specified mountpoint path.\"\"\"\u001b[0m\u001b[0;34m\u001b[0m\u001b[0;34m\u001b[0m\u001b[0m\n\u001b[0;32m--> 103\u001b[0;31m   return _mount(\n\u001b[0m\u001b[1;32m    104\u001b[0m       \u001b[0mmountpoint\u001b[0m\u001b[0;34m,\u001b[0m\u001b[0;34m\u001b[0m\u001b[0;34m\u001b[0m\u001b[0m\n\u001b[1;32m    105\u001b[0m       \u001b[0mforce_remount\u001b[0m\u001b[0;34m=\u001b[0m\u001b[0mforce_remount\u001b[0m\u001b[0;34m,\u001b[0m\u001b[0;34m\u001b[0m\u001b[0;34m\u001b[0m\u001b[0m\n",
            "\u001b[0;32m/usr/local/lib/python3.9/dist-packages/google/colab/drive.py\u001b[0m in \u001b[0;36m_mount\u001b[0;34m(mountpoint, force_remount, timeout_ms, ephemeral, readonly)\u001b[0m\n\u001b[1;32m    130\u001b[0m   )\n\u001b[1;32m    131\u001b[0m   \u001b[0;32mif\u001b[0m \u001b[0mephemeral\u001b[0m\u001b[0;34m:\u001b[0m\u001b[0;34m\u001b[0m\u001b[0;34m\u001b[0m\u001b[0m\n\u001b[0;32m--> 132\u001b[0;31m     _message.blocking_request(\n\u001b[0m\u001b[1;32m    133\u001b[0m         \u001b[0;34m'request_auth'\u001b[0m\u001b[0;34m,\u001b[0m \u001b[0mrequest\u001b[0m\u001b[0;34m=\u001b[0m\u001b[0;34m{\u001b[0m\u001b[0;34m'authType'\u001b[0m\u001b[0;34m:\u001b[0m \u001b[0;34m'dfs_ephemeral'\u001b[0m\u001b[0;34m}\u001b[0m\u001b[0;34m,\u001b[0m \u001b[0mtimeout_sec\u001b[0m\u001b[0;34m=\u001b[0m\u001b[0;32mNone\u001b[0m\u001b[0;34m\u001b[0m\u001b[0;34m\u001b[0m\u001b[0m\n\u001b[1;32m    134\u001b[0m     )\n",
            "\u001b[0;32m/usr/local/lib/python3.9/dist-packages/google/colab/_message.py\u001b[0m in \u001b[0;36mblocking_request\u001b[0;34m(request_type, request, timeout_sec, parent)\u001b[0m\n\u001b[1;32m    175\u001b[0m       \u001b[0mrequest_type\u001b[0m\u001b[0;34m,\u001b[0m \u001b[0mrequest\u001b[0m\u001b[0;34m,\u001b[0m \u001b[0mparent\u001b[0m\u001b[0;34m=\u001b[0m\u001b[0mparent\u001b[0m\u001b[0;34m,\u001b[0m \u001b[0mexpect_reply\u001b[0m\u001b[0;34m=\u001b[0m\u001b[0;32mTrue\u001b[0m\u001b[0;34m\u001b[0m\u001b[0;34m\u001b[0m\u001b[0m\n\u001b[1;32m    176\u001b[0m   )\n\u001b[0;32m--> 177\u001b[0;31m   \u001b[0;32mreturn\u001b[0m \u001b[0mread_reply_from_input\u001b[0m\u001b[0;34m(\u001b[0m\u001b[0mrequest_id\u001b[0m\u001b[0;34m,\u001b[0m \u001b[0mtimeout_sec\u001b[0m\u001b[0;34m)\u001b[0m\u001b[0;34m\u001b[0m\u001b[0;34m\u001b[0m\u001b[0m\n\u001b[0m",
            "\u001b[0;32m/usr/local/lib/python3.9/dist-packages/google/colab/_message.py\u001b[0m in \u001b[0;36mread_reply_from_input\u001b[0;34m(message_id, timeout_sec)\u001b[0m\n\u001b[1;32m    102\u001b[0m     ):\n\u001b[1;32m    103\u001b[0m       \u001b[0;32mif\u001b[0m \u001b[0;34m'error'\u001b[0m \u001b[0;32min\u001b[0m \u001b[0mreply\u001b[0m\u001b[0;34m:\u001b[0m\u001b[0;34m\u001b[0m\u001b[0;34m\u001b[0m\u001b[0m\n\u001b[0;32m--> 104\u001b[0;31m         \u001b[0;32mraise\u001b[0m \u001b[0mMessageError\u001b[0m\u001b[0;34m(\u001b[0m\u001b[0mreply\u001b[0m\u001b[0;34m[\u001b[0m\u001b[0;34m'error'\u001b[0m\u001b[0;34m]\u001b[0m\u001b[0;34m)\u001b[0m\u001b[0;34m\u001b[0m\u001b[0;34m\u001b[0m\u001b[0m\n\u001b[0m\u001b[1;32m    105\u001b[0m       \u001b[0;32mreturn\u001b[0m \u001b[0mreply\u001b[0m\u001b[0;34m.\u001b[0m\u001b[0mget\u001b[0m\u001b[0;34m(\u001b[0m\u001b[0;34m'data'\u001b[0m\u001b[0;34m,\u001b[0m \u001b[0;32mNone\u001b[0m\u001b[0;34m)\u001b[0m\u001b[0;34m\u001b[0m\u001b[0;34m\u001b[0m\u001b[0m\n\u001b[1;32m    106\u001b[0m \u001b[0;34m\u001b[0m\u001b[0m\n",
            "\u001b[0;31mMessageError\u001b[0m: Error: credential propagation was unsuccessful"
          ]
        }
      ]
    },
    {
      "cell_type": "markdown",
      "source": [
        "21.\tИмеется следующий набор данных. Сформирована выборка респондентов из 100 человек. Их спросили, проголосуют ли они за одну из австралийских политических партий. Затем им дали послушать рекламу этой политической партии и попросили ответить на тот же вопрос повторно. Ваша задача - оценить убедительность рекламы политической партии."
      ],
      "metadata": {
        "id": "wBYvH9Y7VnFK"
      }
    },
    {
      "cell_type": "markdown",
      "source": [
        "22.\tЗагрузите данные из файла по адресу https://raw.githubusercontent.com/ethanweed/pythonbook/main/Data/agpp.csv с помощью функции read_csv() из модуля pandas. Посмотрите на первые 5 наблюдений с помощью функции head()."
      ],
      "metadata": {
        "id": "1YwJyu6YVwBZ"
      }
    },
    {
      "cell_type": "code",
      "source": [
        "df = pd.read_csv('https://raw.githubusercontent.com/ethanweed/pythonbook/main/Data/agpp.csv')\n",
        "df.head(5)"
      ],
      "metadata": {
        "colab": {
          "base_uri": "https://localhost:8080/",
          "height": 206
        },
        "id": "W6V78Lc9Vn9M",
        "outputId": "7bc8b822-ac97-4fc1-ef2c-2d4987fc3859"
      },
      "execution_count": null,
      "outputs": [
        {
          "output_type": "execute_result",
          "data": {
            "text/plain": [
              "       id response_before response_after\n",
              "0  subj.1              no            yes\n",
              "1  subj.2             yes             no\n",
              "2  subj.3             yes             no\n",
              "3  subj.4             yes             no\n",
              "4  subj.5              no             no"
            ],
            "text/html": [
              "\n",
              "  <div id=\"df-9ba88a64-d996-4d85-b788-6ba5b7d6be08\">\n",
              "    <div class=\"colab-df-container\">\n",
              "      <div>\n",
              "<style scoped>\n",
              "    .dataframe tbody tr th:only-of-type {\n",
              "        vertical-align: middle;\n",
              "    }\n",
              "\n",
              "    .dataframe tbody tr th {\n",
              "        vertical-align: top;\n",
              "    }\n",
              "\n",
              "    .dataframe thead th {\n",
              "        text-align: right;\n",
              "    }\n",
              "</style>\n",
              "<table border=\"1\" class=\"dataframe\">\n",
              "  <thead>\n",
              "    <tr style=\"text-align: right;\">\n",
              "      <th></th>\n",
              "      <th>id</th>\n",
              "      <th>response_before</th>\n",
              "      <th>response_after</th>\n",
              "    </tr>\n",
              "  </thead>\n",
              "  <tbody>\n",
              "    <tr>\n",
              "      <th>0</th>\n",
              "      <td>subj.1</td>\n",
              "      <td>no</td>\n",
              "      <td>yes</td>\n",
              "    </tr>\n",
              "    <tr>\n",
              "      <th>1</th>\n",
              "      <td>subj.2</td>\n",
              "      <td>yes</td>\n",
              "      <td>no</td>\n",
              "    </tr>\n",
              "    <tr>\n",
              "      <th>2</th>\n",
              "      <td>subj.3</td>\n",
              "      <td>yes</td>\n",
              "      <td>no</td>\n",
              "    </tr>\n",
              "    <tr>\n",
              "      <th>3</th>\n",
              "      <td>subj.4</td>\n",
              "      <td>yes</td>\n",
              "      <td>no</td>\n",
              "    </tr>\n",
              "    <tr>\n",
              "      <th>4</th>\n",
              "      <td>subj.5</td>\n",
              "      <td>no</td>\n",
              "      <td>no</td>\n",
              "    </tr>\n",
              "  </tbody>\n",
              "</table>\n",
              "</div>\n",
              "      <button class=\"colab-df-convert\" onclick=\"convertToInteractive('df-9ba88a64-d996-4d85-b788-6ba5b7d6be08')\"\n",
              "              title=\"Convert this dataframe to an interactive table.\"\n",
              "              style=\"display:none;\">\n",
              "        \n",
              "  <svg xmlns=\"http://www.w3.org/2000/svg\" height=\"24px\"viewBox=\"0 0 24 24\"\n",
              "       width=\"24px\">\n",
              "    <path d=\"M0 0h24v24H0V0z\" fill=\"none\"/>\n",
              "    <path d=\"M18.56 5.44l.94 2.06.94-2.06 2.06-.94-2.06-.94-.94-2.06-.94 2.06-2.06.94zm-11 1L8.5 8.5l.94-2.06 2.06-.94-2.06-.94L8.5 2.5l-.94 2.06-2.06.94zm10 10l.94 2.06.94-2.06 2.06-.94-2.06-.94-.94-2.06-.94 2.06-2.06.94z\"/><path d=\"M17.41 7.96l-1.37-1.37c-.4-.4-.92-.59-1.43-.59-.52 0-1.04.2-1.43.59L10.3 9.45l-7.72 7.72c-.78.78-.78 2.05 0 2.83L4 21.41c.39.39.9.59 1.41.59.51 0 1.02-.2 1.41-.59l7.78-7.78 2.81-2.81c.8-.78.8-2.07 0-2.86zM5.41 20L4 18.59l7.72-7.72 1.47 1.35L5.41 20z\"/>\n",
              "  </svg>\n",
              "      </button>\n",
              "      \n",
              "  <style>\n",
              "    .colab-df-container {\n",
              "      display:flex;\n",
              "      flex-wrap:wrap;\n",
              "      gap: 12px;\n",
              "    }\n",
              "\n",
              "    .colab-df-convert {\n",
              "      background-color: #E8F0FE;\n",
              "      border: none;\n",
              "      border-radius: 50%;\n",
              "      cursor: pointer;\n",
              "      display: none;\n",
              "      fill: #1967D2;\n",
              "      height: 32px;\n",
              "      padding: 0 0 0 0;\n",
              "      width: 32px;\n",
              "    }\n",
              "\n",
              "    .colab-df-convert:hover {\n",
              "      background-color: #E2EBFA;\n",
              "      box-shadow: 0px 1px 2px rgba(60, 64, 67, 0.3), 0px 1px 3px 1px rgba(60, 64, 67, 0.15);\n",
              "      fill: #174EA6;\n",
              "    }\n",
              "\n",
              "    [theme=dark] .colab-df-convert {\n",
              "      background-color: #3B4455;\n",
              "      fill: #D2E3FC;\n",
              "    }\n",
              "\n",
              "    [theme=dark] .colab-df-convert:hover {\n",
              "      background-color: #434B5C;\n",
              "      box-shadow: 0px 1px 3px 1px rgba(0, 0, 0, 0.15);\n",
              "      filter: drop-shadow(0px 1px 2px rgba(0, 0, 0, 0.3));\n",
              "      fill: #FFFFFF;\n",
              "    }\n",
              "  </style>\n",
              "\n",
              "      <script>\n",
              "        const buttonEl =\n",
              "          document.querySelector('#df-9ba88a64-d996-4d85-b788-6ba5b7d6be08 button.colab-df-convert');\n",
              "        buttonEl.style.display =\n",
              "          google.colab.kernel.accessAllowed ? 'block' : 'none';\n",
              "\n",
              "        async function convertToInteractive(key) {\n",
              "          const element = document.querySelector('#df-9ba88a64-d996-4d85-b788-6ba5b7d6be08');\n",
              "          const dataTable =\n",
              "            await google.colab.kernel.invokeFunction('convertToInteractive',\n",
              "                                                     [key], {});\n",
              "          if (!dataTable) return;\n",
              "\n",
              "          const docLinkHtml = 'Like what you see? Visit the ' +\n",
              "            '<a target=\"_blank\" href=https://colab.research.google.com/notebooks/data_table.ipynb>data table notebook</a>'\n",
              "            + ' to learn more about interactive tables.';\n",
              "          element.innerHTML = '';\n",
              "          dataTable['output_type'] = 'display_data';\n",
              "          await google.colab.output.renderOutput(dataTable, element);\n",
              "          const docLink = document.createElement('div');\n",
              "          docLink.innerHTML = docLinkHtml;\n",
              "          element.appendChild(docLink);\n",
              "        }\n",
              "      </script>\n",
              "    </div>\n",
              "  </div>\n",
              "  "
            ]
          },
          "metadata": {},
          "execution_count": 18
        }
      ]
    },
    {
      "cell_type": "markdown",
      "source": [
        "23.\tЗапишите в переменные observed и stats результаты применения теста Мак-Нимара. Воспользуйтесь при этом функцией chi2_mcnemar(df, 'response_before', 'response_after') из модуля pingouin.\n",
        "24.\tВыведите на экран содержимое переменной observed. Прокомментируйте результат."
      ],
      "metadata": {
        "id": "Ks3y-OlZWE0x"
      }
    },
    {
      "cell_type": "code",
      "source": [
        "pg.chi2_mcnemar(df, 'response_before', 'response_after')\n",
        "observed, stats = pg.chi2_mcnemar(df, 'response_before', 'response_after') "
      ],
      "metadata": {
        "id": "AKYz6oSrWIZE"
      },
      "execution_count": null,
      "outputs": []
    },
    {
      "cell_type": "code",
      "source": [
        "print(observed)"
      ],
      "metadata": {
        "colab": {
          "base_uri": "https://localhost:8080/"
        },
        "id": "nVSHUowfWesu",
        "outputId": "9c91f13a-942b-4fd5-9d26-8b992419874b"
      },
      "execution_count": null,
      "outputs": [
        {
          "output_type": "stream",
          "name": "stdout",
          "text": [
            "response_after    0  1\n",
            "response_before       \n",
            "0                65  5\n",
            "1                25  5\n"
          ]
        }
      ]
    },
    {
      "cell_type": "markdown",
      "source": [
        "25.\tВыведите на экран содержимое переменной stats. Прокомментируйте результат."
      ],
      "metadata": {
        "id": "irGtKYx3ccSu"
      }
    },
    {
      "cell_type": "code",
      "source": [
        "stats\n",
        "#Отвергаем нулеву гипотезу о том, что реклама не влияет, число сторонников уменьшилось, т.е. реклама не убедительна, и даже снижает популярность партии"
      ],
      "metadata": {
        "colab": {
          "base_uri": "https://localhost:8080/",
          "height": 80
        },
        "id": "T22zuPIZWgKO",
        "outputId": "dfcc8ddb-acb7-4234-e960-fc2640aad2c3"
      },
      "execution_count": null,
      "outputs": [
        {
          "output_type": "execute_result",
          "data": {
            "text/plain": [
              "              chi2  dof  p-approx   p-exact\n",
              "mcnemar  12.033333    1  0.000523  0.000325"
            ],
            "text/html": [
              "\n",
              "  <div id=\"df-2882fbe0-6c66-4f9b-b8c3-798ec0cbc359\">\n",
              "    <div class=\"colab-df-container\">\n",
              "      <div>\n",
              "<style scoped>\n",
              "    .dataframe tbody tr th:only-of-type {\n",
              "        vertical-align: middle;\n",
              "    }\n",
              "\n",
              "    .dataframe tbody tr th {\n",
              "        vertical-align: top;\n",
              "    }\n",
              "\n",
              "    .dataframe thead th {\n",
              "        text-align: right;\n",
              "    }\n",
              "</style>\n",
              "<table border=\"1\" class=\"dataframe\">\n",
              "  <thead>\n",
              "    <tr style=\"text-align: right;\">\n",
              "      <th></th>\n",
              "      <th>chi2</th>\n",
              "      <th>dof</th>\n",
              "      <th>p-approx</th>\n",
              "      <th>p-exact</th>\n",
              "    </tr>\n",
              "  </thead>\n",
              "  <tbody>\n",
              "    <tr>\n",
              "      <th>mcnemar</th>\n",
              "      <td>12.033333</td>\n",
              "      <td>1</td>\n",
              "      <td>0.000523</td>\n",
              "      <td>0.000325</td>\n",
              "    </tr>\n",
              "  </tbody>\n",
              "</table>\n",
              "</div>\n",
              "      <button class=\"colab-df-convert\" onclick=\"convertToInteractive('df-2882fbe0-6c66-4f9b-b8c3-798ec0cbc359')\"\n",
              "              title=\"Convert this dataframe to an interactive table.\"\n",
              "              style=\"display:none;\">\n",
              "        \n",
              "  <svg xmlns=\"http://www.w3.org/2000/svg\" height=\"24px\"viewBox=\"0 0 24 24\"\n",
              "       width=\"24px\">\n",
              "    <path d=\"M0 0h24v24H0V0z\" fill=\"none\"/>\n",
              "    <path d=\"M18.56 5.44l.94 2.06.94-2.06 2.06-.94-2.06-.94-.94-2.06-.94 2.06-2.06.94zm-11 1L8.5 8.5l.94-2.06 2.06-.94-2.06-.94L8.5 2.5l-.94 2.06-2.06.94zm10 10l.94 2.06.94-2.06 2.06-.94-2.06-.94-.94-2.06-.94 2.06-2.06.94z\"/><path d=\"M17.41 7.96l-1.37-1.37c-.4-.4-.92-.59-1.43-.59-.52 0-1.04.2-1.43.59L10.3 9.45l-7.72 7.72c-.78.78-.78 2.05 0 2.83L4 21.41c.39.39.9.59 1.41.59.51 0 1.02-.2 1.41-.59l7.78-7.78 2.81-2.81c.8-.78.8-2.07 0-2.86zM5.41 20L4 18.59l7.72-7.72 1.47 1.35L5.41 20z\"/>\n",
              "  </svg>\n",
              "      </button>\n",
              "      \n",
              "  <style>\n",
              "    .colab-df-container {\n",
              "      display:flex;\n",
              "      flex-wrap:wrap;\n",
              "      gap: 12px;\n",
              "    }\n",
              "\n",
              "    .colab-df-convert {\n",
              "      background-color: #E8F0FE;\n",
              "      border: none;\n",
              "      border-radius: 50%;\n",
              "      cursor: pointer;\n",
              "      display: none;\n",
              "      fill: #1967D2;\n",
              "      height: 32px;\n",
              "      padding: 0 0 0 0;\n",
              "      width: 32px;\n",
              "    }\n",
              "\n",
              "    .colab-df-convert:hover {\n",
              "      background-color: #E2EBFA;\n",
              "      box-shadow: 0px 1px 2px rgba(60, 64, 67, 0.3), 0px 1px 3px 1px rgba(60, 64, 67, 0.15);\n",
              "      fill: #174EA6;\n",
              "    }\n",
              "\n",
              "    [theme=dark] .colab-df-convert {\n",
              "      background-color: #3B4455;\n",
              "      fill: #D2E3FC;\n",
              "    }\n",
              "\n",
              "    [theme=dark] .colab-df-convert:hover {\n",
              "      background-color: #434B5C;\n",
              "      box-shadow: 0px 1px 3px 1px rgba(0, 0, 0, 0.15);\n",
              "      filter: drop-shadow(0px 1px 2px rgba(0, 0, 0, 0.3));\n",
              "      fill: #FFFFFF;\n",
              "    }\n",
              "  </style>\n",
              "\n",
              "      <script>\n",
              "        const buttonEl =\n",
              "          document.querySelector('#df-2882fbe0-6c66-4f9b-b8c3-798ec0cbc359 button.colab-df-convert');\n",
              "        buttonEl.style.display =\n",
              "          google.colab.kernel.accessAllowed ? 'block' : 'none';\n",
              "\n",
              "        async function convertToInteractive(key) {\n",
              "          const element = document.querySelector('#df-2882fbe0-6c66-4f9b-b8c3-798ec0cbc359');\n",
              "          const dataTable =\n",
              "            await google.colab.kernel.invokeFunction('convertToInteractive',\n",
              "                                                     [key], {});\n",
              "          if (!dataTable) return;\n",
              "\n",
              "          const docLinkHtml = 'Like what you see? Visit the ' +\n",
              "            '<a target=\"_blank\" href=https://colab.research.google.com/notebooks/data_table.ipynb>data table notebook</a>'\n",
              "            + ' to learn more about interactive tables.';\n",
              "          element.innerHTML = '';\n",
              "          dataTable['output_type'] = 'display_data';\n",
              "          await google.colab.output.renderOutput(dataTable, element);\n",
              "          const docLink = document.createElement('div');\n",
              "          docLink.innerHTML = docLinkHtml;\n",
              "          element.appendChild(docLink);\n",
              "        }\n",
              "      </script>\n",
              "    </div>\n",
              "  </div>\n",
              "  "
            ]
          },
          "metadata": {},
          "execution_count": 25
        }
      ]
    },
    {
      "cell_type": "markdown",
      "source": [
        "26.\tПредположим, что показатель интеллекта IQ некоторой выборки имеет нормальное распределение со средним 100 и стандартным отклонением 15. Требуется проверить, влияет ли новая таблетка на показатель IQ. С этой целью было опрошено 20 респондентов, показатели которых имеют следующий вид: data = [88, 92, 94, 94, 96, 97, 97, 97, 99, 99, 105, 109, 109, 109, 110, 112, 112, 113, 114, 115].\n",
        "27.\tПримените одновыборочный z тест. Воспользуйтесь при этом функцией ztest(data, value=100) из модуля statsmodels.stats.weightstats. Прокомментируйте результат.\n"
      ],
      "metadata": {
        "id": "qkltMPljcXwD"
      }
    },
    {
      "cell_type": "code",
      "source": [
        "from statsmodels.stats.weightstats import ztest"
      ],
      "metadata": {
        "id": "EPGigdKqcqpl"
      },
      "execution_count": null,
      "outputs": []
    },
    {
      "cell_type": "code",
      "source": [
        "data = [88, 92, 94, 94, 96, 97, 97, 97, 99, 99, 105, 109, 109, 109, 110, 112, 112, 113, 114, 115]\n",
        "ztest(data, value=100)\n",
        "#p-value больше 0.05, принимаем нулевую гипотезу, новая таблетка не влияет сильно на уровень IQ"
      ],
      "metadata": {
        "colab": {
          "base_uri": "https://localhost:8080/"
        },
        "id": "d_GjRs-Scf-P",
        "outputId": "b3e26b76-0c51-423a-af95-95e2bef527c0"
      },
      "execution_count": null,
      "outputs": [
        {
          "output_type": "execute_result",
          "data": {
            "text/plain": [
              "(1.5976240527147705, 0.1101266701438426)"
            ]
          },
          "metadata": {},
          "execution_count": 30
        }
      ]
    },
    {
      "cell_type": "markdown",
      "source": [
        "28.\tПредположим, что показатель интеллекта IQ жителей двух городов имеет нормальное распределение. Требуется проверить, отличаются ли жители городов по уровню интеллекта. С этой целью было опрошено по 20 респондентов из каждого города, их показатели имеют следующий вид:\n",
        "cityA = [82, 84, 85, 89, 91, 91, 92, 94, 99, 99, 105, 109, 109, 109, 110, 112, 112, 113, 114, 114].\n",
        "cityB = [90, 91, 91, 91, 95, 95, 99, 99, 108, 109, 109, 114, 115, 116, 117, 117, 128, 129, 130, 133].\n",
        "29.\tПримените двухвыборочный z тест. Воспользуйтесь при этом функцией ztest(cityA, cityB, value=0) из модуля statsmodels.stats.weightstats. Прокомментируйте результат."
      ],
      "metadata": {
        "id": "gGwPvcgMdH2_"
      }
    },
    {
      "cell_type": "code",
      "source": [
        " cityA = [82, 84, 85, 89, 91, 91, 92, 94, 99, 99, 105, 109, 109, 109, 110, 112, 112, 113, 114, 114]\n",
        " cityB = [90, 91, 91, 91, 95, 95, 99, 99, 108, 109, 109, 114, 115, 116, 117, 117, 128, 129, 130, 133]"
      ],
      "metadata": {
        "id": "X_9NWCe3dN1Y"
      },
      "execution_count": null,
      "outputs": []
    },
    {
      "cell_type": "code",
      "source": [
        "ztest(cityA, cityB, value=0) \n",
        "#p - value < 0.05, отвергаем нулевую гипотезу, уровень IQ существенно Отличается в двух городах"
      ],
      "metadata": {
        "colab": {
          "base_uri": "https://localhost:8080/"
        },
        "id": "UgQ88lgodTTJ",
        "outputId": "b798900e-1fcc-4354-8300-c3b85a455e3d"
      },
      "execution_count": null,
      "outputs": [
        {
          "output_type": "execute_result",
          "data": {
            "text/plain": [
              "(-1.9953236073282115, 0.046007596761332065)"
            ]
          },
          "metadata": {},
          "execution_count": 33
        }
      ]
    },
    {
      "cell_type": "markdown",
      "source": [
        "30. Загрузите данные из файла ADHD.txt с помощью функции read_csv() из модуля pandas. Дайте названия столбцам, обратившись к атрибуту columns: 'Placebo', 'Methylphenidate'. Здесь 'Placebo' – сведения о пациентах, принимающих плацебо, 'Methylphenidate' – о принимающих лекарство.  Посмотрите на первые 5 наблюдений с помощью функции head()."
      ],
      "metadata": {
        "id": "3xUMp60se1zg"
      }
    },
    {
      "cell_type": "code",
      "source": [
        "ds = pd.read_csv('/content/drive/MyDrive/data ML/ADHD.txt', sep='\\s+')\n",
        "ds.columns = ['Placebo', 'Methylphenidate']\n",
        "ds.head(5)"
      ],
      "metadata": {
        "colab": {
          "base_uri": "https://localhost:8080/",
          "height": 206
        },
        "id": "e2q78ZVCe6FG",
        "outputId": "fb95fb3f-330d-4f14-bcf0-72592da012ef"
      },
      "execution_count": null,
      "outputs": [
        {
          "output_type": "execute_result",
          "data": {
            "text/plain": [
              "   Placebo  Methylphenidate\n",
              "0       57               62\n",
              "1       27               49\n",
              "2       32               30\n",
              "3       31               34\n",
              "4       34               38"
            ],
            "text/html": [
              "\n",
              "  <div id=\"df-230bf833-8ab0-48c0-a228-5bbcc33811ae\">\n",
              "    <div class=\"colab-df-container\">\n",
              "      <div>\n",
              "<style scoped>\n",
              "    .dataframe tbody tr th:only-of-type {\n",
              "        vertical-align: middle;\n",
              "    }\n",
              "\n",
              "    .dataframe tbody tr th {\n",
              "        vertical-align: top;\n",
              "    }\n",
              "\n",
              "    .dataframe thead th {\n",
              "        text-align: right;\n",
              "    }\n",
              "</style>\n",
              "<table border=\"1\" class=\"dataframe\">\n",
              "  <thead>\n",
              "    <tr style=\"text-align: right;\">\n",
              "      <th></th>\n",
              "      <th>Placebo</th>\n",
              "      <th>Methylphenidate</th>\n",
              "    </tr>\n",
              "  </thead>\n",
              "  <tbody>\n",
              "    <tr>\n",
              "      <th>0</th>\n",
              "      <td>57</td>\n",
              "      <td>62</td>\n",
              "    </tr>\n",
              "    <tr>\n",
              "      <th>1</th>\n",
              "      <td>27</td>\n",
              "      <td>49</td>\n",
              "    </tr>\n",
              "    <tr>\n",
              "      <th>2</th>\n",
              "      <td>32</td>\n",
              "      <td>30</td>\n",
              "    </tr>\n",
              "    <tr>\n",
              "      <th>3</th>\n",
              "      <td>31</td>\n",
              "      <td>34</td>\n",
              "    </tr>\n",
              "    <tr>\n",
              "      <th>4</th>\n",
              "      <td>34</td>\n",
              "      <td>38</td>\n",
              "    </tr>\n",
              "  </tbody>\n",
              "</table>\n",
              "</div>\n",
              "      <button class=\"colab-df-convert\" onclick=\"convertToInteractive('df-230bf833-8ab0-48c0-a228-5bbcc33811ae')\"\n",
              "              title=\"Convert this dataframe to an interactive table.\"\n",
              "              style=\"display:none;\">\n",
              "        \n",
              "  <svg xmlns=\"http://www.w3.org/2000/svg\" height=\"24px\"viewBox=\"0 0 24 24\"\n",
              "       width=\"24px\">\n",
              "    <path d=\"M0 0h24v24H0V0z\" fill=\"none\"/>\n",
              "    <path d=\"M18.56 5.44l.94 2.06.94-2.06 2.06-.94-2.06-.94-.94-2.06-.94 2.06-2.06.94zm-11 1L8.5 8.5l.94-2.06 2.06-.94-2.06-.94L8.5 2.5l-.94 2.06-2.06.94zm10 10l.94 2.06.94-2.06 2.06-.94-2.06-.94-.94-2.06-.94 2.06-2.06.94z\"/><path d=\"M17.41 7.96l-1.37-1.37c-.4-.4-.92-.59-1.43-.59-.52 0-1.04.2-1.43.59L10.3 9.45l-7.72 7.72c-.78.78-.78 2.05 0 2.83L4 21.41c.39.39.9.59 1.41.59.51 0 1.02-.2 1.41-.59l7.78-7.78 2.81-2.81c.8-.78.8-2.07 0-2.86zM5.41 20L4 18.59l7.72-7.72 1.47 1.35L5.41 20z\"/>\n",
              "  </svg>\n",
              "      </button>\n",
              "      \n",
              "  <style>\n",
              "    .colab-df-container {\n",
              "      display:flex;\n",
              "      flex-wrap:wrap;\n",
              "      gap: 12px;\n",
              "    }\n",
              "\n",
              "    .colab-df-convert {\n",
              "      background-color: #E8F0FE;\n",
              "      border: none;\n",
              "      border-radius: 50%;\n",
              "      cursor: pointer;\n",
              "      display: none;\n",
              "      fill: #1967D2;\n",
              "      height: 32px;\n",
              "      padding: 0 0 0 0;\n",
              "      width: 32px;\n",
              "    }\n",
              "\n",
              "    .colab-df-convert:hover {\n",
              "      background-color: #E2EBFA;\n",
              "      box-shadow: 0px 1px 2px rgba(60, 64, 67, 0.3), 0px 1px 3px 1px rgba(60, 64, 67, 0.15);\n",
              "      fill: #174EA6;\n",
              "    }\n",
              "\n",
              "    [theme=dark] .colab-df-convert {\n",
              "      background-color: #3B4455;\n",
              "      fill: #D2E3FC;\n",
              "    }\n",
              "\n",
              "    [theme=dark] .colab-df-convert:hover {\n",
              "      background-color: #434B5C;\n",
              "      box-shadow: 0px 1px 3px 1px rgba(0, 0, 0, 0.15);\n",
              "      filter: drop-shadow(0px 1px 2px rgba(0, 0, 0, 0.3));\n",
              "      fill: #FFFFFF;\n",
              "    }\n",
              "  </style>\n",
              "\n",
              "      <script>\n",
              "        const buttonEl =\n",
              "          document.querySelector('#df-230bf833-8ab0-48c0-a228-5bbcc33811ae button.colab-df-convert');\n",
              "        buttonEl.style.display =\n",
              "          google.colab.kernel.accessAllowed ? 'block' : 'none';\n",
              "\n",
              "        async function convertToInteractive(key) {\n",
              "          const element = document.querySelector('#df-230bf833-8ab0-48c0-a228-5bbcc33811ae');\n",
              "          const dataTable =\n",
              "            await google.colab.kernel.invokeFunction('convertToInteractive',\n",
              "                                                     [key], {});\n",
              "          if (!dataTable) return;\n",
              "\n",
              "          const docLinkHtml = 'Like what you see? Visit the ' +\n",
              "            '<a target=\"_blank\" href=https://colab.research.google.com/notebooks/data_table.ipynb>data table notebook</a>'\n",
              "            + ' to learn more about interactive tables.';\n",
              "          element.innerHTML = '';\n",
              "          dataTable['output_type'] = 'display_data';\n",
              "          await google.colab.output.renderOutput(dataTable, element);\n",
              "          const docLink = document.createElement('div');\n",
              "          docLink.innerHTML = docLinkHtml;\n",
              "          element.appendChild(docLink);\n",
              "        }\n",
              "      </script>\n",
              "    </div>\n",
              "  </div>\n",
              "  "
            ]
          },
          "metadata": {},
          "execution_count": 36
        }
      ]
    },
    {
      "cell_type": "markdown",
      "source": [
        "31.\tПримените одновыборочный критерий Стьюдента для проверки гипотезы о равенстве 50 способности к подавлению импульсивных поведенческих реакций пациентами, принимающими плацебо. Воспользуйтесь при этом функцией ttest_1samp(data.Placebo, 50.0) из модуля scipy.stats.  Прокомментируйте результат."
      ],
      "metadata": {
        "id": "uSlnIE_pfX-r"
      }
    },
    {
      "cell_type": "code",
      "source": [
        "from scipy import stats"
      ],
      "metadata": {
        "id": "ExwFA4YGfxU_"
      },
      "execution_count": null,
      "outputs": []
    },
    {
      "cell_type": "code",
      "source": [
        "stats.ttest_1samp(ds.Placebo, 50.0) "
      ],
      "metadata": {
        "colab": {
          "base_uri": "https://localhost:8080/"
        },
        "id": "NrTlD-XVfd2q",
        "outputId": "d2bf2158-3b14-4068-c62d-35e635bca61e"
      },
      "execution_count": null,
      "outputs": [
        {
          "output_type": "execute_result",
          "data": {
            "text/plain": [
              "TtestResult(statistic=-4.438003341905128, pvalue=0.00018894293251080175, df=23)"
            ]
          },
          "metadata": {},
          "execution_count": 40
        }
      ]
    },
    {
      "cell_type": "markdown",
      "source": [],
      "metadata": {
        "id": "sWwuWriShlok"
      }
    },
    {
      "cell_type": "markdown",
      "source": [
        "32.\tЗагрузите данные из файла agedeath.dat.txt с помощью функции read_csv() из модуля pandas. Через атрибут names функции read_csv() укажите названия столбцов - 'group', 'age', 'index'. Посмотрите на первые 5 наблюдений с помощью функции head().\n",
        "\n",
        "33.\tДанные содержат информацию о продолжительности жизни следующих классов: суверенитет ('sovr'), аристократия ('aris') и дворянство ('gent'). Сохраните в отдельные переменные выборки, которые собираетесь сравнивать, а именно в переменную x – возраст смерти класса 'sovr', а в переменную y – возраст смерти класса 'aris'.\n"
      ],
      "metadata": {
        "id": "l-0UQEA6S2-T"
      }
    },
    {
      "cell_type": "code",
      "source": [
        "agedeath = pd.read_csv('/content/drive/MyDrive/data ML/agedeath.dat.txt', sep='\\s+',header=None,names=['group', 'age', 'index'])\n",
        "agedeath.head(5)"
      ],
      "metadata": {
        "colab": {
          "base_uri": "https://localhost:8080/",
          "height": 206
        },
        "id": "kNuQiulbTB2Q",
        "outputId": "293926ec-e059-424c-dfae-32964e722bea"
      },
      "execution_count": null,
      "outputs": [
        {
          "output_type": "execute_result",
          "data": {
            "text/plain": [
              "  group  age  index\n",
              "0  aris   21      1\n",
              "1  aris   21      2\n",
              "2  aris   21      3\n",
              "3  aris   21      4\n",
              "4  aris   21      5"
            ],
            "text/html": [
              "\n",
              "  <div id=\"df-a7b1a829-e1b8-4911-ae3c-c12239dd93c5\">\n",
              "    <div class=\"colab-df-container\">\n",
              "      <div>\n",
              "<style scoped>\n",
              "    .dataframe tbody tr th:only-of-type {\n",
              "        vertical-align: middle;\n",
              "    }\n",
              "\n",
              "    .dataframe tbody tr th {\n",
              "        vertical-align: top;\n",
              "    }\n",
              "\n",
              "    .dataframe thead th {\n",
              "        text-align: right;\n",
              "    }\n",
              "</style>\n",
              "<table border=\"1\" class=\"dataframe\">\n",
              "  <thead>\n",
              "    <tr style=\"text-align: right;\">\n",
              "      <th></th>\n",
              "      <th>group</th>\n",
              "      <th>age</th>\n",
              "      <th>index</th>\n",
              "    </tr>\n",
              "  </thead>\n",
              "  <tbody>\n",
              "    <tr>\n",
              "      <th>0</th>\n",
              "      <td>aris</td>\n",
              "      <td>21</td>\n",
              "      <td>1</td>\n",
              "    </tr>\n",
              "    <tr>\n",
              "      <th>1</th>\n",
              "      <td>aris</td>\n",
              "      <td>21</td>\n",
              "      <td>2</td>\n",
              "    </tr>\n",
              "    <tr>\n",
              "      <th>2</th>\n",
              "      <td>aris</td>\n",
              "      <td>21</td>\n",
              "      <td>3</td>\n",
              "    </tr>\n",
              "    <tr>\n",
              "      <th>3</th>\n",
              "      <td>aris</td>\n",
              "      <td>21</td>\n",
              "      <td>4</td>\n",
              "    </tr>\n",
              "    <tr>\n",
              "      <th>4</th>\n",
              "      <td>aris</td>\n",
              "      <td>21</td>\n",
              "      <td>5</td>\n",
              "    </tr>\n",
              "  </tbody>\n",
              "</table>\n",
              "</div>\n",
              "      <button class=\"colab-df-convert\" onclick=\"convertToInteractive('df-a7b1a829-e1b8-4911-ae3c-c12239dd93c5')\"\n",
              "              title=\"Convert this dataframe to an interactive table.\"\n",
              "              style=\"display:none;\">\n",
              "        \n",
              "  <svg xmlns=\"http://www.w3.org/2000/svg\" height=\"24px\"viewBox=\"0 0 24 24\"\n",
              "       width=\"24px\">\n",
              "    <path d=\"M0 0h24v24H0V0z\" fill=\"none\"/>\n",
              "    <path d=\"M18.56 5.44l.94 2.06.94-2.06 2.06-.94-2.06-.94-.94-2.06-.94 2.06-2.06.94zm-11 1L8.5 8.5l.94-2.06 2.06-.94-2.06-.94L8.5 2.5l-.94 2.06-2.06.94zm10 10l.94 2.06.94-2.06 2.06-.94-2.06-.94-.94-2.06-.94 2.06-2.06.94z\"/><path d=\"M17.41 7.96l-1.37-1.37c-.4-.4-.92-.59-1.43-.59-.52 0-1.04.2-1.43.59L10.3 9.45l-7.72 7.72c-.78.78-.78 2.05 0 2.83L4 21.41c.39.39.9.59 1.41.59.51 0 1.02-.2 1.41-.59l7.78-7.78 2.81-2.81c.8-.78.8-2.07 0-2.86zM5.41 20L4 18.59l7.72-7.72 1.47 1.35L5.41 20z\"/>\n",
              "  </svg>\n",
              "      </button>\n",
              "      \n",
              "  <style>\n",
              "    .colab-df-container {\n",
              "      display:flex;\n",
              "      flex-wrap:wrap;\n",
              "      gap: 12px;\n",
              "    }\n",
              "\n",
              "    .colab-df-convert {\n",
              "      background-color: #E8F0FE;\n",
              "      border: none;\n",
              "      border-radius: 50%;\n",
              "      cursor: pointer;\n",
              "      display: none;\n",
              "      fill: #1967D2;\n",
              "      height: 32px;\n",
              "      padding: 0 0 0 0;\n",
              "      width: 32px;\n",
              "    }\n",
              "\n",
              "    .colab-df-convert:hover {\n",
              "      background-color: #E2EBFA;\n",
              "      box-shadow: 0px 1px 2px rgba(60, 64, 67, 0.3), 0px 1px 3px 1px rgba(60, 64, 67, 0.15);\n",
              "      fill: #174EA6;\n",
              "    }\n",
              "\n",
              "    [theme=dark] .colab-df-convert {\n",
              "      background-color: #3B4455;\n",
              "      fill: #D2E3FC;\n",
              "    }\n",
              "\n",
              "    [theme=dark] .colab-df-convert:hover {\n",
              "      background-color: #434B5C;\n",
              "      box-shadow: 0px 1px 3px 1px rgba(0, 0, 0, 0.15);\n",
              "      filter: drop-shadow(0px 1px 2px rgba(0, 0, 0, 0.3));\n",
              "      fill: #FFFFFF;\n",
              "    }\n",
              "  </style>\n",
              "\n",
              "      <script>\n",
              "        const buttonEl =\n",
              "          document.querySelector('#df-a7b1a829-e1b8-4911-ae3c-c12239dd93c5 button.colab-df-convert');\n",
              "        buttonEl.style.display =\n",
              "          google.colab.kernel.accessAllowed ? 'block' : 'none';\n",
              "\n",
              "        async function convertToInteractive(key) {\n",
              "          const element = document.querySelector('#df-a7b1a829-e1b8-4911-ae3c-c12239dd93c5');\n",
              "          const dataTable =\n",
              "            await google.colab.kernel.invokeFunction('convertToInteractive',\n",
              "                                                     [key], {});\n",
              "          if (!dataTable) return;\n",
              "\n",
              "          const docLinkHtml = 'Like what you see? Visit the ' +\n",
              "            '<a target=\"_blank\" href=https://colab.research.google.com/notebooks/data_table.ipynb>data table notebook</a>'\n",
              "            + ' to learn more about interactive tables.';\n",
              "          element.innerHTML = '';\n",
              "          dataTable['output_type'] = 'display_data';\n",
              "          await google.colab.output.renderOutput(dataTable, element);\n",
              "          const docLink = document.createElement('div');\n",
              "          docLink.innerHTML = docLinkHtml;\n",
              "          element.appendChild(docLink);\n",
              "        }\n",
              "      </script>\n",
              "    </div>\n",
              "  </div>\n",
              "  "
            ]
          },
          "metadata": {},
          "execution_count": 14
        }
      ]
    },
    {
      "cell_type": "markdown",
      "source": [
        "34.\tДанные содержат информацию о продолжительности жизни следующих классов: суверенитет ('sovr'), аристократия ('aris') и дворянство ('gent'). Сохраните в отдельные переменные выборки, которые собираетесь сравнивать, а именно в переменную x – возраст смерти класса 'sovr', а в переменную y – возраст смерти класса 'aris'.\n",
        "\tНанесите на одну диаграмму 2 гистограммы для сравниваемых классов. Воспользуйтесь при этом функцией hist() и функцией legend() из модуля matplotlib.pyplot. Сделайте вывод о нормальности распределений данных двух выборок.\n",
        "\n",
        "35.\tПроверьте гипотезу о равенстве дисперсий на основе критерия Флигнера-Килина. Воспользуйтесь при этом функцией fligner() из модуля scipy.stats. Прокомментируйте результат."
      ],
      "metadata": {
        "id": "kDavITVYVUim"
      }
    },
    {
      "cell_type": "code",
      "source": [
        "df = pd.read_csv('/content/drive/MyDrive/data ML/agedeath.dat.txt', sep='\\s+')\n",
        "df.columns = ['group', 'age', 'index']\n",
        "df.head(5)"
      ],
      "metadata": {
        "colab": {
          "base_uri": "https://localhost:8080/",
          "height": 206
        },
        "id": "mkdHTxKx_cL4",
        "outputId": "e27bcff7-31cf-4610-d27e-0baac08e84e0"
      },
      "execution_count": null,
      "outputs": [
        {
          "output_type": "execute_result",
          "data": {
            "text/plain": [
              "  group  age  index\n",
              "0  aris   21      2\n",
              "1  aris   21      3\n",
              "2  aris   21      4\n",
              "3  aris   21      5\n",
              "4  aris   21      6"
            ],
            "text/html": [
              "\n",
              "  <div id=\"df-1aff9c90-ffe3-4c3b-81ab-d8323d0f5abe\">\n",
              "    <div class=\"colab-df-container\">\n",
              "      <div>\n",
              "<style scoped>\n",
              "    .dataframe tbody tr th:only-of-type {\n",
              "        vertical-align: middle;\n",
              "    }\n",
              "\n",
              "    .dataframe tbody tr th {\n",
              "        vertical-align: top;\n",
              "    }\n",
              "\n",
              "    .dataframe thead th {\n",
              "        text-align: right;\n",
              "    }\n",
              "</style>\n",
              "<table border=\"1\" class=\"dataframe\">\n",
              "  <thead>\n",
              "    <tr style=\"text-align: right;\">\n",
              "      <th></th>\n",
              "      <th>group</th>\n",
              "      <th>age</th>\n",
              "      <th>index</th>\n",
              "    </tr>\n",
              "  </thead>\n",
              "  <tbody>\n",
              "    <tr>\n",
              "      <th>0</th>\n",
              "      <td>aris</td>\n",
              "      <td>21</td>\n",
              "      <td>2</td>\n",
              "    </tr>\n",
              "    <tr>\n",
              "      <th>1</th>\n",
              "      <td>aris</td>\n",
              "      <td>21</td>\n",
              "      <td>3</td>\n",
              "    </tr>\n",
              "    <tr>\n",
              "      <th>2</th>\n",
              "      <td>aris</td>\n",
              "      <td>21</td>\n",
              "      <td>4</td>\n",
              "    </tr>\n",
              "    <tr>\n",
              "      <th>3</th>\n",
              "      <td>aris</td>\n",
              "      <td>21</td>\n",
              "      <td>5</td>\n",
              "    </tr>\n",
              "    <tr>\n",
              "      <th>4</th>\n",
              "      <td>aris</td>\n",
              "      <td>21</td>\n",
              "      <td>6</td>\n",
              "    </tr>\n",
              "  </tbody>\n",
              "</table>\n",
              "</div>\n",
              "      <button class=\"colab-df-convert\" onclick=\"convertToInteractive('df-1aff9c90-ffe3-4c3b-81ab-d8323d0f5abe')\"\n",
              "              title=\"Convert this dataframe to an interactive table.\"\n",
              "              style=\"display:none;\">\n",
              "        \n",
              "  <svg xmlns=\"http://www.w3.org/2000/svg\" height=\"24px\"viewBox=\"0 0 24 24\"\n",
              "       width=\"24px\">\n",
              "    <path d=\"M0 0h24v24H0V0z\" fill=\"none\"/>\n",
              "    <path d=\"M18.56 5.44l.94 2.06.94-2.06 2.06-.94-2.06-.94-.94-2.06-.94 2.06-2.06.94zm-11 1L8.5 8.5l.94-2.06 2.06-.94-2.06-.94L8.5 2.5l-.94 2.06-2.06.94zm10 10l.94 2.06.94-2.06 2.06-.94-2.06-.94-.94-2.06-.94 2.06-2.06.94z\"/><path d=\"M17.41 7.96l-1.37-1.37c-.4-.4-.92-.59-1.43-.59-.52 0-1.04.2-1.43.59L10.3 9.45l-7.72 7.72c-.78.78-.78 2.05 0 2.83L4 21.41c.39.39.9.59 1.41.59.51 0 1.02-.2 1.41-.59l7.78-7.78 2.81-2.81c.8-.78.8-2.07 0-2.86zM5.41 20L4 18.59l7.72-7.72 1.47 1.35L5.41 20z\"/>\n",
              "  </svg>\n",
              "      </button>\n",
              "      \n",
              "  <style>\n",
              "    .colab-df-container {\n",
              "      display:flex;\n",
              "      flex-wrap:wrap;\n",
              "      gap: 12px;\n",
              "    }\n",
              "\n",
              "    .colab-df-convert {\n",
              "      background-color: #E8F0FE;\n",
              "      border: none;\n",
              "      border-radius: 50%;\n",
              "      cursor: pointer;\n",
              "      display: none;\n",
              "      fill: #1967D2;\n",
              "      height: 32px;\n",
              "      padding: 0 0 0 0;\n",
              "      width: 32px;\n",
              "    }\n",
              "\n",
              "    .colab-df-convert:hover {\n",
              "      background-color: #E2EBFA;\n",
              "      box-shadow: 0px 1px 2px rgba(60, 64, 67, 0.3), 0px 1px 3px 1px rgba(60, 64, 67, 0.15);\n",
              "      fill: #174EA6;\n",
              "    }\n",
              "\n",
              "    [theme=dark] .colab-df-convert {\n",
              "      background-color: #3B4455;\n",
              "      fill: #D2E3FC;\n",
              "    }\n",
              "\n",
              "    [theme=dark] .colab-df-convert:hover {\n",
              "      background-color: #434B5C;\n",
              "      box-shadow: 0px 1px 3px 1px rgba(0, 0, 0, 0.15);\n",
              "      filter: drop-shadow(0px 1px 2px rgba(0, 0, 0, 0.3));\n",
              "      fill: #FFFFFF;\n",
              "    }\n",
              "  </style>\n",
              "\n",
              "      <script>\n",
              "        const buttonEl =\n",
              "          document.querySelector('#df-1aff9c90-ffe3-4c3b-81ab-d8323d0f5abe button.colab-df-convert');\n",
              "        buttonEl.style.display =\n",
              "          google.colab.kernel.accessAllowed ? 'block' : 'none';\n",
              "\n",
              "        async function convertToInteractive(key) {\n",
              "          const element = document.querySelector('#df-1aff9c90-ffe3-4c3b-81ab-d8323d0f5abe');\n",
              "          const dataTable =\n",
              "            await google.colab.kernel.invokeFunction('convertToInteractive',\n",
              "                                                     [key], {});\n",
              "          if (!dataTable) return;\n",
              "\n",
              "          const docLinkHtml = 'Like what you see? Visit the ' +\n",
              "            '<a target=\"_blank\" href=https://colab.research.google.com/notebooks/data_table.ipynb>data table notebook</a>'\n",
              "            + ' to learn more about interactive tables.';\n",
              "          element.innerHTML = '';\n",
              "          dataTable['output_type'] = 'display_data';\n",
              "          await google.colab.output.renderOutput(dataTable, element);\n",
              "          const docLink = document.createElement('div');\n",
              "          docLink.innerHTML = docLinkHtml;\n",
              "          element.appendChild(docLink);\n",
              "        }\n",
              "      </script>\n",
              "    </div>\n",
              "  </div>\n",
              "  "
            ]
          },
          "metadata": {},
          "execution_count": 8
        }
      ]
    },
    {
      "cell_type": "code",
      "source": [
        "x = df[df['group']=='sovr']['age']\n",
        "y = df[df['group']=='aris']['age']\n",
        "x.name,y.name='sovr','aris'"
      ],
      "metadata": {
        "id": "Nnj28JceA0ue"
      },
      "execution_count": null,
      "outputs": []
    },
    {
      "cell_type": "code",
      "source": [
        "plt.hist(x)\n",
        "#распределение отличается от нормального"
      ],
      "metadata": {
        "colab": {
          "base_uri": "https://localhost:8080/",
          "height": 322
        },
        "id": "bwRuH4k5DnBd",
        "outputId": "3d983aea-d35c-4562-a1d2-601198300383"
      },
      "execution_count": null,
      "outputs": [
        {
          "output_type": "execute_result",
          "data": {
            "text/plain": [
              "(array([107., 131., 162., 224., 279., 251., 171.,  92.,  17.,   6.]),\n",
              " array([ 21.,  29.,  37.,  45.,  53.,  61.,  69.,  77.,  85.,  93., 101.]),\n",
              " <BarContainer object of 10 artists>)"
            ]
          },
          "metadata": {},
          "execution_count": 10
        },
        {
          "output_type": "display_data",
          "data": {
            "text/plain": [
              "<Figure size 432x288 with 1 Axes>"
            ],
            "image/png": "[encoded data removed]"
          },
          "metadata": {
            "needs_background": "light"
          }
        }
      ]
    },
    {
      "cell_type": "code",
      "source": [
        "plt.hist(y)\n",
        "#распределение отличается от нормального"
      ],
      "metadata": {
        "colab": {
          "base_uri": "https://localhost:8080/",
          "height": 340
        },
        "id": "zAvJMseoEBS8",
        "outputId": "96cf2d0c-5f3c-4283-83c0-9d6729a25f55"
      },
      "execution_count": null,
      "outputs": [
        {
          "output_type": "execute_result",
          "data": {
            "text/plain": [
              "(array([134., 152., 203., 285., 343., 368., 419., 263., 107.,  16.]),\n",
              " array([ 21. ,  29.1,  37.2,  45.3,  53.4,  61.5,  69.6,  77.7,  85.8,\n",
              "         93.9, 102. ]),\n",
              " <BarContainer object of 10 artists>)"
            ]
          },
          "metadata": {},
          "execution_count": 11
        },
        {
          "output_type": "display_data",
          "data": {
            "text/plain": [
              "<Figure size 432x288 with 1 Axes>"
            ],
            "image/png": "[encoded data removed]"
          },
          "metadata": {
            "needs_background": "light"
          }
        }
      ]
    },
    {
      "cell_type": "code",
      "source": [
        "plt.hist(x, y, color = 'red')\n",
        "#распределение отличается от нормального"
      ],
      "metadata": {
        "colab": {
          "base_uri": "https://localhost:8080/",
          "height": 322
        },
        "id": "bzaO0xG9M8j9",
        "outputId": "128e56a4-48e6-4890-96e1-9f9da96f49b3"
      },
      "execution_count": null,
      "outputs": [
        {
          "output_type": "execute_result",
          "data": {
            "text/plain": [
              "(array([0., 0., 0., ..., 0., 0., 2.]),\n",
              " array([ 21.,  21.,  21., ...,  99., 100., 102.]),\n",
              " <BarContainer object of 2289 artists>)"
            ]
          },
          "metadata": {},
          "execution_count": 13
        },
        {
          "output_type": "display_data",
          "data": {
            "text/plain": [
              "<Figure size 432x288 with 1 Axes>"
            ],
            "image/png": "[encoded data removed]"
          },
          "metadata": {
            "needs_background": "light"
          }
        }
      ]
    },
    {
      "cell_type": "markdown",
      "source": [
        "35.\tПроверьте гипотезу о равенстве дисперсий на основе критерия Флигнера-Килина. Воспользуйтесь при этом функцией fligner() из модуля scipy.stats. Прокомментируйте результат."
      ],
      "metadata": {
        "id": "nUASJFdAE4d6"
      }
    },
    {
      "cell_type": "code",
      "source": [
        "stats.fligner(x,y)\n",
        "# pvalue=0.00011649324915307631, что ниже 0.05, значит мы отклоняем нулевую гипотезу о равенстве дисперсий"
      ],
      "metadata": {
        "colab": {
          "base_uri": "https://localhost:8080/"
        },
        "id": "OnoAh_a_FbiG",
        "outputId": "d5b20bdf-37df-4929-d48d-2551b84292bf"
      },
      "execution_count": null,
      "outputs": [
        {
          "output_type": "execute_result",
          "data": {
            "text/plain": [
              "FlignerResult(statistic=14.848620367019672, pvalue=0.00011649324915307631)"
            ]
          },
          "metadata": {},
          "execution_count": 13
        }
      ]
    },
    {
      "cell_type": "markdown",
      "source": [
        "36.\tПроверьте гипотезу о равенстве средних значений двух независимых классов на основе критерия Стьюдента для независимых выборок. Воспользуйтесь при этом функцией ttest_ind() из модуля scipy.stats. В параметре equal_var этой функции укажите, равны дисперсии (True) или нет (False), опираясь на результаты проверки из п. 15. Прокомментируйте результат."
      ],
      "metadata": {
        "id": "maeKJ40SGChq"
      }
    },
    {
      "cell_type": "code",
      "source": [
        "stats.ttest_ind(x,y,equal_var = False)\n",
        "#p-value больше 0.05, нулевая гипотеза о о равенстве средних значений двух независимых классов подтверждается, однако условия для проверки не выполняются.  В случае применения двухвыборочного критерия для независимых выборок также необходимо соблюдение условия равенства дисперсий, у нас дисперсии не равны."
      ],
      "metadata": {
        "colab": {
          "base_uri": "https://localhost:8080/"
        },
        "id": "HGD5zWyzGE1f",
        "outputId": "97ab22df-8ed9-4696-bfe5-c41144416e5e"
      },
      "execution_count": null,
      "outputs": [
        {
          "output_type": "execute_result",
          "data": {
            "text/plain": [
              "Ttest_indResult(statistic=-10.791917817363439, pvalue=1.065432879585911e-26)"
            ]
          },
          "metadata": {},
          "execution_count": 16
        }
      ]
    },
    {
      "cell_type": "markdown",
      "source": [
        "37.\tЗагрузите данные из файла interference.csv с помощью функции read_csv() из модуля pandas. Посмотрите на первые 5 наблюдений с помощью функции head()."
      ],
      "metadata": {
        "id": "PPXH2c70G9qy"
      }
    },
    {
      "cell_type": "code",
      "source": [
        "it = pd.read_csv('/content/drive/MyDrive/data ML/interference.csv')\n",
        "it.head(5)"
      ],
      "metadata": {
        "colab": {
          "base_uri": "https://localhost:8080/",
          "height": 206
        },
        "id": "jJ2JTfzrG9Of",
        "outputId": "7f9ce751-637a-4021-81cc-e25fee3461b9"
      },
      "execution_count": null,
      "outputs": [
        {
          "output_type": "execute_result",
          "data": {
            "text/plain": [
              "   Subj  DiffCol  Black\n",
              "0     1    39.64  37.53\n",
              "1     2    44.26  42.02\n",
              "2     3    33.84  31.99\n",
              "3     4    53.88  39.48\n",
              "4     5    38.94  43.09"
            ],
            "text/html": [
              "\n",
              "  <div id=\"df-08a4f53f-13e1-4d19-8bfe-f4ee48af3bcd\">\n",
              "    <div class=\"colab-df-container\">\n",
              "      <div>\n",
              "<style scoped>\n",
              "    .dataframe tbody tr th:only-of-type {\n",
              "        vertical-align: middle;\n",
              "    }\n",
              "\n",
              "    .dataframe tbody tr th {\n",
              "        vertical-align: top;\n",
              "    }\n",
              "\n",
              "    .dataframe thead th {\n",
              "        text-align: right;\n",
              "    }\n",
              "</style>\n",
              "<table border=\"1\" class=\"dataframe\">\n",
              "  <thead>\n",
              "    <tr style=\"text-align: right;\">\n",
              "      <th></th>\n",
              "      <th>Subj</th>\n",
              "      <th>DiffCol</th>\n",
              "      <th>Black</th>\n",
              "    </tr>\n",
              "  </thead>\n",
              "  <tbody>\n",
              "    <tr>\n",
              "      <th>0</th>\n",
              "      <td>1</td>\n",
              "      <td>39.64</td>\n",
              "      <td>37.53</td>\n",
              "    </tr>\n",
              "    <tr>\n",
              "      <th>1</th>\n",
              "      <td>2</td>\n",
              "      <td>44.26</td>\n",
              "      <td>42.02</td>\n",
              "    </tr>\n",
              "    <tr>\n",
              "      <th>2</th>\n",
              "      <td>3</td>\n",
              "      <td>33.84</td>\n",
              "      <td>31.99</td>\n",
              "    </tr>\n",
              "    <tr>\n",
              "      <th>3</th>\n",
              "      <td>4</td>\n",
              "      <td>53.88</td>\n",
              "      <td>39.48</td>\n",
              "    </tr>\n",
              "    <tr>\n",
              "      <th>4</th>\n",
              "      <td>5</td>\n",
              "      <td>38.94</td>\n",
              "      <td>43.09</td>\n",
              "    </tr>\n",
              "  </tbody>\n",
              "</table>\n",
              "</div>\n",
              "      <button class=\"colab-df-convert\" onclick=\"convertToInteractive('df-08a4f53f-13e1-4d19-8bfe-f4ee48af3bcd')\"\n",
              "              title=\"Convert this dataframe to an interactive table.\"\n",
              "              style=\"display:none;\">\n",
              "        \n",
              "  <svg xmlns=\"http://www.w3.org/2000/svg\" height=\"24px\"viewBox=\"0 0 24 24\"\n",
              "       width=\"24px\">\n",
              "    <path d=\"M0 0h24v24H0V0z\" fill=\"none\"/>\n",
              "    <path d=\"M18.56 5.44l.94 2.06.94-2.06 2.06-.94-2.06-.94-.94-2.06-.94 2.06-2.06.94zm-11 1L8.5 8.5l.94-2.06 2.06-.94-2.06-.94L8.5 2.5l-.94 2.06-2.06.94zm10 10l.94 2.06.94-2.06 2.06-.94-2.06-.94-.94-2.06-.94 2.06-2.06.94z\"/><path d=\"M17.41 7.96l-1.37-1.37c-.4-.4-.92-.59-1.43-.59-.52 0-1.04.2-1.43.59L10.3 9.45l-7.72 7.72c-.78.78-.78 2.05 0 2.83L4 21.41c.39.39.9.59 1.41.59.51 0 1.02-.2 1.41-.59l7.78-7.78 2.81-2.81c.8-.78.8-2.07 0-2.86zM5.41 20L4 18.59l7.72-7.72 1.47 1.35L5.41 20z\"/>\n",
              "  </svg>\n",
              "      </button>\n",
              "      \n",
              "  <style>\n",
              "    .colab-df-container {\n",
              "      display:flex;\n",
              "      flex-wrap:wrap;\n",
              "      gap: 12px;\n",
              "    }\n",
              "\n",
              "    .colab-df-convert {\n",
              "      background-color: #E8F0FE;\n",
              "      border: none;\n",
              "      border-radius: 50%;\n",
              "      cursor: pointer;\n",
              "      display: none;\n",
              "      fill: #1967D2;\n",
              "      height: 32px;\n",
              "      padding: 0 0 0 0;\n",
              "      width: 32px;\n",
              "    }\n",
              "\n",
              "    .colab-df-convert:hover {\n",
              "      background-color: #E2EBFA;\n",
              "      box-shadow: 0px 1px 2px rgba(60, 64, 67, 0.3), 0px 1px 3px 1px rgba(60, 64, 67, 0.15);\n",
              "      fill: #174EA6;\n",
              "    }\n",
              "\n",
              "    [theme=dark] .colab-df-convert {\n",
              "      background-color: #3B4455;\n",
              "      fill: #D2E3FC;\n",
              "    }\n",
              "\n",
              "    [theme=dark] .colab-df-convert:hover {\n",
              "      background-color: #434B5C;\n",
              "      box-shadow: 0px 1px 3px 1px rgba(0, 0, 0, 0.15);\n",
              "      filter: drop-shadow(0px 1px 2px rgba(0, 0, 0, 0.3));\n",
              "      fill: #FFFFFF;\n",
              "    }\n",
              "  </style>\n",
              "\n",
              "      <script>\n",
              "        const buttonEl =\n",
              "          document.querySelector('#df-08a4f53f-13e1-4d19-8bfe-f4ee48af3bcd button.colab-df-convert');\n",
              "        buttonEl.style.display =\n",
              "          google.colab.kernel.accessAllowed ? 'block' : 'none';\n",
              "\n",
              "        async function convertToInteractive(key) {\n",
              "          const element = document.querySelector('#df-08a4f53f-13e1-4d19-8bfe-f4ee48af3bcd');\n",
              "          const dataTable =\n",
              "            await google.colab.kernel.invokeFunction('convertToInteractive',\n",
              "                                                     [key], {});\n",
              "          if (!dataTable) return;\n",
              "\n",
              "          const docLinkHtml = 'Like what you see? Visit the ' +\n",
              "            '<a target=\"_blank\" href=https://colab.research.google.com/notebooks/data_table.ipynb>data table notebook</a>'\n",
              "            + ' to learn more about interactive tables.';\n",
              "          element.innerHTML = '';\n",
              "          dataTable['output_type'] = 'display_data';\n",
              "          await google.colab.output.renderOutput(dataTable, element);\n",
              "          const docLink = document.createElement('div');\n",
              "          docLink.innerHTML = docLinkHtml;\n",
              "          element.appendChild(docLink);\n",
              "        }\n",
              "      </script>\n",
              "    </div>\n",
              "  </div>\n",
              "  "
            ]
          },
          "metadata": {},
          "execution_count": 19
        }
      ]
    },
    {
      "cell_type": "markdown",
      "source": [
        "38.\tДанные содержат информацию о скорости чтения названий цветов в зависимости от того, шрифт какого цвета использовался. В столбце 'DiffCol' указана скорость чтения цветного шрифта, а в столбце 'Black' - черно-белого. Сохраните в отдельные переменные выборки, которые собираетесь сравнивать, а именно в переменную x – скорость чтения названий цветов с цветным шрифтом, а в переменную y – скорость чтения названий цветов с черно-белым шрифтом."
      ],
      "metadata": {
        "id": "fm0NqtjwHQ6R"
      }
    },
    {
      "cell_type": "code",
      "source": [
        "x = it['DiffCol']\n",
        "y = it['Black']"
      ],
      "metadata": {
        "id": "1eOaNxcwHTYO"
      },
      "execution_count": null,
      "outputs": []
    },
    {
      "cell_type": "markdown",
      "source": [
        "39.\t Посмотрите на гистограммы переменных x и y. Сделайте вывод о нормальности их распределений и о возможности применения критерия Стьюдента для сравнения средних."
      ],
      "metadata": {
        "id": "hUZ3W5bgHk63"
      }
    },
    {
      "cell_type": "code",
      "source": [
        "plt.hist(x)\n",
        "#распределение отличается от нормального"
      ],
      "metadata": {
        "colab": {
          "base_uri": "https://localhost:8080/",
          "height": 340
        },
        "id": "X2EH9s6WHmMe",
        "outputId": "afe5d67c-14a6-4b53-d40c-6cfe07443330"
      },
      "execution_count": null,
      "outputs": [
        {
          "output_type": "execute_result",
          "data": {
            "text/plain": [
              "(array([ 3.,  3.,  8.,  9.,  8., 14., 12.,  3.,  5.,  5.]),\n",
              " array([29.13 , 31.872, 34.614, 37.356, 40.098, 42.84 , 45.582, 48.324,\n",
              "        51.066, 53.808, 56.55 ]),\n",
              " <BarContainer object of 10 artists>)"
            ]
          },
          "metadata": {},
          "execution_count": 24
        },
        {
          "output_type": "display_data",
          "data": {
            "text/plain": [
              "<Figure size 432x288 with 1 Axes>"
            ],
            "image/png": "[encoded data removed]"
          },
          "metadata": {
            "needs_background": "light"
          }
        }
      ]
    },
    {
      "cell_type": "code",
      "source": [
        "plt.hist(y)\n",
        "#распределение отличается от нормального"
      ],
      "metadata": {
        "colab": {
          "base_uri": "https://localhost:8080/",
          "height": 340
        },
        "id": "pLoLel35HtfZ",
        "outputId": "1c942149-d60e-4f1f-d273-5e28e35c3db7"
      },
      "execution_count": null,
      "outputs": [
        {
          "output_type": "execute_result",
          "data": {
            "text/plain": [
              "(array([ 4.,  2.,  6., 10., 15., 11., 10.,  7.,  2.,  3.]),\n",
              " array([29.85 , 32.086, 34.322, 36.558, 38.794, 41.03 , 43.266, 45.502,\n",
              "        47.738, 49.974, 52.21 ]),\n",
              " <BarContainer object of 10 artists>)"
            ]
          },
          "metadata": {},
          "execution_count": 25
        },
        {
          "output_type": "display_data",
          "data": {
            "text/plain": [
              "<Figure size 432x288 with 1 Axes>"
            ],
            "image/png": "[encoded data removed]"
          },
          "metadata": {
            "needs_background": "light"
          }
        }
      ]
    },
    {
      "cell_type": "code",
      "source": [
        "stats.fligner(x,y)\n",
        "#дисперсии не равны, p-value < 0.05, значит, критерий Стьюдента для сравнения средних неприменим"
      ],
      "metadata": {
        "colab": {
          "base_uri": "https://localhost:8080/"
        },
        "id": "TBPy-_uYKChA",
        "outputId": "99e7ea5b-7062-4b65-9be3-46ba34664950"
      },
      "execution_count": null,
      "outputs": [
        {
          "output_type": "execute_result",
          "data": {
            "text/plain": [
              "FlignerResult(statistic=3.992070960607846, pvalue=0.0457148434681976)"
            ]
          },
          "metadata": {},
          "execution_count": 27
        }
      ]
    },
    {
      "cell_type": "markdown",
      "source": [
        "40.\tПроверьте гипотезу о равенстве средних значений двух зависимых выборок на основе критерия Стьюдента для зависимых выборок. Воспользуйтесь при этом функцией ttest_rel() из модуля scipy.stats. Прокомментируйте результат."
      ],
      "metadata": {
        "id": "9fyyiLXNKW1d"
      }
    },
    {
      "cell_type": "code",
      "source": [
        "stats.ttest_rel(x,y)\n",
        "#средние значения не равны, p-value < 0.05"
      ],
      "metadata": {
        "colab": {
          "base_uri": "https://localhost:8080/"
        },
        "id": "P21FIdYjKZe2",
        "outputId": "9e51de1d-40b8-445d-a45b-6e729685b214"
      },
      "execution_count": null,
      "outputs": [
        {
          "output_type": "execute_result",
          "data": {
            "text/plain": [
              "TtestResult(statistic=2.463853781331113, pvalue=0.0162416779538072, df=69)"
            ]
          },
          "metadata": {},
          "execution_count": 28
        }
      ]
    },
    {
      "cell_type": "markdown",
      "source": [
        "41.\tЗагрузите данные из файла Albuquerque Home Prices_data.txt с помощью функции read_csv() из модуля pandas. Посмотрите на первые 5 наблюдений с помощью функции head().\n",
        "42.\tЗамените значение -9999, которое здесь употребляется в качестве пустого значения, на корректное пустое значение nan из модуля numpy. Воспользуйтесь при этом функцией replace(). Выведите на экран первые 5 наблюдений преобразованных данных."
      ],
      "metadata": {
        "id": "giKSW1_PKn8x"
      }
    },
    {
      "cell_type": "code",
      "source": [
        "df=pd.read_csv('/content/drive/MyDrive/data ML/Albuquerque Home Prices_data.txt', sep='\\t') \n",
        "df=df.replace(-9999,np.nan)\n",
        "df.head()"
      ],
      "metadata": {
        "colab": {
          "base_uri": "https://localhost:8080/",
          "height": 206
        },
        "id": "8dslkUpDKnR7",
        "outputId": "e1a6e955-5705-4e1c-8e25-8d1f4c174fc0"
      },
      "execution_count": null,
      "outputs": [
        {
          "output_type": "execute_result",
          "data": {
            "text/plain": [
              "   PRICE  SQFT   AGE  FEATS  NE  CUST  COR     TAX\n",
              "0   2050  2650  13.0      7   1     1    0  1639.0\n",
              "1   2080  2600   NaN      4   1     1    0  1088.0\n",
              "2   2150  2664   6.0      5   1     1    0  1193.0\n",
              "3   2150  2921   3.0      6   1     1    0  1635.0\n",
              "4   1999  2580   4.0      4   1     1    0  1732.0"
            ],
            "text/html": [
              "\n",
              "  <div id=\"df-3a5eac42-173e-48f8-b824-b0e81d68b622\">\n",
              "    <div class=\"colab-df-container\">\n",
              "      <div>\n",
              "<style scoped>\n",
              "    .dataframe tbody tr th:only-of-type {\n",
              "        vertical-align: middle;\n",
              "    }\n",
              "\n",
              "    .dataframe tbody tr th {\n",
              "        vertical-align: top;\n",
              "    }\n",
              "\n",
              "    .dataframe thead th {\n",
              "        text-align: right;\n",
              "    }\n",
              "</style>\n",
              "<table border=\"1\" class=\"dataframe\">\n",
              "  <thead>\n",
              "    <tr style=\"text-align: right;\">\n",
              "      <th></th>\n",
              "      <th>PRICE</th>\n",
              "      <th>SQFT</th>\n",
              "      <th>AGE</th>\n",
              "      <th>FEATS</th>\n",
              "      <th>NE</th>\n",
              "      <th>CUST</th>\n",
              "      <th>COR</th>\n",
              "      <th>TAX</th>\n",
              "    </tr>\n",
              "  </thead>\n",
              "  <tbody>\n",
              "    <tr>\n",
              "      <th>0</th>\n",
              "      <td>2050</td>\n",
              "      <td>2650</td>\n",
              "      <td>13.0</td>\n",
              "      <td>7</td>\n",
              "      <td>1</td>\n",
              "      <td>1</td>\n",
              "      <td>0</td>\n",
              "      <td>1639.0</td>\n",
              "    </tr>\n",
              "    <tr>\n",
              "      <th>1</th>\n",
              "      <td>2080</td>\n",
              "      <td>2600</td>\n",
              "      <td>NaN</td>\n",
              "      <td>4</td>\n",
              "      <td>1</td>\n",
              "      <td>1</td>\n",
              "      <td>0</td>\n",
              "      <td>1088.0</td>\n",
              "    </tr>\n",
              "    <tr>\n",
              "      <th>2</th>\n",
              "      <td>2150</td>\n",
              "      <td>2664</td>\n",
              "      <td>6.0</td>\n",
              "      <td>5</td>\n",
              "      <td>1</td>\n",
              "      <td>1</td>\n",
              "      <td>0</td>\n",
              "      <td>1193.0</td>\n",
              "    </tr>\n",
              "    <tr>\n",
              "      <th>3</th>\n",
              "      <td>2150</td>\n",
              "      <td>2921</td>\n",
              "      <td>3.0</td>\n",
              "      <td>6</td>\n",
              "      <td>1</td>\n",
              "      <td>1</td>\n",
              "      <td>0</td>\n",
              "      <td>1635.0</td>\n",
              "    </tr>\n",
              "    <tr>\n",
              "      <th>4</th>\n",
              "      <td>1999</td>\n",
              "      <td>2580</td>\n",
              "      <td>4.0</td>\n",
              "      <td>4</td>\n",
              "      <td>1</td>\n",
              "      <td>1</td>\n",
              "      <td>0</td>\n",
              "      <td>1732.0</td>\n",
              "    </tr>\n",
              "  </tbody>\n",
              "</table>\n",
              "</div>\n",
              "      <button class=\"colab-df-convert\" onclick=\"convertToInteractive('df-3a5eac42-173e-48f8-b824-b0e81d68b622')\"\n",
              "              title=\"Convert this dataframe to an interactive table.\"\n",
              "              style=\"display:none;\">\n",
              "        \n",
              "  <svg xmlns=\"http://www.w3.org/2000/svg\" height=\"24px\"viewBox=\"0 0 24 24\"\n",
              "       width=\"24px\">\n",
              "    <path d=\"M0 0h24v24H0V0z\" fill=\"none\"/>\n",
              "    <path d=\"M18.56 5.44l.94 2.06.94-2.06 2.06-.94-2.06-.94-.94-2.06-.94 2.06-2.06.94zm-11 1L8.5 8.5l.94-2.06 2.06-.94-2.06-.94L8.5 2.5l-.94 2.06-2.06.94zm10 10l.94 2.06.94-2.06 2.06-.94-2.06-.94-.94-2.06-.94 2.06-2.06.94z\"/><path d=\"M17.41 7.96l-1.37-1.37c-.4-.4-.92-.59-1.43-.59-.52 0-1.04.2-1.43.59L10.3 9.45l-7.72 7.72c-.78.78-.78 2.05 0 2.83L4 21.41c.39.39.9.59 1.41.59.51 0 1.02-.2 1.41-.59l7.78-7.78 2.81-2.81c.8-.78.8-2.07 0-2.86zM5.41 20L4 18.59l7.72-7.72 1.47 1.35L5.41 20z\"/>\n",
              "  </svg>\n",
              "      </button>\n",
              "      \n",
              "  <style>\n",
              "    .colab-df-container {\n",
              "      display:flex;\n",
              "      flex-wrap:wrap;\n",
              "      gap: 12px;\n",
              "    }\n",
              "\n",
              "    .colab-df-convert {\n",
              "      background-color: #E8F0FE;\n",
              "      border: none;\n",
              "      border-radius: 50%;\n",
              "      cursor: pointer;\n",
              "      display: none;\n",
              "      fill: #1967D2;\n",
              "      height: 32px;\n",
              "      padding: 0 0 0 0;\n",
              "      width: 32px;\n",
              "    }\n",
              "\n",
              "    .colab-df-convert:hover {\n",
              "      background-color: #E2EBFA;\n",
              "      box-shadow: 0px 1px 2px rgba(60, 64, 67, 0.3), 0px 1px 3px 1px rgba(60, 64, 67, 0.15);\n",
              "      fill: #174EA6;\n",
              "    }\n",
              "\n",
              "    [theme=dark] .colab-df-convert {\n",
              "      background-color: #3B4455;\n",
              "      fill: #D2E3FC;\n",
              "    }\n",
              "\n",
              "    [theme=dark] .colab-df-convert:hover {\n",
              "      background-color: #434B5C;\n",
              "      box-shadow: 0px 1px 3px 1px rgba(0, 0, 0, 0.15);\n",
              "      filter: drop-shadow(0px 1px 2px rgba(0, 0, 0, 0.3));\n",
              "      fill: #FFFFFF;\n",
              "    }\n",
              "  </style>\n",
              "\n",
              "      <script>\n",
              "        const buttonEl =\n",
              "          document.querySelector('#df-3a5eac42-173e-48f8-b824-b0e81d68b622 button.colab-df-convert');\n",
              "        buttonEl.style.display =\n",
              "          google.colab.kernel.accessAllowed ? 'block' : 'none';\n",
              "\n",
              "        async function convertToInteractive(key) {\n",
              "          const element = document.querySelector('#df-3a5eac42-173e-48f8-b824-b0e81d68b622');\n",
              "          const dataTable =\n",
              "            await google.colab.kernel.invokeFunction('convertToInteractive',\n",
              "                                                     [key], {});\n",
              "          if (!dataTable) return;\n",
              "\n",
              "          const docLinkHtml = 'Like what you see? Visit the ' +\n",
              "            '<a target=\"_blank\" href=https://colab.research.google.com/notebooks/data_table.ipynb>data table notebook</a>'\n",
              "            + ' to learn more about interactive tables.';\n",
              "          element.innerHTML = '';\n",
              "          dataTable['output_type'] = 'display_data';\n",
              "          await google.colab.output.renderOutput(dataTable, element);\n",
              "          const docLink = document.createElement('div');\n",
              "          docLink.innerHTML = docLinkHtml;\n",
              "          element.appendChild(docLink);\n",
              "        }\n",
              "      </script>\n",
              "    </div>\n",
              "  </div>\n",
              "  "
            ]
          },
          "metadata": {},
          "execution_count": 6
        }
      ]
    },
    {
      "cell_type": "markdown",
      "source": [
        "43.\tСохраните в отдельные переменные выборки, которые собираетесь сравнивать, а именно в переменную x – цену домов, расположенных на углу улицы (COR = 1), и в переменную y – цену домов, расположенных не на углу улицы (COR = 0)."
      ],
      "metadata": {
        "id": "Uc1Aqco4K5LC"
      }
    },
    {
      "cell_type": "code",
      "source": [
        "x=df[df['COR']==1]['PRICE']\n",
        "y=df[df['COR']==0]['PRICE']"
      ],
      "metadata": {
        "id": "qa-j395yK9aE"
      },
      "execution_count": null,
      "outputs": []
    },
    {
      "cell_type": "markdown",
      "source": [
        "44.\tНанесите на одну диаграмму 2 гистограммы для сравниваемых типов домов. Воспользуйтесь при этом функцией hist() и функцией legend() из модуля matplotlib.pyplot. Сделайте вывод о нормальности распределений данных двух выборок."
      ],
      "metadata": {
        "id": "MG4gQvMsK8qD"
      }
    },
    {
      "cell_type": "code",
      "source": [
        "plt.hist(x, label='цена домов на углу', alpha=0.8, edgecolor='black')\n",
        "plt.hist(y, label='цена домов не на углу', alpha=0.7, edgecolor='yellow')\n",
        "plt.show()\n",
        "#распределения отличаются от нормальных"
      ],
      "metadata": {
        "colab": {
          "base_uri": "https://localhost:8080/",
          "height": 430
        },
        "id": "5HtW9LLtKz9q",
        "outputId": "2e52baa3-b494-41d7-a60a-383ab2a34bc2"
      },
      "execution_count": null,
      "outputs": [
        {
          "output_type": "display_data",
          "data": {
            "text/plain": [
              "<Figure size 640x480 with 1 Axes>"
            ],
            "image/png": "[encoded data removed]"
          },
          "metadata": {}
        }
      ]
    },
    {
      "cell_type": "markdown",
      "source": [
        "45.\tСравните медианы двух независимых выборок на основе критерия Манна-Уитни. Воспользуйтесь при этом функцией mannwhitneyu() из модуля scipy.stats. Прокомментируйте результат."
      ],
      "metadata": {
        "id": "1BkG2NN5K8Wf"
      }
    },
    {
      "cell_type": "code",
      "source": [
        "stats.mannwhitneyu(x,y)\n",
        "#p-value > 0.05, нулевая гипотеза подтверждается: нет статистически разницы между медианами двух независимых выборок. Данный тест использовался, так как распределение не является нормальным"
      ],
      "metadata": {
        "colab": {
          "base_uri": "https://localhost:8080/"
        },
        "id": "fP-P4rCYK64C",
        "outputId": "0da32786-aba6-43f4-84db-09cfa9cf0841"
      },
      "execution_count": null,
      "outputs": [
        {
          "output_type": "execute_result",
          "data": {
            "text/plain": [
              "MannwhitneyuResult(statistic=1009.0, pvalue=0.8044081572425339)"
            ]
          },
          "metadata": {},
          "execution_count": 9
        }
      ]
    },
    {
      "cell_type": "markdown",
      "source": [
        "46.\tПредположим, что перед нами стоит задача сравнить оценки привлекательности продукта до и после просмотра рекламы. Мы знаем, что распределения оценок отличаются от нормального. Поэтому требуется сравнить медианы оценок в двух связанных выборках. \n",
        "47.\tВыборки будут искусственные. Чтобы результат был воспроизводимым, с помощью функции seed() из модуля numpy.random зададим счетчик случайных чисел. Пусть он принимает значение 1.\n"
      ],
      "metadata": {
        "id": "pLg1pFcHORv0"
      }
    },
    {
      "cell_type": "code",
      "source": [
        "import numpy as np\n",
        "from numpy.random import rand"
      ],
      "metadata": {
        "id": "cbdIxjqEOQ6h"
      },
      "execution_count": null,
      "outputs": []
    },
    {
      "cell_type": "code",
      "source": [
        "np.random.seed(1)"
      ],
      "metadata": {
        "id": "UVCcg18kOWfw"
      },
      "execution_count": null,
      "outputs": []
    },
    {
      "cell_type": "markdown",
      "source": [
        "48.\tСгенерируем 2 выборки оценок продукта (data1, data2), по 100 наблюдений в каждой, путем добавления к медиане каждой выборки случайного числа из равномерного распределения в интервале от 0 до 10. Пусть медиана 1-ой выборки равна 50, а 2-ой – 51. Заданное количество случайных чисел (100) из равномерного распределения в интервале от 0 до 1 можно сгенерировать с помощью функции rand(100) из модуля numpy.random. Преобразуйте найденное число так, чтобы перейти к нужному интервалу чисел (от 0 до 10). Выведите на экран по 5 наблюдений из каждой выборки."
      ],
      "metadata": {
        "id": "E15Ai2KCOvkO"
      }
    },
    {
      "cell_type": "code",
      "source": [
        "data1=50+rand(100)*10\n",
        "data2=51+rand(100)*10"
      ],
      "metadata": {
        "id": "i00DRHuROoaL"
      },
      "execution_count": null,
      "outputs": []
    },
    {
      "cell_type": "code",
      "source": [
        "data1[:5]"
      ],
      "metadata": {
        "colab": {
          "base_uri": "https://localhost:8080/"
        },
        "id": "jGIOnxWYPSPu",
        "outputId": "c73c28d6-1c1e-4866-dc98-44af263e889e"
      },
      "execution_count": null,
      "outputs": [
        {
          "output_type": "execute_result",
          "data": {
            "text/plain": [
              "array([54.17022005, 57.20324493, 50.00114375, 53.02332573, 51.46755891])"
            ]
          },
          "metadata": {},
          "execution_count": 20
        }
      ]
    },
    {
      "cell_type": "code",
      "source": [
        "data2[:5]"
      ],
      "metadata": {
        "colab": {
          "base_uri": "https://localhost:8080/"
        },
        "id": "CQHbZUdoPmip",
        "outputId": "2b57f1d4-fdba-4403-dc11-7c1e3b5d81da"
      },
      "execution_count": null,
      "outputs": [
        {
          "output_type": "execute_result",
          "data": {
            "text/plain": [
              "array([54.26644902, 56.27058102, 59.85942099, 54.5726976 , 60.08535151])"
            ]
          },
          "metadata": {},
          "execution_count": 21
        }
      ]
    },
    {
      "cell_type": "markdown",
      "source": [
        "49.\tСравните медианы двух связанных выборок на основе критерия T-Вилкоксона. Воспользуйтесь при этом функцией wilcoxon(data1, data2) из модуля scipy.stats. Прокомментируйте результат."
      ],
      "metadata": {
        "id": "8SLQ9iKqPMMd"
      }
    },
    {
      "cell_type": "code",
      "source": [
        "stats.wilcoxon(data1, data2)\n",
        "# p - value < 0.05, нулевая гипотеза о равенстве выборок и одинаковости распределения не подтвержается"
      ],
      "metadata": {
        "colab": {
          "base_uri": "https://localhost:8080/"
        },
        "id": "vrNF8eLRPo8N",
        "outputId": "0490df98-db28-4a5d-d4e4-4c087b75ce09"
      },
      "execution_count": null,
      "outputs": [
        {
          "output_type": "execute_result",
          "data": {
            "text/plain": [
              "WilcoxonResult(statistic=1937.0, pvalue=0.043203735179544844)"
            ]
          },
          "metadata": {},
          "execution_count": 23
        }
      ]
    },
    {
      "cell_type": "markdown",
      "source": [
        "50.\tПредположим, что перед нами стоит задача сравнить цены продукта в трех регионах. Мы знаем, что распределения цен не существенно отличаются от нормального, дисперсии примерно одинаковые. Поэтому требуется сравнить средние величины в трех независимых выборках, что возможно с помощью дисперсионного анализа. \n",
        "51.\tВыборки будут искусственные. Чтобы результат был воспроизводимым, с помощью функции seed() из модуля numpy.random зададим счетчик случайных чисел. Пусть он принимает значение 1.\n"
      ],
      "metadata": {
        "id": "z5ERJH1WQ72L"
      }
    },
    {
      "cell_type": "code",
      "source": [
        "np.random.seed(1)"
      ],
      "metadata": {
        "id": "D9DmBxQuRAr5"
      },
      "execution_count": null,
      "outputs": []
    },
    {
      "cell_type": "code",
      "source": [
        "from numpy.random import randn\n",
        "from numpy.random import seed"
      ],
      "metadata": {
        "id": "JE2SjFq3RRRt"
      },
      "execution_count": null,
      "outputs": []
    },
    {
      "cell_type": "markdown",
      "source": [
        "52.\tСгенерируем 3 выборки цен продукта (data1, data2, data3), по 100 наблюдений в каждой, путем добавления к средней каждой выборки случайного числа из стандартного нормального распределения, увеличенного в 5 раз. Пусть средняя 1-ой выборки равна 50, 2-ой – 50, 3-й - 52. Заданное количество случайных чисел (100) из стандартного нормального распределения можно сгенерировать с помощью функции randn(100) из модуля numpy.random. Умножьте найденное число на 5. Выведите на экран по 5 наблюдений из каждой выборки."
      ],
      "metadata": {
        "id": "dve3oRjYRCTE"
      }
    },
    {
      "cell_type": "code",
      "source": [
        "data1=50+5*randn(100) \n",
        "data2=50+5*randn(100) \n",
        "data3=52+5*randn(100) "
      ],
      "metadata": {
        "id": "_wCe8NWyRGT_"
      },
      "execution_count": null,
      "outputs": []
    },
    {
      "cell_type": "code",
      "source": [
        "data1[:5]"
      ],
      "metadata": {
        "colab": {
          "base_uri": "https://localhost:8080/"
        },
        "id": "BXPQ6V6ORYz2",
        "outputId": "3f9e17fd-6638-4223-ebfc-e7976d087f30"
      },
      "execution_count": null,
      "outputs": [
        {
          "output_type": "execute_result",
          "data": {
            "text/plain": [
              "array([58.12172682, 46.94121793, 47.35914124, 44.63515689, 54.32703815])"
            ]
          },
          "metadata": {},
          "execution_count": 27
        }
      ]
    },
    {
      "cell_type": "code",
      "source": [
        "data2[:5]"
      ],
      "metadata": {
        "colab": {
          "base_uri": "https://localhost:8080/"
        },
        "id": "ougSBfY7RZ4h",
        "outputId": "8d4d79f6-049a-49cc-801a-123bc6cc1602"
      },
      "execution_count": null,
      "outputs": [
        {
          "output_type": "execute_result",
          "data": {
            "text/plain": [
              "array([47.76435718, 56.12253852, 52.01745821, 52.96789262, 44.52544077])"
            ]
          },
          "metadata": {},
          "execution_count": 28
        }
      ]
    },
    {
      "cell_type": "code",
      "source": [
        "data3[:5]"
      ],
      "metadata": {
        "colab": {
          "base_uri": "https://localhost:8080/"
        },
        "id": "gv9itwrZRbMn",
        "outputId": "057e88f3-99ba-4200-8d2a-f1da113e88e9"
      },
      "execution_count": null,
      "outputs": [
        {
          "output_type": "execute_result",
          "data": {
            "text/plain": [
              "array([49.99560904, 56.12002809, 49.18847284, 61.77439038, 45.34024167])"
            ]
          },
          "metadata": {},
          "execution_count": 29
        }
      ]
    },
    {
      "cell_type": "markdown",
      "source": [
        "53.\tСравните средние трех независимых выборок с помощью дисперсионного анализа. Воспользуйтесь при этом функцией f_oneway(data1, data2, data3) из модуля scipy.stats. Прокомментируйте результат.\n"
      ],
      "metadata": {
        "id": "yu2kS2q1RjvE"
      }
    },
    {
      "cell_type": "code",
      "source": [
        "stats.f_oneway(data1, data2, data3) \n",
        "# p-value < 0.05, нулевая гипотеза не подтвержается, средние не равны"
      ],
      "metadata": {
        "colab": {
          "base_uri": "https://localhost:8080/"
        },
        "id": "OZjjGd8yRli4",
        "outputId": "91752a60-f67d-4ee4-886f-bd67773d6279"
      },
      "execution_count": null,
      "outputs": [
        {
          "output_type": "execute_result",
          "data": {
            "text/plain": [
              "F_onewayResult(statistic=3.6545375499692327, pvalue=0.027043909170728936)"
            ]
          },
          "metadata": {},
          "execution_count": 30
        }
      ]
    },
    {
      "cell_type": "markdown",
      "source": [
        "54.\tПредположим, что перед нами стоит задача сравнить цены продукта в трех регионах. Мы знаем, что распределения цен отличаются от нормального, а также, что более существенно, дисперсии разные. Поэтому требуется сравнить медианы в трех независимых выборках, что возможно с помощью непараметрического аналога дисперсионного анализа – теста H-Краскала-Уолеса. \n",
        "55.\tВыборки будут искусственные. Чтобы результат был воспроизводимым, с помощью функции seed() из модуля numpy.random зададим счетчик случайных чисел. Пусть он принимает значение 1."
      ],
      "metadata": {
        "id": "2y4hmo1FSJc6"
      }
    },
    {
      "cell_type": "code",
      "source": [
        "seed(1)"
      ],
      "metadata": {
        "id": "-2JWfXsxR5aw"
      },
      "execution_count": null,
      "outputs": []
    },
    {
      "cell_type": "markdown",
      "source": [
        "56.\tСгенерируем 3 выборки оценок продукта (data1, data2, data3), по 100 наблюдений в каждой, путем добавления к медиане каждой выборки случайного числа из равномерного распределения в интервале от 0 до 10. Пусть медиана 1-ой выборки равна 50, 2-ой – 51, 3-й - 52. Заданное количество случайных чисел (100) из равномерного распределения в интервале от 0 до 1 можно сгенерировать с помощью функции rand(100) из модуля numpy.random. Преобразуйте найденное число так, чтобы перейти к нужному интервалу чисел (от 0 до 10). Выведите на экран по 5 наблюдений из каждой выборки."
      ],
      "metadata": {
        "id": "GECZyCc-S-n5"
      }
    },
    {
      "cell_type": "code",
      "source": [
        "data1=50+10*rand(100) \n",
        "data2=50+10*rand(100) \n",
        "data3=52+10*rand(100) "
      ],
      "metadata": {
        "id": "cs6zLxfYS3WY"
      },
      "execution_count": null,
      "outputs": []
    },
    {
      "cell_type": "code",
      "source": [
        "data1[:5]"
      ],
      "metadata": {
        "colab": {
          "base_uri": "https://localhost:8080/"
        },
        "id": "MyLi9iGDTPXx",
        "outputId": "47c0cda8-f6e9-469f-d15e-b7ea03c561be"
      },
      "execution_count": null,
      "outputs": [
        {
          "output_type": "execute_result",
          "data": {
            "text/plain": [
              "array([54.17022005, 57.20324493, 50.00114375, 53.02332573, 51.46755891])"
            ]
          },
          "metadata": {},
          "execution_count": 34
        }
      ]
    },
    {
      "cell_type": "code",
      "source": [
        "data2[:5]"
      ],
      "metadata": {
        "colab": {
          "base_uri": "https://localhost:8080/"
        },
        "id": "_sJ4Kqw_TQS6",
        "outputId": "0374a247-19a4-4014-b274-1b18156342d3"
      },
      "execution_count": null,
      "outputs": [
        {
          "output_type": "execute_result",
          "data": {
            "text/plain": [
              "array([53.26644902, 55.27058102, 58.85942099, 53.5726976 , 59.08535151])"
            ]
          },
          "metadata": {},
          "execution_count": 35
        }
      ]
    },
    {
      "cell_type": "code",
      "source": [
        "data3[:5]"
      ],
      "metadata": {
        "colab": {
          "base_uri": "https://localhost:8080/"
        },
        "id": "3TsNTWPsTR6n",
        "outputId": "e008f106-275a-4f39-d420-b5bd53c59dc5"
      },
      "execution_count": null,
      "outputs": [
        {
          "output_type": "execute_result",
          "data": {
            "text/plain": [
              "array([61.50176119, 57.56653188, 61.1560635 , 58.41566209, 55.90007714])"
            ]
          },
          "metadata": {},
          "execution_count": 36
        }
      ]
    },
    {
      "cell_type": "markdown",
      "source": [
        "57. Сравните медианы трех независимых выборок на основе критерия H-Краскала-Уолеса. Воспользуйтесь при этом функцией kruskal(data1, data2, data3) из модуля scipy.stats. Прокомментируйте результат."
      ],
      "metadata": {
        "id": "7rb3ZJQZTVXY"
      }
    },
    {
      "cell_type": "code",
      "source": [
        "stats.kruskal(data1, data2, data3)\n",
        "#нулевая гипотеза о равенстве медиан нескольких выборок не подтвержается, т.к. p-value < 0.05"
      ],
      "metadata": {
        "colab": {
          "base_uri": "https://localhost:8080/"
        },
        "id": "KcgkwCZlTXb2",
        "outputId": "e0f44638-28e0-4b1d-db68-d4baa72cc8c8"
      },
      "execution_count": null,
      "outputs": [
        {
          "output_type": "execute_result",
          "data": {
            "text/plain": [
              "KruskalResult(statistic=43.43618338870442, pvalue=3.6978783475020427e-10)"
            ]
          },
          "metadata": {},
          "execution_count": 37
        }
      ]
    },
    {
      "cell_type": "markdown",
      "source": [
        "58.\tПредположим, что перед нами стоит задача сравнить цены продукта в регионе в разные периоды времени, пусть 3 месяца. Мы знаем, что распределения цен отличаются от нормального, а также, что более существенно, дисперсии разные. Поэтому требуется сравнить медианы в трех зависимых выборках, что возможно с помощью непараметрического аналога дисперсионного анализа с повторными измерениями – теста хи-квадрат Фридмана. \n",
        "59.\tПредположим, что созданные нами в предыдущем случае выборки data1, data2, data3 (п. 37) содержат цены продукта в регионе в разные периоды времени, пусть за январь, февраль и март.\n",
        "60. Сравните медианы трех зависимых выборок на основе критерия хи-квадрат Фридмана. Воспользуйтесь при этом функцией friedmanchisquare(data1, data2, data3) из модуля scipy.stats. Прокомментируйте результат."
      ],
      "metadata": {
        "id": "6yNoHQAnT9lz"
      }
    },
    {
      "cell_type": "code",
      "source": [
        "stats.friedmanchisquare(data1, data2, data3)\n",
        "# p -value < 0.05, отвергаем нулевую гипотезу о равенстве медиан"
      ],
      "metadata": {
        "colab": {
          "base_uri": "https://localhost:8080/"
        },
        "id": "LHMOHlO5UYOx",
        "outputId": "530905ae-83fa-4248-a544-56162edbaa53"
      },
      "execution_count": null,
      "outputs": [
        {
          "output_type": "execute_result",
          "data": {
            "text/plain": [
              "FriedmanchisquareResult(statistic=47.36000000000013, pvalue=5.198842595030187e-11)"
            ]
          },
          "metadata": {},
          "execution_count": 38
        }
      ]
    },
    {
      "cell_type": "markdown",
      "source": [
        "61.\tДопустим, вы интересуетесь влиянием разговоров по мобильному телефону на время реакции водителя. Вы создали выборку из людей, случайно отнесенных к той или иной экспериментальной группе. В первой группе участники исследования при работе на тренажере реагировали на ряд сложных для водителя ситуаций, разговаривая по мобильному телефону. Во второй группе люди выполняли то же задание, но уже без мобильного телефона. Для каждого человека регистрировали общее время реакции. Вы используете двухсторонний тест Стьюдента для независимых выборок, чтобы сравнить среднее время реакции для водителей с мобильным телефоном и для водителей без отвлекающих факторов.\n",
        "62.\tПредположим, по предыдущим исследованиям вам известно, что стандартное отклонение времени реакции составляет 1,25 секунды. Также предположим, что различие во времени реакции на 1 секунду считается существенным. Таким образом, вам хотелось бы провести исследование, в котором можно было обнаружить эффект величиной d=((μ_1-μ_2 ))/σ=1/1.25=0.8  или больше, где μ_1 – среднее значение для 1-й группы, μ_2 – среднее значение для 2-й группы, σ – стандартное отклонение общей ошибки. В дополнение к этому вы хотите быть уверенными на 90% в том, что действительно обнаружите различия, если они существуют, и на 95% - в том, что вы не назовете значимым то различие, которое на самом деле является результатом случайных флуктуаций. Сколько человек вам нужно обследовать?\n",
        "63.\tСоздайте класс анализа мощности для критерия Стьюдента с помощью функции TTestIndPower(). Результат запишите в переменную analysis.\n",
        "64.\tПроведите анализ мощности для поиска объема выборки, воспользовавшись функцией solve_power(effect, power=power, nobs1=None, ratio=1.0, alpha=alpha, alternative='two-sided'). Прокомментируйте результат.\n"
      ],
      "metadata": {
        "id": "KIdNrwTAT3T7"
      }
    },
    {
      "cell_type": "code",
      "source": [
        "effect = 0.8\n",
        "power = 0.9\n",
        "alpha = 0.05"
      ],
      "metadata": {
        "id": "Wp1kh8x7w6Df"
      },
      "execution_count": null,
      "outputs": []
    },
    {
      "cell_type": "code",
      "source": [
        "import statsmodels.stats.power "
      ],
      "metadata": {
        "id": "_E4MaOzV0Cnu"
      },
      "execution_count": null,
      "outputs": []
    },
    {
      "cell_type": "code",
      "source": [
        "analysis = statsmodels.stats.power.TTestIndPower()"
      ],
      "metadata": {
        "id": "t6T3zDNBzzMz"
      },
      "execution_count": null,
      "outputs": []
    },
    {
      "cell_type": "code",
      "source": [
        "analysis.solve_power(effect, power=power, nobs1=None, ratio=1.0, alpha=alpha, alternative='two-sided')"
      ],
      "metadata": {
        "colab": {
          "base_uri": "https://localhost:8080/"
        },
        "id": "b_dl-Yt6z6qk",
        "outputId": "1b50be1a-1c0e-45a4-fd73-e1efbcf1a588"
      },
      "execution_count": null,
      "outputs": [
        {
          "output_type": "stream",
          "name": "stderr",
          "text": [
            "/usr/local/lib/python3.9/dist-packages/scipy/stats/_continuous_distns.py:6832: RuntimeWarning: invalid value encountered in _nct_sf\n",
            "  return np.clip(_boost._nct_sf(x, df, nc), 0, 1)\n",
            "/usr/local/lib/python3.9/dist-packages/scipy/stats/_continuous_distns.py:6826: RuntimeWarning: invalid value encountered in _nct_cdf\n",
            "  return np.clip(_boost._nct_cdf(x, df, nc), 0, 1)\n"
          ]
        },
        {
          "output_type": "execute_result",
          "data": {
            "text/plain": [
              "33.82554233183192"
            ]
          },
          "metadata": {},
          "execution_count": 18
        }
      ]
    },
    {
      "cell_type": "markdown",
      "source": [
        "65.\tПредставим, что, сравнивая две группы, вы хотите, чтобы можно было обнаружить различие между выборочными средними в 0,5 стандартного отклонения. Вы хотите снизить шансы обнаружения различий по ошибке до 1 из 100. Кроме того, вы можете исследовать только по 20 человек в группе. С какой вероятностью вы сможете выявить различия между выборочными средними при таких условиях?\n",
        "66.\tПроведите анализ мощности для поиска мощности, воспользовавшись функцией solve_power(effect, power=None, nobs1=n, ratio=1.0, alpha=alpha). Прокомментируйте результат.\n"
      ],
      "metadata": {
        "id": "GJML5nEg-LOP"
      }
    },
    {
      "cell_type": "code",
      "source": [
        "effect = 2\n",
        "n = 40\n",
        "alpha = 0.05"
      ],
      "metadata": {
        "id": "9gtRCl8kO4ij"
      },
      "execution_count": null,
      "outputs": []
    },
    {
      "cell_type": "code",
      "source": [
        "analysis.solve_power(effect, power=None, nobs1=n, ratio=1.0, alpha=alpha)"
      ],
      "metadata": {
        "colab": {
          "base_uri": "https://localhost:8080/"
        },
        "id": "6W_0OpTgrz0K",
        "outputId": "1ec3b5be-bf6f-420d-e3c7-e880ccf22433"
      },
      "execution_count": null,
      "outputs": [
        {
          "output_type": "execute_result",
          "data": {
            "text/plain": [
              "0.99999999999681"
            ]
          },
          "metadata": {},
          "execution_count": 19
        }
      ]
    },
    {
      "cell_type": "markdown",
      "source": [
        "67.\tРассмотрите эффекты, равные 0.2, 0.5, 0.8. Представьте их в виде массива numpy и запишите в переменную effect_sizes.\n",
        "68.\tРассмотрите объемы выборок от 5 до 100 наблюдений. Представьте их в виде массива numpy и запишите в переменную sample_sizes.\n",
        "69.\tИзобразите кривые мощности, показывающие зависимость между количеством наблюдений и мощностью, при различных величинах эффекта, воспользовавшись функцией plot_power(dep_var='nobs', nobs=sample_sizes, effect_size=effect_sizes) и функцией show() из модуля matplotlib.pyplot. Представьте и прокомментируйте результат.\n"
      ],
      "metadata": {
        "id": "9w7lUlMMO5pq"
      }
    },
    {
      "cell_type": "code",
      "source": [
        "effect_sizes = np.array[0.2, 0.5, 0.8]\n"
      ],
      "metadata": {
        "id": "nRew9cLsO8QK"
      },
      "execution_count": null,
      "outputs": []
    },
    {
      "cell_type": "markdown",
      "source": [
        "70.\tДля однофакторного дисперсионного анализа, включающего 5 групп, нужно найти размер групп, при котором мощность составляет 0.8, размер эффекта – 0.25 и уровень значимости – 0.05. Для однофакторного дисперсионного анализа величина эффекта отражена в параметре f, который рассчитывается по формуле:\n",
        "f=√((∑_(i=1)^k▒〖p_i (μ_i-μ)^2 〗)/σ^2 ),\n",
        "p_i=n_i/N,\n",
        "где k – число групп,\n",
        "n_i – размер выборки в группе i,\n",
        "N – общее число наблюдений,\n",
        "μ_i – среднее значение для группы i,\n",
        "μ – общее среднее,\n",
        "σ^2 – дисперсия ошибок внутри групп.\n",
        "71.\tСоздайте класс анализа мощности для сбалансированного однофакторного дисперсионного анализа с помощью функции FTestAnovaPower(). Результат запишите в переменную analysis.\n",
        "72.\tПроведите анализ мощности для поиска объема выборки, воспользовавшись функцией solve_power(effect_size=effect, nobs=None, alpha=alpha, k_groups=k, power=power). Прокомментируйте результат.\n"
      ],
      "metadata": {
        "id": "Tgjhqb7rO8uO"
      }
    },
    {
      "cell_type": "code",
      "source": [],
      "metadata": {
        "id": "7Vryy0VcO9uM"
      },
      "execution_count": null,
      "outputs": []
    }
  ]
}